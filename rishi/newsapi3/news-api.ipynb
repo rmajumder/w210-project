{
 "cells": [
  {
   "cell_type": "code",
   "execution_count": 1,
   "metadata": {},
   "outputs": [],
   "source": [
    "import json\n",
    "import requests\n",
    "from os import makedirs\n",
    "from os.path import join, exists\n",
    "from datetime import date, timedelta\n"
   ]
  },
  {
   "cell_type": "code",
   "execution_count": 5,
   "metadata": {},
   "outputs": [],
   "source": [
    "\n",
    "def get_news_by_date_range(query_terms, get_field, query_fields, show_fields, start_date, end_date):\n",
    "\n",
    "    ARTICLES_DIR = join('data', 'articles-n')\n",
    "    makedirs(ARTICLES_DIR, exist_ok=True)\n",
    "\n",
    "    MY_API_KEY = open(\"creds_news_api.txt\").read().strip()\n",
    "    API_ENDPOINT = 'http://newsapi.org/v2/top-headlines'\n",
    "    my_params = {\n",
    "        'sources': 'fox-news',\n",
    "        'from': \"\",\n",
    "        'to': \"\",\n",
    "        'orderBy': \"popularity\",\n",
    "        'show-fields': show_fields,\n",
    "        'q': query_terms,\n",
    "        'query-fields': query_fields,\n",
    "        'category': 'general',\n",
    "        'pageSize': 100,\n",
    "        'apiKey': MY_API_KEY\n",
    "    }\n",
    "\n",
    "    # day iteration from here:\n",
    "    # http://stackoverflow.com/questions/7274267/print-all-day-dates-between-two-dates\n",
    "    \n",
    "    dayrange = range((end_date - start_date).days + 1)\n",
    "    \n",
    "    for daycount in dayrange:\n",
    "        dt = start_date + timedelta(days=daycount)\n",
    "        datestr = dt.strftime('%Y-%m-%d')\n",
    "        fname = join(ARTICLES_DIR, datestr + '.json')\n",
    "        if not exists(fname):\n",
    "            # then let's download it\n",
    "            print(\"Downloading\", datestr)\n",
    "            all_results = []\n",
    "            my_params['from'] = datestr\n",
    "            my_params['to'] = datestr\n",
    "            current_page = 1\n",
    "            total_pages = 1\n",
    "            while current_page <= total_pages:\n",
    "                print(\"...page\", current_page)\n",
    "                my_params['page'] = current_page\n",
    "                resp = requests.get(API_ENDPOINT, my_params)\n",
    "                data = resp.json()\n",
    "                \n",
    "                print(data)\n",
    "                \n",
    "                #all_results.extend(data['response']['results'])\n",
    "                for result in data['response']['results']:\n",
    "\n",
    "                    if(len(result['fields'][get_field]) > 0):\n",
    "                        print(result['fields'][get_field])\n",
    "                        all_results.append(result['fields'][get_field])\n",
    "\n",
    "                # if there is more than one page\n",
    "                current_page += 1\n",
    "                total_pages = data['response']['pages']\n",
    "\n",
    "            with open(fname, 'w') as f:\n",
    "                print(\"Writing to\", fname)\n",
    "\n",
    "                # re-serialize it for pretty indentation\n",
    "                f.write(json.dumps(all_results, indent=2))"
   ]
  },
  {
   "cell_type": "code",
   "execution_count": 6,
   "metadata": {},
   "outputs": [
    {
     "name": "stdout",
     "output_type": "stream",
     "text": [
      "Downloading 2020-06-02\n",
      "...page 1\n",
      "{'status': 'error', 'code': 'parametersIncompatible', 'message': 'You cannot mix the sources parameter with the country or category parameters.'}\n"
     ]
    },
    {
     "ename": "KeyError",
     "evalue": "'response'",
     "output_type": "error",
     "traceback": [
      "\u001b[0;31m---------------------------------------------------------------------------\u001b[0m",
      "\u001b[0;31mKeyError\u001b[0m                                  Traceback (most recent call last)",
      "\u001b[0;32m<ipython-input-6-385f291a22bd>\u001b[0m in \u001b[0;36m<module>\u001b[0;34m\u001b[0m\n\u001b[1;32m      1\u001b[0m get_news_by_date_range('(President OR Election) AND Trump', 'headline', 'headline', 'headline',\n\u001b[0;32m----> 2\u001b[0;31m                        date(2020, 6, 2), date(2020, 6, 2))\n\u001b[0m",
      "\u001b[0;32m<ipython-input-5-240886c318bc>\u001b[0m in \u001b[0;36mget_news_by_date_range\u001b[0;34m(query_terms, get_field, query_fields, show_fields, start_date, end_date)\u001b[0m\n\u001b[1;32m     45\u001b[0m \u001b[0;34m\u001b[0m\u001b[0m\n\u001b[1;32m     46\u001b[0m                 \u001b[0;31m#all_results.extend(data['response']['results'])\u001b[0m\u001b[0;34m\u001b[0m\u001b[0;34m\u001b[0m\u001b[0;34m\u001b[0m\u001b[0m\n\u001b[0;32m---> 47\u001b[0;31m                 \u001b[0;32mfor\u001b[0m \u001b[0mresult\u001b[0m \u001b[0;32min\u001b[0m \u001b[0mdata\u001b[0m\u001b[0;34m[\u001b[0m\u001b[0;34m'response'\u001b[0m\u001b[0;34m]\u001b[0m\u001b[0;34m[\u001b[0m\u001b[0;34m'results'\u001b[0m\u001b[0;34m]\u001b[0m\u001b[0;34m:\u001b[0m\u001b[0;34m\u001b[0m\u001b[0;34m\u001b[0m\u001b[0m\n\u001b[0m\u001b[1;32m     48\u001b[0m \u001b[0;34m\u001b[0m\u001b[0m\n\u001b[1;32m     49\u001b[0m                     \u001b[0;32mif\u001b[0m\u001b[0;34m(\u001b[0m\u001b[0mlen\u001b[0m\u001b[0;34m(\u001b[0m\u001b[0mresult\u001b[0m\u001b[0;34m[\u001b[0m\u001b[0;34m'fields'\u001b[0m\u001b[0;34m]\u001b[0m\u001b[0;34m[\u001b[0m\u001b[0mget_field\u001b[0m\u001b[0;34m]\u001b[0m\u001b[0;34m)\u001b[0m \u001b[0;34m>\u001b[0m \u001b[0;36m0\u001b[0m\u001b[0;34m)\u001b[0m\u001b[0;34m:\u001b[0m\u001b[0;34m\u001b[0m\u001b[0;34m\u001b[0m\u001b[0m\n",
      "\u001b[0;31mKeyError\u001b[0m: 'response'"
     ]
    }
   ],
   "source": [
    "get_news_by_date_range('(President OR Election) AND Trump', 'headline', 'headline', 'headline',\n",
    "                       date(2020, 6, 2), date(2020, 6, 2))"
   ]
  },
  {
   "cell_type": "code",
   "execution_count": null,
   "metadata": {},
   "outputs": [],
   "source": []
  },
  {
   "cell_type": "code",
   "execution_count": null,
   "metadata": {},
   "outputs": [],
   "source": []
  },
  {
   "cell_type": "code",
   "execution_count": 2,
   "metadata": {},
   "outputs": [
    {
     "name": "stdout",
     "output_type": "stream",
     "text": [
      "{'status': 'ok', 'totalResults': 38, 'articles': [{'source': {'id': 'cnn', 'name': 'CNN'}, 'author': 'Leah Asmelash, CNN', 'title': \"Washington's new Black Lives Matter street mural is captured in satellite image - CNN\", 'description': \"Washington's new BLACK LIVES MATTER mural is so huge, you can see it from space.\", 'url': 'https://www.cnn.com/2020/06/06/us/black-lives-matter-dc-street-mural-space-trnd/index.html', 'urlToImage': 'https://cdn.cnn.com/cnnnext/dam/assets/200606144518-black-lives-matter-dc-street-space-trnd-super-tease.jpg', 'publishedAt': '2020-06-06T20:03:00Z', 'content': \"(CNN)Washington's new BLACK LIVES MATTER street mural is so huge, you can see it from space.\\r\\nNew satellite images from Planet Labs clearly show the bright yellow message amid the gray Lego-looking b… [+662 chars]\"}, {'source': {'id': None, 'name': 'YouTube'}, 'author': None, 'title': 'Destiny 2 Almighty Explosion Live Event | Kotaku - Kotaku', 'description': \"For real check out this huge explosion in Destiny 2 from the Almighty Explosion Live Event. For context on this event, read Ethan Gach's write-up for it on t...\", 'url': 'https://www.youtube.com/watch?v=-SnWmRdTvZc', 'urlToImage': 'https://i.ytimg.com/vi/-SnWmRdTvZc/maxresdefault.jpg', 'publishedAt': '2020-06-06T19:39:50Z', 'content': \"For real check out this huge explosion in Destiny 2 from the Almighty Explosion Live Event. For context on this event, read Ethan Gach's write-up for it on the site: https://kotaku.com/giant-space-sh… [+6 chars]\"}, {'source': {'id': None, 'name': 'New York Post'}, 'author': 'Laura Italiano', 'title': \"Thousands of mourners assemble outside George Floyd's private funeral - New York Post \", 'description': 'Saturday’s 3 p.m. funeral for George Floyd will be a private, friends and family service at a North Carolina conference center — but mourners numbering in the thousands have been gathering ou…', 'url': 'https://nypost.com/2020/06/06/north-carolina-funeral-for-george-floyd-draws-thousands/', 'urlToImage': 'https://thenypost.files.wordpress.com/2020/06/floyd-funeral-5.jpg?quality=90&strip=all&w=1200', 'publishedAt': '2020-06-06T19:36:29Z', 'content': 'Saturday’s 3 p.m. funeral for George Floyd will be a private, friends and family service at a North Carolina conference center but mourners numbering in the thousands have been gathering outside for … [+938 chars]'}, {'source': {'id': None, 'name': 'Showbiz Cheat Sheet'}, 'author': 'Eryn Murphy', 'title': \"'The Bachelorette': Becca Kufrin Assures Fans That 'Conversations Are Being Had' With Garrett Yrigoyen About Black Lives Matter - Showbiz Cheat Sheet\", 'description': \"After Garrett Yrigoyen's controversial Instagram post supporting police officers, Becca Kufrin reassured fans they are discussing Black Lives Matter.\", 'url': 'https://www.cheatsheet.com/entertainment/the-bachelorette-becca-kufrin-conversations-garrett-yrigoyen-black-lives-matter-police-officers.html/', 'urlToImage': 'https://www.cheatsheet.com/wp-content/uploads/2020/06/Becca-Kufrin-Garrett-Yrigoyen.jpg', 'publishedAt': '2020-06-06T18:50:01Z', 'content': 'For fans of The Bachelorette who were upset by Garrett Yrigoyen’s recent Instagram post, it seems Becca Kufrin is handling the situation. On her Instagram story, Kufrin told fans that “conversations … [+5530 chars]'}, {'source': {'id': None, 'name': 'New York Times'}, 'author': 'Stanley Reed', 'title': 'OPEC and Russia Agree to Extend Oil Production Cuts - The New York Times', 'description': 'The original deal would have allowed increases starting next month. The new pact reflects producers’ concerns that the oil market could fall apart again.', 'url': 'https://www.nytimes.com/2020/06/06/business/energy-environment/opec-russia-oil-coronavirus.html', 'urlToImage': 'https://static01.nyt.com/images/2020/06/06/us/politics/06opec/06opex-facebookJumbo.jpg', 'publishedAt': '2020-06-06T18:39:47Z', 'content': 'That contributed to the crash in oil prices in late April, with West Texas Intermediate crude, the American standard, falling into negative territory, while Brent crude, the international benchmark, … [+7450 chars]'}, {'source': {'id': None, 'name': 'The Guardian'}, 'author': 'Josh Wood', 'title': \"'She should be with us': Louisville protesters remember Breonna Taylor - The Guardian\", 'description': 'People gathered to mourn the unarmed black woman shot dead by police in March – and vowed to never give up in the fight for justice', 'url': 'https://www.theguardian.com/us-news/2020/jun/06/breonna-taylor-louisville-protest-george-floyd', 'urlToImage': 'https://i.guim.co.uk/img/media/af17b429be8743b77b1fbc12741f5de62b0e6a59/0_182_5472_3283/master/5472.jpg?width=1200&height=630&quality=85&auto=format&fit=crop&overlay-align=bottom%2Cleft&overlay-width=100p&overlay-base64=L2ltZy9zdGF0aWMvb3ZlcmxheXMvdGctZGVmYXVsdC5wbmc&enable=upscale&s=1da6f2e874d428e09d82decda91e69f1', 'publishedAt': '2020-06-06T18:39:00Z', 'content': 'Breonna Taylor would have been 27 on Friday, but most of the people who showed up in downtown Louisville to mark that milestone did not know her. A lot probably wish they had never heard her name.\\r\\nI… [+5496 chars]'}, {'source': {'id': 'usa-today', 'name': 'USA Today'}, 'author': 'Rasha Ali', 'title': \"'I can't stand to see this punk in office': Snoop Dogg on voting for the first time in 2020 - USA TODAY\", 'description': \"Snoop Dogg said he'll be voting for the first time this November after being lead to believe he couldn't vote due to his criminal history.\", 'url': 'https://www.usatoday.com/story/entertainment/celebrities/2020/06/06/snoop-dogg-says-2020-elections-first-time-he-votes/3163823001/', 'urlToImage': 'https://www.gannett-cdn.com/-mm-/81d2fe65dd2818b6f4f8968041dbc69294459c46/c=0-30-640-390/local/-/media/2020/04/23/USATODAY/usatsports/snoop-dogg-tbc.jpg?width=1600&height=800&fit=crop', 'publishedAt': '2020-06-06T18:38:46Z', 'content': \"Stars of Harmony Korine's movie 'The Beach Bum,' Isla Fisher and Jimmy Buffett, share their experiences of working with co-star Snoop Dogg. (March 29)\\r\\nAP Domestic\\r\\nSnoop Dogg revealed that he's neve… [+2281 chars]\"}, {'source': {'id': 'fox-news', 'name': 'Fox News'}, 'author': 'Paulina Dedaj', 'title': \"Steelers' Alejandro Villanueva blames media for Drew Brees fallout: 'unbelievably divisive right now' - Fox News\", 'description': \"Pittsburgh Steelers’ Alejandro Villanueva blames the media for the controversy surrounding Drew Brees' remarks against kneeling during the national anthem this week, believing that the comment was taken out of context.\", 'url': 'https://www.foxnews.com/sports/steelers-alejandro-villanueva-blames-media-drew-brees', 'urlToImage': 'https://static.foxnews.com/foxnews.com/content/uploads/2018/09/2d2f59e7-villanueva.jpg', 'publishedAt': '2020-06-06T18:19:32Z', 'content': \"Pittsburgh Steelers’ Alejandro Villanueva blames the media for the controversy surrounding Drew Brees' remarks against kneeling during the national anthem this week, believing that the comment was ta… [+2114 chars]\"}, {'source': {'id': 'reuters', 'name': 'Reuters'}, 'author': 'Aidan Lewis', 'title': 'Egypt offers new Libya plan as Haftar offensive collapses - Reuters', 'description': \"Libya's internationally recognised government attempted new advances on Saturday against the forces of retreating eastern commander Khalifa Haftar, who stood by in Cairo as his ally, Egyptian President Abdel Fattah al-Sisi, proposed a ceasefire.\", 'url': 'https://www.reuters.com/article/us-libya-security-idUSKBN23D0KK', 'urlToImage': 'https://s4.reutersmedia.net/resources_v2/images/rcom-default.png', 'publishedAt': '2020-06-06T18:05:04Z', 'content': 'CAIRO (Reuters) - Libya’s internationally recognised government attempted new advances on Saturday against the forces of retreating eastern commander Khalifa Haftar, who stood by in Cairo as his ally… [+3750 chars]'}, {'source': {'id': 'cnn', 'name': 'CNN'}, 'author': 'Analysis by Zachary B. Wolf, CNN', 'title': \"Trump just showed us what he'll be like after the election -- no matter what happens - CNN\", 'description': \"The past week and its showcase of President Donald Trump's erratic behavior offered a window into how he would deal with defeat.\", 'url': 'https://www.cnn.com/2020/06/06/politics/what-matters-june-5/index.html', 'urlToImage': 'https://cdn.cnn.com/cnnnext/dam/assets/200601124932-01-trump-0529-super-tease.jpg', 'publishedAt': '2020-06-06T17:42:49Z', 'content': None}, {'source': {'id': 'independent', 'name': 'Independent'}, 'author': 'Louise Boyle', 'title': \"Ivanka Trump complains of 'cancel culture' after Kansas college drops her speech - The Independent\", 'description': \"'Inviting\\xa0Ivanka\\xa0Trump to speak right now sends the message that\\xa0Wichita State University\\xa0Tech does not take diversity seriously' wrote one protester\", 'url': 'https://www.independent.co.uk/news/ivanka-trump-cancel-speech-college-wichita-kansas-a9552681.html', 'urlToImage': 'https://static.independent.co.uk/s3fs-public/thumbnails/image/2020/01/08/10/pri116946527.jpg', 'publishedAt': '2020-06-06T17:19:49Z', 'content': 'The Independent employs over 100 journalists around the world to bring you news you can trust. Please consider a contribution or subscription.\\r\\nA Kansas technical school cancelled plans for Ivanka Tr… [+3014 chars]'}, {'source': {'id': None, 'name': 'Cosmopolitan.com'}, 'author': 'Mehera  Bonner', 'title': \"'Vanderpump Rules' Star Faith Stowers Says Stassi Schroeder and Kristen Doute Called the Cops on Her - Yahoo Lifestyle\", 'description': 'Several brands have responded by cutting ties with Stassi.', 'url': 'https://www.cosmopolitan.com/entertainment/celebs/a32788196/faith-stowers-stassi-schroeder-kristen-doute-cops-vanderpump-rules/', 'urlToImage': 'https://hips.hearstapps.com/hmg-prod.s3.amazonaws.com/images/kingfaithhope-69028440-190952998590690-6472842145940800091-n-1591460946.jpg?crop=1.00xw:0.402xh;0,0.130xh&resize=1200:*', 'publishedAt': '2020-06-06T17:19:00Z', 'content': '<ul><li>Faith Stowers says Stassi Schroeder and Kristen Doute called the police on her during Vanderpump Rules.</li><li>Several brands have since ended their partnerships with Stassi. </li></ul><ol><… [+2536 chars]'}, {'source': {'id': None, 'name': 'New York Times'}, 'author': 'Roni Caryn Rabin', 'title': 'How to Navigate Your Community Reopening? Remember the Four C’s - The New York Times', 'description': 'Close contact, confined spaces, crowds, choices — these are the considerations to ponder now.', 'url': 'https://www.nytimes.com/2020/06/06/health/virus-reopenings.html', 'urlToImage': 'https://static01.nyt.com/images/2020/06/05/science/00VIRUS-REOPENING1/00VIRUS-REOPENING1-facebookJumbo.jpg', 'publishedAt': '2020-06-06T16:51:11Z', 'content': 'Indoor activities in confined enclosed spaces, even large ones, are more conducive to spreading the virus than events held outside, especially if the air inside the building is being recirculated or … [+1285 chars]'}, {'source': {'id': None, 'name': 'Yahoo Entertainment'}, 'author': 'Sam Cooper', 'title': \"Former Iowa football players speak out about program's culture: 'Black players have been treated unfairly for far too long' - Yahoo Sports\", 'description': 'Many former Iowa football players detailed negative interactions with coaches and said they felt they could not be themselves inside the walls of the football facility.', 'url': 'https://sports.yahoo.com/former-iowa-football-players-speak-out-about-programs-culture-black-players-have-been-treated-unfairly-for-far-too-long-165129296.html', 'urlToImage': 'https://s.yimg.com/uu/api/res/1.2/_t9GJSUPLMNoNOiZY_zNtA--~B/aD0yMTE0O3c9MzE5NztzbT0xO2FwcGlkPXl0YWNoeW9u/https://media-mbst-pub-ue1.s3.amazonaws.com/creatr-images/2020-06/2be18140-a815-11ea-a7ff-0b21fcd3d4ad', 'publishedAt': '2020-06-06T16:51:00Z', 'content': 'Many former football players at the University of Iowa are speaking out about some of the negative experiences they had during their time playing in Iowa City.\\xa0\\r\\nThe players, most of whom are black, … [+9438 chars]'}, {'source': {'id': None, 'name': 'The Times of Israel'}, 'author': None, 'title': \"Rare 'strawberry moon' lights up sky in Israel and around world - The Times of Israel\", 'description': 'Earth comes between sun and moon, casting a shadow on the latter and causing a penumbral lunar eclipse Friday night', 'url': 'https://www.timesofisrael.com/rare-strawberry-moon-lights-up-sky-in-israel-and-around-world/', 'urlToImage': 'https://static.timesofisrael.com/www/uploads/2020/06/000_1SY5LW-1024x640.jpg', 'publishedAt': '2020-06-06T16:47:42Z', 'content': 'Skies in Israel and around much of the globe were lit up Friday night with what is affectionately known as a “strawberry moon.”\\r\\nThe name for the penumbral lunar eclipse comes from the full moon’s re… [+635 chars]'}, {'source': {'id': None, 'name': 'Motley Fool'}, 'author': 'Keith Speights', 'title': '3 Top Biotech Stocks to Buy in June - Motley Fool', 'description': 'They have one big thing in common: great growth prospects.', 'url': 'https://www.fool.com/investing/2020/06/06/3-top-biotech-stocks-to-buy-in-june.aspx', 'urlToImage': 'https://g.foolcdn.com/editorial/images/576931/3-test-tubes.jpg', 'publishedAt': '2020-06-06T16:29:00Z', 'content': \"Investors seeking to beat the market should take a long and hard look at biotech stocks. That's especially true during times when there's a lot of uncertainty for the economy and the stock market -- … [+4544 chars]\"}, {'source': {'id': 'al-jazeera-english', 'name': 'Al Jazeera English'}, 'author': 'Ali MC', 'title': \"Thousands protest Indigenous Australians' death in police custody - Al Jazeera English\", 'description': 'Protesters across Australia call for justice for Aboriginal Australians who have died at the hands of police.', 'url': 'https://www.aljazeera.com/news/2020/06/thousands-protest-indigenous-australians-death-police-custody-200606133640874.html', 'urlToImage': 'https://www.aljazeera.com/mritems/Images/2020/6/6/4bd0d566fc9541c6b9692f44c432475a_18.jpg', 'publishedAt': '2020-06-06T16:24:29Z', 'content': 'Tens of thousands of people protested across Australia in support of the Black Lives Matter movement while also\\xa0addressing the deaths of Indigenous Australians in custody or at the hands of the polic… [+3777 chars]'}, {'source': {'id': 'cnn', 'name': 'CNN'}, 'author': 'Leah Asmelash, CNN', 'title': \"Best moments from CNN and Sesame Street's town hall on racism for kids and parents - CNN\", 'description': 'CNN partnered with \"Sesame Street\" for a special town hall about racism, giving both kids and parents an opportunity to explore the current moment the nation is living through and to understand how these issues affect people.', 'url': 'https://www.cnn.com/2020/06/06/us/cnn-sesame-street-town-hall-racism-trnd/index.html', 'urlToImage': 'https://cdn.cnn.com/cnnnext/dam/assets/200606104412-elmo-louie-split-cnn-town-hall-super-tease.jpg', 'publishedAt': '2020-06-06T16:21:00Z', 'content': '(CNN)CNN partnered with \"Sesame Street\" for a special town hall about racism, giving both kids and parents an opportunity to explore the current moment the nation is living through and to understand … [+3184 chars]'}, {'source': {'id': 'cbs-news', 'name': 'CBS News'}, 'author': 'Caroline Linton', 'title': '\"We were wrong,\" NFL Commissioner Roger Goodell says - CBS News', 'description': 'The statement comes amid nationwide protests over the death of George Floyd\\u200b, but also years of controversy when the NFL refused to support Colin Kaepernick\\u200b and other players who knelt in protest over police brutality.', 'url': 'https://www.cbsnews.com/news/nfl-roger-goodell-video-apology-colin-kaepernick-protests-george-floyd-2020-06-06/', 'urlToImage': 'https://cbsnews1.cbsistatic.com/hub/i/r/2019/01/30/ec436bff-a80e-4caa-9f98-fcc307cb1864/thumbnail/1200x630g2/bf92bee18a40ba60119bff01151ee235/rogergoodell.jpg', 'publishedAt': '2020-06-06T16:18:31Z', 'content': 'NFL Commissioner Roger Goodell issued a video statement\\xa0on Friday saying \"we were wrong for not listening to NFL players earlier\" who were protesting police brutality. The statement comes amid nation… [+3320 chars]'}, {'source': {'id': None, 'name': 'CNBC'}, 'author': 'Reuters', 'title': 'Buffalo police officers who pushed elderly man await arraignment as supporters gather outside court - CNBC', 'description': 'Hundreds of law enforcement officers gathered outside two Buffalo courthouses on Saturday in support of two police officers expected to be arraigned on criminal charges for shoving an elderly protestor to the ground at a march against racism.', 'url': 'https://www.cnbc.com/2020/06/06/buffalo-police-await-arraignment-as-supporters-gather-outside-court.html', 'urlToImage': 'https://image.cnbcfm.com/api/v1/image/106567992-1591460113749ap_20157180182145.jpg?v=1591460243', 'publishedAt': '2020-06-06T16:18:00Z', 'content': 'Hundreds of law enforcement officers gathered outside two\\xa0Buffalo\\xa0courthouses on Saturday in support of two police officers expected to be arraigned on criminal charges for shoving an elderly protest… [+2324 chars]'}]}\n"
     ]
    }
   ],
   "source": [
    "MY_API_KEY = open(\"creds_news_api.txt\").read().strip()\n",
    "\n",
    "url = ('http://newsapi.org/v2/top-headlines?'\n",
    "       'country=us&'\n",
    "       'apiKey=' + MY_API_KEY)\n",
    "response = requests.get(url)\n",
    "print(response.json())"
   ]
  },
  {
   "cell_type": "code",
   "execution_count": 3,
   "metadata": {},
   "outputs": [],
   "source": [
    "\n",
    "url = ('http://newsapi.org/v2/everything?'\n",
    "       'q=US Presidential Election&'\n",
    "       'from=2020-05-30&'\n",
    "       'sortBy=popularity&'\n",
    "       'apiKey=' + MY_API_KEY)\n",
    "\n",
    "response = requests.get(url)\n"
   ]
  },
  {
   "cell_type": "code",
   "execution_count": 4,
   "metadata": {},
   "outputs": [
    {
     "name": "stdout",
     "output_type": "stream",
     "text": [
      "{'status': 'ok', 'totalResults': 1410, 'articles': [{'source': {'id': 'techcrunch', 'name': 'TechCrunch'}, 'author': 'Natasha Lomas', 'title': 'Zoom faces criticism for denying free users e2e encryption', 'description': 'What price privacy? Zoom is facing a fresh security storm after CEO Eric Yuan confirmed that a plan to reboot its battered security cred by (actually) implementing end-to-end encryption does not in fact extend to providing this level of security to non-paying…', 'url': 'http://techcrunch.com/2020/06/03/zooms-privacy-premium/', 'urlToImage': 'https://techcrunch.com/wp-content/uploads/2020/04/GettyImages-1208677869.jpg?w=600', 'publishedAt': '2020-06-03T13:16:53Z', 'content': 'What price privacy? Zoom is facing a fresh security storm after CEO Eric Yuan confirmed that a plan to reboot its battered security cred by (actually) implementing end-to-end encryption does not in f… [+7157 chars]'}, {'source': {'id': None, 'name': 'Gizmodo.com'}, 'author': 'George Dvorsky', 'title': 'NASA Astronaut Calls Out ‘Propaganda’ in Space-Themed Trump Ad That Broke NASA Rules', 'description': 'Donald Trump’s re-election campaign team has removed a political ad, titled “Make Space Great Again,” after the U.S. president was accused of falsely taking credit for the recently completed SpaceX Demo-2 launch and possibly for violating NASA ad regulations.…', 'url': 'https://gizmodo.com/nasa-astronaut-calls-out-propaganda-in-space-themed-t-1843920974', 'urlToImage': 'https://i.kinja-img.com/gawker-media/image/upload/c_fill,f_auto,fl_progressive,g_center,h_675,pg_1,q_80,w_1200/dsgq6djnfmguuoh1tbys.png', 'publishedAt': '2020-06-05T15:50:00Z', 'content': 'Donald Trumps re-election campaign team has removed a political ad, titled Make Space Great Again, after the U.S. president was accused of falsely taking credit for the recently completed SpaceX Demo… [+3993 chars]'}, {'source': {'id': 'bbc-news', 'name': 'BBC News'}, 'author': 'https://www.facebook.com/bbcnews', 'title': \"Carly Fiorina's journey from secretary to CEO\", 'description': 'The US entrepreneur started her business career answering the phone, and went on to lead Hewlett-Packard.', 'url': 'https://www.bbc.co.uk/news/business-52820298', 'urlToImage': 'https://ichef.bbci.co.uk/news/1024/branded_news/10F6A/production/_112528496_gettyimages-1167954498.jpg', 'publishedAt': '2020-05-31T23:02:04Z', 'content': \"Image copyrightGetty ImagesImage caption\\r\\n Carly Fiorina now spends most of her time on her philanthropy work\\r\\nThe BBC's weekly The Boss series profiles different business leaders from around the wor… [+7305 chars]\"}, {'source': {'id': 'bbc-news', 'name': 'BBC News'}, 'author': 'https://www.facebook.com/bbcnews', 'title': 'Joe Biden formally wins Democratic nomination to take on Trump', 'description': 'Joe Biden passes the 1,991 delegate threshold and will take on Donald Trump in November.', 'url': 'https://www.bbc.co.uk/news/world-us-canada-52946789', 'urlToImage': 'https://ichef.bbci.co.uk/news/1024/branded_news/17D26/production/_112747579_061816473-1.jpg', 'publishedAt': '2020-06-06T06:45:13Z', 'content': \"Image copyrightReutersImage caption\\r\\n This is Joe Biden's third attempt to win the presidency\\r\\nJoe Biden has formally won the Democratic Party nomination to take on Donald Trump in November's preside… [+2503 chars]\"}, {'source': {'id': None, 'name': 'BBC News'}, 'author': 'https://www.facebook.com/bbcnews', 'title': 'Coronavirus: Trump faces backlash after US quits WHO', 'description': 'The president is urged to reconsider, after accusing the health body of being a \"puppet of China\".', 'url': 'https://www.bbc.com/news/world-us-canada-52862588', 'urlToImage': 'https://ichef.bbci.co.uk/news/1024/branded_news/15B7C/production/_112565988_061690025-1.jpg', 'publishedAt': '2020-05-30T14:51:42Z', 'content': 'Image copyrightAFPImage caption\\r\\n The US has been the largest single contributor to the WHO\\r\\nPresident Donald Trump has been criticised at home and abroad after pulling the US out of the World Health… [+4202 chars]'}, {'source': {'id': 'cnn', 'name': 'CNN'}, 'author': 'Grace Sparks', 'title': 'CNN Poll of Polls finds Biden leading Trump', 'description': 'A new CNN Poll of Polls shows 51% of registered voters nationwide back former Vice President Joe Biden, while 42% support President Donald Trump in the 2020 presidential race.', 'url': 'https://www.cnn.com/2020/06/05/politics/cnn-poll-of-polls-may-trump-biden/index.html', 'urlToImage': 'https://cdn.cnn.com/cnnnext/dam/assets/200520142132-biden-trump-split-super-tease.jpg', 'publishedAt': '2020-06-05T16:28:09Z', 'content': '(CNN)A new CNN Poll of Polls shows 51% of registered voters nationwide back former Vice President Joe Biden, while 42% support President Donald Trump in the 2020 presidential race.\\r\\nThe poll of polls… [+1960 chars]'}, {'source': {'id': 'cnn', 'name': 'CNN'}, 'author': 'Analysis by Stephen Collinson, CNN', 'title': \"Analysis: Trump has walled himself off from America's conversation on racism\", 'description': 'Part of America is tiptoeing toward an uncomfortable self-examination about race. But President Donald Trump, bunkered down in his fortress behind high fences now ringing the White House, is spurning a building wave of national reflection.', 'url': 'https://www.cnn.com/2020/06/05/politics/trump-racism-american-conversation/index.html', 'urlToImage': 'https://cdn.cnn.com/cnnnext/dam/assets/200604230103-01-donald-trump-0530-super-tease.jpg', 'publishedAt': '2020-06-05T04:01:55Z', 'content': '(CNN)Part of America is tiptoeing toward an uncomfortable self-examination about race. But President Donald Trump, bunkered down in his fortress behind high fences now ringing the White House, is spu… [+8008 chars]'}, {'source': {'id': 'reuters', 'name': 'Reuters'}, 'author': 'Reuters Editorial', 'title': 'Kremlin rejects idea floated by Obama-era security advisor it stoked U.S. protests', 'description': 'The Kremlin on Monday rejected accusations it had played any role in protests rocking the United States, after former U.S. National Security Advisor Susan Rice raised the possibility of Russian involvement.', 'url': 'https://www.reuters.com/article/us-minneapolis-police-protests-russia-idUSKBN2382KW', 'urlToImage': 'https://s4.reutersmedia.net/resources/r/?m=02&d=20200601&t=2&i=1520642778&w=1200&r=LYNXMPEG5023Y', 'publishedAt': '2020-06-01T13:02:06Z', 'content': 'MOSCOW (Reuters) - The Kremlin on Monday rejected accusations it had played any role in protests rocking the United States, after former U.S. National Security Advisor Susan Rice raised the possibili… [+1456 chars]'}, {'source': {'id': 'reuters', 'name': 'Reuters'}, 'author': 'Jonathan Ernst', 'title': \"U.S. protesters, angry at Floyd's death, defy curfew but violence subsides\", 'description': 'U.S. protesters ignored curfews overnight as they vented their anger over the death of an unarmed black man at the hands of police, but there was a marked drop in the violence that prompted President Donald Trump to threaten to deploy the military.', 'url': 'https://www.reuters.com/article/us-minneapolis-police-protests-idUSKBN23A1FY', 'urlToImage': 'https://s1.reutersmedia.net/resources/r/?m=02&d=20200603&t=2&i=1520909667&w=1200&r=LYNXMPEG520XA', 'publishedAt': '2020-06-03T10:18:08Z', 'content': 'WASHINGTON/MINNEAPOLIS (Reuters) - U.S. protesters ignored curfews overnight as they vented their anger over the death of an unarmed black man at the hands of police, but there was a marked drop in t… [+4861 chars]'}, {'source': {'id': None, 'name': 'Theguardian.comglobal-development'}, 'author': 'Hannah Summers', 'title': 'Voice of defiance: the Mexican radio journalist who refused to be silenced', 'description': 'Carmen Arestegui’s battle to stay on the airwaves is the subject of a film highlighting the risks of exposing corruption and crimeWhen Mexican news anchor Carmen Aristegui was fired from a popular radio show after revealing a presidential scandal on air, it s…', 'url': 'https://amp.theguardian.comglobal-development/2020/jun/02/voice-of-defiance-the-mexican-radio-journalist-who-refused-to-be-silenced', 'urlToImage': 'https://i.guim.co.uk/img/media/0dc2a43b3a1773925bfbccd4e3449a7da2dbc74d/0_0_1800_1080/master/1800.jpg?width=1200&height=630&quality=85&auto=format&fit=crop&overlay-align=bottom%2Cleft&overlay-width=100p&overlay-base64=L2ltZy9zdGF0aWMvb3ZlcmxheXMvdGctZGVmYXVsdC5wbmc&enable=upscale&s=cbaf485947f1335d9ca12764e0252870', 'publishedAt': '2020-06-02T10:30:07Z', 'content': 'When Mexican news anchor Carmen Aristegui was fired from a popular radio show after revealing a presidential scandal on air, it sparked an outpouring of anger and protests.\\r\\nFor millions of listeners… [+5238 chars]'}, {'source': {'id': None, 'name': 'CNET'}, 'author': 'Queenie Wong', 'title': \"Snapchat will no longer promote content from Trump's account - CNET\", 'description': 'The company said it won\\'t \"amplify voices who incite racial violence and injustice.\"', 'url': 'https://www.cnet.com/news/snapchat-will-no-longer-promote-content-from-trumps-account/', 'urlToImage': 'https://cnet4.cbsistatic.com/img/aDktr3QyWmgi9ZrZpwlIv1Sc6LE=/756x567/2019/07/25/e374ca7d-8d20-420a-9bd0-fd6b53b03b54/snapchat-logo-1.jpg', 'publishedAt': '2020-06-03T17:51:58Z', 'content': \"Snap is the latest social media company to take action against content from President Donald Trump.\\xa0\\r\\nAngela Lang/CNET\\r\\nSnap said Wednesday that it will no longer promote President Donald Trump's Sna… [+3117 chars]\"}, {'source': {'id': None, 'name': 'CNET'}, 'author': 'Queenie Wong', 'title': 'Snapchat is the latest social network to take on Trump - CNET', 'description': \"The company says it will no longer promote content from Trump's account.\", 'url': 'https://www.cnet.com/news/snapchat-is-the-latest-social-network-to-take-on-trump/', 'urlToImage': 'https://cnet4.cbsistatic.com/img/aDktr3QyWmgi9ZrZpwlIv1Sc6LE=/756x567/2019/07/25/e374ca7d-8d20-420a-9bd0-fd6b53b03b54/snapchat-logo-1.jpg', 'publishedAt': '2020-06-03T18:46:00Z', 'content': \"Snap is the latest social media company to take action against content from President Donald Trump.\\xa0\\r\\nAngela Lang/CNET\\r\\nSnap said Wednesday that it will no longer promote President Donald Trump's Sna… [+4332 chars]\"}, {'source': {'id': None, 'name': 'CNET'}, 'author': 'Dara Kerr', 'title': 'Amid George Floyd protests, social media is weaponizing misinformation - CNET', 'description': 'Confusion runs rampant on Twitter and Facebook.', 'url': 'https://www.cnet.com/news/amid-george-floyd-protests-social-media-is-weaponizing-misinformation/', 'urlToImage': 'https://cnet3.cbsistatic.com/img/yeAVM5LPiueP_mU79pc6JTiQHMI=/756x567/2020/06/01/2383e2eb-37e8-43e4-9f27-40fde68587cf/12-george-floyd-murder-police-racism-protest-blacklivesmatter-asheville-north-carolina.jpg', 'publishedAt': '2020-06-03T12:00:22Z', 'content': 'A makeshift memorial has been set up where Patrick Underwood was killed in a drive-by shooting.\\r\\nDara Kerr/CNET\\r\\nBouquets of brightly colored flowers and prayer candles rest at the door of a small wi… [+13132 chars]'}, {'source': {'id': 'business-insider', 'name': 'Business Insider'}, 'author': 'feedback@businessinsider.com (Saloni Sardana), Saloni Sardana', 'title': 'Global stocks pull back from gains on reports China is halting key agricultural imports such as soybean from the US', 'description': \"Andy Wong/AP Photo\\n<ul>\\n<li>Most stocks rose in early hours of trading on Monday as investors cheered Trump's dovish response on Hong Kong but reports that China is halting some soybean purchases from US reversed those gains.</li>\\n<li>Bloomberg reported China…\", 'url': 'https://www.businessinsider.com/stock-market-news-us-china-soybeans-trump-hongkong-china-pmi-2020-5', 'urlToImage': 'https://images.markets.businessinsider.com/image/5ed4ae8baee6a8554a2f7c53-1440/donaldtrumpchinatradewar.jpg', 'publishedAt': '2020-06-01T10:40:17Z', 'content': 'Andy Wong/AP Photo\\r\\nStocks reversed earlier gains after major state-owned Chinese agricultural companies have reportedly halted purchases of US products including soybeans and pork, Bloomberg reporte… [+5246 chars]'}, {'source': {'id': 'business-insider', 'name': 'Business Insider'}, 'author': 'feedback@businessinsider.com (Michael Gordon), Michael Gordon', 'title': 'Democrats can retake the Senate in a landslide — if they seize the chance', 'description': \"(AP Photo/J. Scott Applewhite)\\n<ul>\\n<li>2020 could be the year Democrats win the Senate.\\xa0</li>\\n<li>Democrats in the upper chamber hold 47 seats to the Republicans' 53 – but at least eight GOP seats could flip blue.</li>\\n<li>Winning the Senate could be the key…\", 'url': 'https://www.businessinsider.com/democrats-can-retake-senate-if-they-dont-blow-it-2020-5', 'urlToImage': 'https://i.insider.com/5ed180ba3ad861428535abb3?width=1200&format=jpeg', 'publishedAt': '2020-05-31T13:18:00Z', 'content': \"Business Insider\\r\\nIf you're a fan of progress, science and the rule of law, the Democrats have a rare opportunity this year. They have controlled both ends of Pennsylvania Avenue for just two of the … [+4191 chars]\"}, {'source': {'id': None, 'name': 'NPR'}, 'author': 'Joanna Kakissis', 'title': 'After Unprecedented Strains With Longtime Friend U.S., Kosovo Has A New Government', 'description': 'Albin Kurti, ousted as prime minister in March, clashed with the U.S. envoy who is tasked with encouraging peace talks between Kosovo and Serbia. Kurti refused to drop tariffs on Serbian goods.', 'url': 'https://www.npr.org/2020/06/06/863771374/after-unprecedented-strains-with-longtime-friend-u-s-kosovo-has-a-new-government', 'urlToImage': 'https://media.npr.org/assets/img/2020/06/05/ap_20155440577796_wide-551c41cc6131391aff532e434db16363066b64ba.jpg?s=1400', 'publishedAt': '2020-06-06T14:53:00Z', 'content': 'Newly elected prime minister Avdullah Hoti (center) walks out of the parliament building in the capital Pristina, on Wednesday.\\r\\nVisar Kryeziu/AP\\r\\nAlbin Kurti became prime minister of Kosovo in Febru… [+7969 chars]'}, {'source': {'id': 'business-insider', 'name': 'Business Insider'}, 'author': 'Grace Panetta', 'title': 'LIVE UPDATES: See the full results of the June 2 presidential and congressional primaries', 'description': '<ul>\\n<li>Today, nine states and the District of Columbia are holding presidential, congressional, or other down-ballot primaries.</li>\\n<li>Indiana, DC, Maryland, Montana, New Mexico, Pennsylvania, Rhode Island, and South Dakota are holding presidential primar…', 'url': 'https://www.businessinsider.com/june-2-presidential-congressional-primaries-live-results-vote-counts-2020-6', 'urlToImage': 'https://i.insider.com/5ed54219f34d052aa271c934?width=1200&format=jpeg', 'publishedAt': '2020-06-02T14:17:52Z', 'content': \"What's at stake:\\r\\nSen. Bernie Sanders officially dropped out of the presidential primary on April 8, making former Vice President Joe Biden the presumptive Democratic nominee.\\r\\nThough Sanders will st… [+6182 chars]\"}, {'source': {'id': 'business-insider', 'name': 'Business Insider'}, 'author': 'Grace Panetta', 'title': \"Attorney General William Barr floats an implausible theory that foreign countries could interfere in the 2020 election by mass producing 'counterfeit ballots'\", 'description': '<ul>\\n<li>Attorney General William Barr floated an implausible theory that foreign adversaries will try to interfere in the 2020 election by making and sending out \"counterfeit ballots\" to voters.\\xa0</li>\\n<li>The theory that foreign adversaries would print out f…', 'url': 'https://www.businessinsider.com/ag-barr-floats-theory-that-foreign-countries-could-make-counterfeit-ballots-2020-6', 'urlToImage': 'https://i.insider.com/5ed4ff553ad861022c154952?width=1200&format=jpeg', 'publishedAt': '2020-06-01T14:51:41Z', 'content': 'Attorney General William Barr floated a highly implausible theory that foreign adversaries will try to interfere in the 2020 election by making and sending out \"counterfeit ballots\" to voters.\\xa0\\r\\nIn a… [+5389 chars]'}, {'source': {'id': 'business-insider', 'name': 'Business Insider'}, 'author': 'Carmen Reinicke', 'title': \"Goldman Sachs sees a rising possibility of a 'blue wave' in the November elections, which poses a risk to corporate profitability and dividends\", 'description': '<ul>\\n<li>Goldman Sachs sees an increased possibility of a \"blue wave\" in the November elections, which could impact corporate profits and dividends.\\xa0</li>\\n<li>That could lead to a partial or full reversal of the Tax Cuts and Jobs Act corporate tax reform legi…', 'url': 'https://www.businessinsider.com/november-election-odds-goldman-sachs-increased-possibility-blue-wave-profits-2020-6', 'urlToImage': 'https://i.insider.com/5ed915423f737075157dfe54?width=1200&format=jpeg', 'publishedAt': '2020-06-05T14:41:28Z', 'content': '<ul><li>Goldman Sachs sees an increased possibility of a \"blue wave\" in the November elections, which could impact corporate profits and dividends.\\xa0</li><li>That could lead to a partial or full rever… [+2251 chars]'}, {'source': {'id': 'business-insider', 'name': 'Business Insider'}, 'author': 'John Haltiwanger', 'title': \"Trump is hiding from the country while it's on fire\", 'description': '<ul>\\n<li>President Donald Trump has been absent as a leader amid a national crisis, refusing to directly address the country as major cities are consumed by unrest over the police killing of George Floyd.\\xa0</li>\\n<li>Trump hid in a White House bunker amid prote…', 'url': 'https://www.businessinsider.com/trump-absent-leader-during-national-crisis-hides-in-bunker-tweets-2020-6', 'urlToImage': 'https://i.insider.com/5ed537a63ad86120ac715b47?width=1200&format=jpeg', 'publishedAt': '2020-06-01T18:27:15Z', 'content': 'Business Insider\\r\\nVirtually every major city in the US has been consumed by protests for nearly a week, following the brutal death of George Floyd after a police officer knelt on his neck for eight m… [+6796 chars]'}]}\n"
     ]
    }
   ],
   "source": [
    "print(response.json())"
   ]
  },
  {
   "cell_type": "code",
   "execution_count": null,
   "metadata": {},
   "outputs": [],
   "source": []
  }
 ],
 "metadata": {
  "kernelspec": {
   "display_name": "Python 3",
   "language": "python",
   "name": "python3"
  },
  "language_info": {
   "codemirror_mode": {
    "name": "ipython",
    "version": 3
   },
   "file_extension": ".py",
   "mimetype": "text/x-python",
   "name": "python",
   "nbconvert_exporter": "python",
   "pygments_lexer": "ipython3",
   "version": "3.7.3"
  }
 },
 "nbformat": 4,
 "nbformat_minor": 2
}
