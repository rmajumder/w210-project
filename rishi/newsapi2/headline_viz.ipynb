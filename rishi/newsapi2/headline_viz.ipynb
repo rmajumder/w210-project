{
 "cells": [
  {
   "cell_type": "code",
   "execution_count": 1,
   "metadata": {},
   "outputs": [],
   "source": [
    "import numpy as np # we will use this later, so import it now\n",
    "import pandas as pd\n",
    "from bokeh.io import output_notebook, show\n",
    "from bokeh.plotting import figure, output_file, show"
   ]
  },
  {
   "cell_type": "code",
   "execution_count": 2,
   "metadata": {},
   "outputs": [
    {
     "data": {
      "text/html": [
       "\n",
       "    <div class=\"bk-root\">\n",
       "        <a href=\"https://bokeh.org\" target=\"_blank\" class=\"bk-logo bk-logo-small bk-logo-notebook\"></a>\n",
       "        <span id=\"1001\">Loading BokehJS ...</span>\n",
       "    </div>"
      ]
     },
     "metadata": {},
     "output_type": "display_data"
    },
    {
     "data": {
      "application/javascript": [
       "\n",
       "(function(root) {\n",
       "  function now() {\n",
       "    return new Date();\n",
       "  }\n",
       "\n",
       "  var force = true;\n",
       "\n",
       "  if (typeof root._bokeh_onload_callbacks === \"undefined\" || force === true) {\n",
       "    root._bokeh_onload_callbacks = [];\n",
       "    root._bokeh_is_loading = undefined;\n",
       "  }\n",
       "\n",
       "  var JS_MIME_TYPE = 'application/javascript';\n",
       "  var HTML_MIME_TYPE = 'text/html';\n",
       "  var EXEC_MIME_TYPE = 'application/vnd.bokehjs_exec.v0+json';\n",
       "  var CLASS_NAME = 'output_bokeh rendered_html';\n",
       "\n",
       "  /**\n",
       "   * Render data to the DOM node\n",
       "   */\n",
       "  function render(props, node) {\n",
       "    var script = document.createElement(\"script\");\n",
       "    node.appendChild(script);\n",
       "  }\n",
       "\n",
       "  /**\n",
       "   * Handle when an output is cleared or removed\n",
       "   */\n",
       "  function handleClearOutput(event, handle) {\n",
       "    var cell = handle.cell;\n",
       "\n",
       "    var id = cell.output_area._bokeh_element_id;\n",
       "    var server_id = cell.output_area._bokeh_server_id;\n",
       "    // Clean up Bokeh references\n",
       "    if (id != null && id in Bokeh.index) {\n",
       "      Bokeh.index[id].model.document.clear();\n",
       "      delete Bokeh.index[id];\n",
       "    }\n",
       "\n",
       "    if (server_id !== undefined) {\n",
       "      // Clean up Bokeh references\n",
       "      var cmd = \"from bokeh.io.state import curstate; print(curstate().uuid_to_server['\" + server_id + \"'].get_sessions()[0].document.roots[0]._id)\";\n",
       "      cell.notebook.kernel.execute(cmd, {\n",
       "        iopub: {\n",
       "          output: function(msg) {\n",
       "            var id = msg.content.text.trim();\n",
       "            if (id in Bokeh.index) {\n",
       "              Bokeh.index[id].model.document.clear();\n",
       "              delete Bokeh.index[id];\n",
       "            }\n",
       "          }\n",
       "        }\n",
       "      });\n",
       "      // Destroy server and session\n",
       "      var cmd = \"import bokeh.io.notebook as ion; ion.destroy_server('\" + server_id + \"')\";\n",
       "      cell.notebook.kernel.execute(cmd);\n",
       "    }\n",
       "  }\n",
       "\n",
       "  /**\n",
       "   * Handle when a new output is added\n",
       "   */\n",
       "  function handleAddOutput(event, handle) {\n",
       "    var output_area = handle.output_area;\n",
       "    var output = handle.output;\n",
       "\n",
       "    // limit handleAddOutput to display_data with EXEC_MIME_TYPE content only\n",
       "    if ((output.output_type != \"display_data\") || (!output.data.hasOwnProperty(EXEC_MIME_TYPE))) {\n",
       "      return\n",
       "    }\n",
       "\n",
       "    var toinsert = output_area.element.find(\".\" + CLASS_NAME.split(' ')[0]);\n",
       "\n",
       "    if (output.metadata[EXEC_MIME_TYPE][\"id\"] !== undefined) {\n",
       "      toinsert[toinsert.length - 1].firstChild.textContent = output.data[JS_MIME_TYPE];\n",
       "      // store reference to embed id on output_area\n",
       "      output_area._bokeh_element_id = output.metadata[EXEC_MIME_TYPE][\"id\"];\n",
       "    }\n",
       "    if (output.metadata[EXEC_MIME_TYPE][\"server_id\"] !== undefined) {\n",
       "      var bk_div = document.createElement(\"div\");\n",
       "      bk_div.innerHTML = output.data[HTML_MIME_TYPE];\n",
       "      var script_attrs = bk_div.children[0].attributes;\n",
       "      for (var i = 0; i < script_attrs.length; i++) {\n",
       "        toinsert[toinsert.length - 1].firstChild.setAttribute(script_attrs[i].name, script_attrs[i].value);\n",
       "        toinsert[toinsert.length - 1].firstChild.textContent = bk_div.children[0].textContent\n",
       "      }\n",
       "      // store reference to server id on output_area\n",
       "      output_area._bokeh_server_id = output.metadata[EXEC_MIME_TYPE][\"server_id\"];\n",
       "    }\n",
       "  }\n",
       "\n",
       "  function register_renderer(events, OutputArea) {\n",
       "\n",
       "    function append_mime(data, metadata, element) {\n",
       "      // create a DOM node to render to\n",
       "      var toinsert = this.create_output_subarea(\n",
       "        metadata,\n",
       "        CLASS_NAME,\n",
       "        EXEC_MIME_TYPE\n",
       "      );\n",
       "      this.keyboard_manager.register_events(toinsert);\n",
       "      // Render to node\n",
       "      var props = {data: data, metadata: metadata[EXEC_MIME_TYPE]};\n",
       "      render(props, toinsert[toinsert.length - 1]);\n",
       "      element.append(toinsert);\n",
       "      return toinsert\n",
       "    }\n",
       "\n",
       "    /* Handle when an output is cleared or removed */\n",
       "    events.on('clear_output.CodeCell', handleClearOutput);\n",
       "    events.on('delete.Cell', handleClearOutput);\n",
       "\n",
       "    /* Handle when a new output is added */\n",
       "    events.on('output_added.OutputArea', handleAddOutput);\n",
       "\n",
       "    /**\n",
       "     * Register the mime type and append_mime function with output_area\n",
       "     */\n",
       "    OutputArea.prototype.register_mime_type(EXEC_MIME_TYPE, append_mime, {\n",
       "      /* Is output safe? */\n",
       "      safe: true,\n",
       "      /* Index of renderer in `output_area.display_order` */\n",
       "      index: 0\n",
       "    });\n",
       "  }\n",
       "\n",
       "  // register the mime type if in Jupyter Notebook environment and previously unregistered\n",
       "  if (root.Jupyter !== undefined) {\n",
       "    var events = require('base/js/events');\n",
       "    var OutputArea = require('notebook/js/outputarea').OutputArea;\n",
       "\n",
       "    if (OutputArea.prototype.mime_types().indexOf(EXEC_MIME_TYPE) == -1) {\n",
       "      register_renderer(events, OutputArea);\n",
       "    }\n",
       "  }\n",
       "\n",
       "  \n",
       "  if (typeof (root._bokeh_timeout) === \"undefined\" || force === true) {\n",
       "    root._bokeh_timeout = Date.now() + 5000;\n",
       "    root._bokeh_failed_load = false;\n",
       "  }\n",
       "\n",
       "  var NB_LOAD_WARNING = {'data': {'text/html':\n",
       "     \"<div style='background-color: #fdd'>\\n\"+\n",
       "     \"<p>\\n\"+\n",
       "     \"BokehJS does not appear to have successfully loaded. If loading BokehJS from CDN, this \\n\"+\n",
       "     \"may be due to a slow or bad network connection. Possible fixes:\\n\"+\n",
       "     \"</p>\\n\"+\n",
       "     \"<ul>\\n\"+\n",
       "     \"<li>re-rerun `output_notebook()` to attempt to load from CDN again, or</li>\\n\"+\n",
       "     \"<li>use INLINE resources instead, as so:</li>\\n\"+\n",
       "     \"</ul>\\n\"+\n",
       "     \"<code>\\n\"+\n",
       "     \"from bokeh.resources import INLINE\\n\"+\n",
       "     \"output_notebook(resources=INLINE)\\n\"+\n",
       "     \"</code>\\n\"+\n",
       "     \"</div>\"}};\n",
       "\n",
       "  function display_loaded() {\n",
       "    var el = document.getElementById(\"1001\");\n",
       "    if (el != null) {\n",
       "      el.textContent = \"BokehJS is loading...\";\n",
       "    }\n",
       "    if (root.Bokeh !== undefined) {\n",
       "      if (el != null) {\n",
       "        el.textContent = \"BokehJS \" + root.Bokeh.version + \" successfully loaded.\";\n",
       "      }\n",
       "    } else if (Date.now() < root._bokeh_timeout) {\n",
       "      setTimeout(display_loaded, 100)\n",
       "    }\n",
       "  }\n",
       "\n",
       "\n",
       "  function run_callbacks() {\n",
       "    try {\n",
       "      root._bokeh_onload_callbacks.forEach(function(callback) {\n",
       "        if (callback != null)\n",
       "          callback();\n",
       "      });\n",
       "    } finally {\n",
       "      delete root._bokeh_onload_callbacks\n",
       "    }\n",
       "    console.debug(\"Bokeh: all callbacks have finished\");\n",
       "  }\n",
       "\n",
       "  function load_libs(css_urls, js_urls, callback) {\n",
       "    if (css_urls == null) css_urls = [];\n",
       "    if (js_urls == null) js_urls = [];\n",
       "\n",
       "    root._bokeh_onload_callbacks.push(callback);\n",
       "    if (root._bokeh_is_loading > 0) {\n",
       "      console.debug(\"Bokeh: BokehJS is being loaded, scheduling callback at\", now());\n",
       "      return null;\n",
       "    }\n",
       "    if (js_urls == null || js_urls.length === 0) {\n",
       "      run_callbacks();\n",
       "      return null;\n",
       "    }\n",
       "    console.debug(\"Bokeh: BokehJS not loaded, scheduling load and callback at\", now());\n",
       "    root._bokeh_is_loading = css_urls.length + js_urls.length;\n",
       "\n",
       "    function on_load() {\n",
       "      root._bokeh_is_loading--;\n",
       "      if (root._bokeh_is_loading === 0) {\n",
       "        console.debug(\"Bokeh: all BokehJS libraries/stylesheets loaded\");\n",
       "        run_callbacks()\n",
       "      }\n",
       "    }\n",
       "\n",
       "    function on_error() {\n",
       "      console.error(\"failed to load \" + url);\n",
       "    }\n",
       "\n",
       "    for (var i = 0; i < css_urls.length; i++) {\n",
       "      var url = css_urls[i];\n",
       "      const element = document.createElement(\"link\");\n",
       "      element.onload = on_load;\n",
       "      element.onerror = on_error;\n",
       "      element.rel = \"stylesheet\";\n",
       "      element.type = \"text/css\";\n",
       "      element.href = url;\n",
       "      console.debug(\"Bokeh: injecting link tag for BokehJS stylesheet: \", url);\n",
       "      document.body.appendChild(element);\n",
       "    }\n",
       "\n",
       "    const hashes = {\"https://cdn.bokeh.org/bokeh/release/bokeh-2.1.1.min.js\": \"kLr4fYcqcSpbuI95brIH3vnnYCquzzSxHPU6XGQCIkQRGJwhg0StNbj1eegrHs12\", \"https://cdn.bokeh.org/bokeh/release/bokeh-widgets-2.1.1.min.js\": \"xIGPmVtaOm+z0BqfSOMn4lOR6ciex448GIKG4eE61LsAvmGj48XcMQZtKcE/UXZe\", \"https://cdn.bokeh.org/bokeh/release/bokeh-tables-2.1.1.min.js\": \"Dc9u1wF/0zApGIWoBbH77iWEHtdmkuYWG839Uzmv8y8yBLXebjO9ZnERsde5Ln/P\", \"https://cdn.bokeh.org/bokeh/release/bokeh-gl-2.1.1.min.js\": \"cT9JaBz7GiRXdENrJLZNSC6eMNF3nh3fa5fTF51Svp+ukxPdwcU5kGXGPBgDCa2j\"};\n",
       "\n",
       "    for (var i = 0; i < js_urls.length; i++) {\n",
       "      var url = js_urls[i];\n",
       "      var element = document.createElement('script');\n",
       "      element.onload = on_load;\n",
       "      element.onerror = on_error;\n",
       "      element.async = false;\n",
       "      element.src = url;\n",
       "      if (url in hashes) {\n",
       "        element.crossOrigin = \"anonymous\";\n",
       "        element.integrity = \"sha384-\" + hashes[url];\n",
       "      }\n",
       "      console.debug(\"Bokeh: injecting script tag for BokehJS library: \", url);\n",
       "      document.head.appendChild(element);\n",
       "    }\n",
       "  };\n",
       "\n",
       "  function inject_raw_css(css) {\n",
       "    const element = document.createElement(\"style\");\n",
       "    element.appendChild(document.createTextNode(css));\n",
       "    document.body.appendChild(element);\n",
       "  }\n",
       "\n",
       "  \n",
       "  var js_urls = [\"https://cdn.bokeh.org/bokeh/release/bokeh-2.1.1.min.js\", \"https://cdn.bokeh.org/bokeh/release/bokeh-widgets-2.1.1.min.js\", \"https://cdn.bokeh.org/bokeh/release/bokeh-tables-2.1.1.min.js\", \"https://cdn.bokeh.org/bokeh/release/bokeh-gl-2.1.1.min.js\"];\n",
       "  var css_urls = [];\n",
       "  \n",
       "\n",
       "  var inline_js = [\n",
       "    function(Bokeh) {\n",
       "      Bokeh.set_log_level(\"info\");\n",
       "    },\n",
       "    function(Bokeh) {\n",
       "    \n",
       "    \n",
       "    }\n",
       "  ];\n",
       "\n",
       "  function run_inline_js() {\n",
       "    \n",
       "    if (root.Bokeh !== undefined || force === true) {\n",
       "      \n",
       "    for (var i = 0; i < inline_js.length; i++) {\n",
       "      inline_js[i].call(root, root.Bokeh);\n",
       "    }\n",
       "    if (force === true) {\n",
       "        display_loaded();\n",
       "      }} else if (Date.now() < root._bokeh_timeout) {\n",
       "      setTimeout(run_inline_js, 100);\n",
       "    } else if (!root._bokeh_failed_load) {\n",
       "      console.log(\"Bokeh: BokehJS failed to load within specified timeout.\");\n",
       "      root._bokeh_failed_load = true;\n",
       "    } else if (force !== true) {\n",
       "      var cell = $(document.getElementById(\"1001\")).parents('.cell').data().cell;\n",
       "      cell.output_area.append_execute_result(NB_LOAD_WARNING)\n",
       "    }\n",
       "\n",
       "  }\n",
       "\n",
       "  if (root._bokeh_is_loading === 0) {\n",
       "    console.debug(\"Bokeh: BokehJS loaded, going straight to plotting\");\n",
       "    run_inline_js();\n",
       "  } else {\n",
       "    load_libs(css_urls, js_urls, function() {\n",
       "      console.debug(\"Bokeh: BokehJS plotting callback run at\", now());\n",
       "      run_inline_js();\n",
       "    });\n",
       "  }\n",
       "}(window));"
      ],
      "application/vnd.bokehjs_load.v0+json": "\n(function(root) {\n  function now() {\n    return new Date();\n  }\n\n  var force = true;\n\n  if (typeof root._bokeh_onload_callbacks === \"undefined\" || force === true) {\n    root._bokeh_onload_callbacks = [];\n    root._bokeh_is_loading = undefined;\n  }\n\n  \n\n  \n  if (typeof (root._bokeh_timeout) === \"undefined\" || force === true) {\n    root._bokeh_timeout = Date.now() + 5000;\n    root._bokeh_failed_load = false;\n  }\n\n  var NB_LOAD_WARNING = {'data': {'text/html':\n     \"<div style='background-color: #fdd'>\\n\"+\n     \"<p>\\n\"+\n     \"BokehJS does not appear to have successfully loaded. If loading BokehJS from CDN, this \\n\"+\n     \"may be due to a slow or bad network connection. Possible fixes:\\n\"+\n     \"</p>\\n\"+\n     \"<ul>\\n\"+\n     \"<li>re-rerun `output_notebook()` to attempt to load from CDN again, or</li>\\n\"+\n     \"<li>use INLINE resources instead, as so:</li>\\n\"+\n     \"</ul>\\n\"+\n     \"<code>\\n\"+\n     \"from bokeh.resources import INLINE\\n\"+\n     \"output_notebook(resources=INLINE)\\n\"+\n     \"</code>\\n\"+\n     \"</div>\"}};\n\n  function display_loaded() {\n    var el = document.getElementById(\"1001\");\n    if (el != null) {\n      el.textContent = \"BokehJS is loading...\";\n    }\n    if (root.Bokeh !== undefined) {\n      if (el != null) {\n        el.textContent = \"BokehJS \" + root.Bokeh.version + \" successfully loaded.\";\n      }\n    } else if (Date.now() < root._bokeh_timeout) {\n      setTimeout(display_loaded, 100)\n    }\n  }\n\n\n  function run_callbacks() {\n    try {\n      root._bokeh_onload_callbacks.forEach(function(callback) {\n        if (callback != null)\n          callback();\n      });\n    } finally {\n      delete root._bokeh_onload_callbacks\n    }\n    console.debug(\"Bokeh: all callbacks have finished\");\n  }\n\n  function load_libs(css_urls, js_urls, callback) {\n    if (css_urls == null) css_urls = [];\n    if (js_urls == null) js_urls = [];\n\n    root._bokeh_onload_callbacks.push(callback);\n    if (root._bokeh_is_loading > 0) {\n      console.debug(\"Bokeh: BokehJS is being loaded, scheduling callback at\", now());\n      return null;\n    }\n    if (js_urls == null || js_urls.length === 0) {\n      run_callbacks();\n      return null;\n    }\n    console.debug(\"Bokeh: BokehJS not loaded, scheduling load and callback at\", now());\n    root._bokeh_is_loading = css_urls.length + js_urls.length;\n\n    function on_load() {\n      root._bokeh_is_loading--;\n      if (root._bokeh_is_loading === 0) {\n        console.debug(\"Bokeh: all BokehJS libraries/stylesheets loaded\");\n        run_callbacks()\n      }\n    }\n\n    function on_error() {\n      console.error(\"failed to load \" + url);\n    }\n\n    for (var i = 0; i < css_urls.length; i++) {\n      var url = css_urls[i];\n      const element = document.createElement(\"link\");\n      element.onload = on_load;\n      element.onerror = on_error;\n      element.rel = \"stylesheet\";\n      element.type = \"text/css\";\n      element.href = url;\n      console.debug(\"Bokeh: injecting link tag for BokehJS stylesheet: \", url);\n      document.body.appendChild(element);\n    }\n\n    const hashes = {\"https://cdn.bokeh.org/bokeh/release/bokeh-2.1.1.min.js\": \"kLr4fYcqcSpbuI95brIH3vnnYCquzzSxHPU6XGQCIkQRGJwhg0StNbj1eegrHs12\", \"https://cdn.bokeh.org/bokeh/release/bokeh-widgets-2.1.1.min.js\": \"xIGPmVtaOm+z0BqfSOMn4lOR6ciex448GIKG4eE61LsAvmGj48XcMQZtKcE/UXZe\", \"https://cdn.bokeh.org/bokeh/release/bokeh-tables-2.1.1.min.js\": \"Dc9u1wF/0zApGIWoBbH77iWEHtdmkuYWG839Uzmv8y8yBLXebjO9ZnERsde5Ln/P\", \"https://cdn.bokeh.org/bokeh/release/bokeh-gl-2.1.1.min.js\": \"cT9JaBz7GiRXdENrJLZNSC6eMNF3nh3fa5fTF51Svp+ukxPdwcU5kGXGPBgDCa2j\"};\n\n    for (var i = 0; i < js_urls.length; i++) {\n      var url = js_urls[i];\n      var element = document.createElement('script');\n      element.onload = on_load;\n      element.onerror = on_error;\n      element.async = false;\n      element.src = url;\n      if (url in hashes) {\n        element.crossOrigin = \"anonymous\";\n        element.integrity = \"sha384-\" + hashes[url];\n      }\n      console.debug(\"Bokeh: injecting script tag for BokehJS library: \", url);\n      document.head.appendChild(element);\n    }\n  };\n\n  function inject_raw_css(css) {\n    const element = document.createElement(\"style\");\n    element.appendChild(document.createTextNode(css));\n    document.body.appendChild(element);\n  }\n\n  \n  var js_urls = [\"https://cdn.bokeh.org/bokeh/release/bokeh-2.1.1.min.js\", \"https://cdn.bokeh.org/bokeh/release/bokeh-widgets-2.1.1.min.js\", \"https://cdn.bokeh.org/bokeh/release/bokeh-tables-2.1.1.min.js\", \"https://cdn.bokeh.org/bokeh/release/bokeh-gl-2.1.1.min.js\"];\n  var css_urls = [];\n  \n\n  var inline_js = [\n    function(Bokeh) {\n      Bokeh.set_log_level(\"info\");\n    },\n    function(Bokeh) {\n    \n    \n    }\n  ];\n\n  function run_inline_js() {\n    \n    if (root.Bokeh !== undefined || force === true) {\n      \n    for (var i = 0; i < inline_js.length; i++) {\n      inline_js[i].call(root, root.Bokeh);\n    }\n    if (force === true) {\n        display_loaded();\n      }} else if (Date.now() < root._bokeh_timeout) {\n      setTimeout(run_inline_js, 100);\n    } else if (!root._bokeh_failed_load) {\n      console.log(\"Bokeh: BokehJS failed to load within specified timeout.\");\n      root._bokeh_failed_load = true;\n    } else if (force !== true) {\n      var cell = $(document.getElementById(\"1001\")).parents('.cell').data().cell;\n      cell.output_area.append_execute_result(NB_LOAD_WARNING)\n    }\n\n  }\n\n  if (root._bokeh_is_loading === 0) {\n    console.debug(\"Bokeh: BokehJS loaded, going straight to plotting\");\n    run_inline_js();\n  } else {\n    load_libs(css_urls, js_urls, function() {\n      console.debug(\"Bokeh: BokehJS plotting callback run at\", now());\n      run_inline_js();\n    });\n  }\n}(window));"
     },
     "metadata": {},
     "output_type": "display_data"
    }
   ],
   "source": [
    "output_notebook()"
   ]
  },
  {
   "cell_type": "code",
   "execution_count": 3,
   "metadata": {},
   "outputs": [],
   "source": [
    "def get_and_clean_data(path):\n",
    "    data = pd.read_csv(path)\n",
    "    #print(data.head())\n",
    "    #data = data.drop(['Unnamed: 0', 'Unnamed: 0.1', 'Unnamed: 0.1.1'], axis=1)\n",
    "    data['date'] = pd.to_datetime(data['date'].astype(str), errors='coerce')\n",
    "    return data"
   ]
  },
  {
   "cell_type": "code",
   "execution_count": 4,
   "metadata": {},
   "outputs": [],
   "source": [
    "def get_mean_scores_by_date(df):\n",
    "    df['date'] = df['date'].dt.date\n",
    "    df2 = df.groupby('date')['score'].mean().to_frame().reset_index()\n",
    "    return df2"
   ]
  },
  {
   "cell_type": "code",
   "execution_count": 5,
   "metadata": {},
   "outputs": [],
   "source": [
    "def get_plot_data(path):\n",
    "    df = get_and_clean_data(path)\n",
    "    df = get_mean_scores_by_date(df)\n",
    "    \n",
    "    return df[['date', 'score']]"
   ]
  },
  {
   "cell_type": "code",
   "execution_count": 8,
   "metadata": {},
   "outputs": [],
   "source": [
    "def plot_chart(rep_df, dem_df, rep_cand, dem_cand, title):\n",
    "    p = figure(x_axis_type=\"datetime\", title=title, plot_height=350, plot_width=900)\n",
    "    p.xgrid.grid_line_color=None\n",
    "    p.ygrid.grid_line_alpha=0.5\n",
    "    p.xaxis.axis_label = 'Date'\n",
    "    p.yaxis.axis_label = 'Sentiment Score'\n",
    "\n",
    "    p.line(rep_df.date, rep_df.score, line_color=\"red\", \n",
    "           line_width=4, line_alpha=0.6, \n",
    "           legend_label= rep_cand + ' (' + str(round(rep_df[\"score\"].mean(), 5)) + ')')\n",
    "    p.circle(rep_df.date, rep_df.score, fill_color=\"red\", size=5, color=\"red\")\n",
    "\n",
    "    p.line(dem_df.date, dem_df.score, line_color=\"blue\", \n",
    "           line_width=4, line_alpha=0.6, \n",
    "           legend_label= dem_cand + ' (' + str(round(df_biden[\"score\"].mean(), 5))  + ')')\n",
    "    p.circle(dem_df.date, dem_df.score, fill_color=\"blue\", size=5, color=\"blue\")\n",
    "\n",
    "    p.legend.location = \"bottom_right\"\n",
    "\n",
    "    show(p)"
   ]
  },
  {
   "cell_type": "code",
   "execution_count": 9,
   "metadata": {},
   "outputs": [
    {
     "data": {
      "text/html": [
       "\n",
       "\n",
       "\n",
       "\n",
       "\n",
       "\n",
       "  <div class=\"bk-root\" id=\"d62fcb63-687c-4a10-bc02-dce9f81c33a4\" data-root-id=\"1067\"></div>\n"
      ]
     },
     "metadata": {},
     "output_type": "display_data"
    },
    {
     "data": {
      "application/javascript": [
       "(function(root) {\n",
       "  function embed_document(root) {\n",
       "    \n",
       "  var docs_json = {\"600a0bc1-fe72-416b-8cf1-a8f522f2fee3\":{\"roots\":{\"references\":[{\"attributes\":{\"below\":[{\"id\":\"1078\"}],\"center\":[{\"id\":\"1081\"},{\"id\":\"1085\"},{\"id\":\"1125\"}],\"left\":[{\"id\":\"1082\"}],\"plot_height\":350,\"plot_width\":900,\"renderers\":[{\"id\":\"1103\"},{\"id\":\"1130\"},{\"id\":\"1135\"},{\"id\":\"1165\"}],\"title\":{\"id\":\"1068\"},\"toolbar\":{\"id\":\"1093\"},\"x_range\":{\"id\":\"1070\"},\"x_scale\":{\"id\":\"1074\"},\"y_range\":{\"id\":\"1072\"},\"y_scale\":{\"id\":\"1076\"}},\"id\":\"1067\",\"subtype\":\"Figure\",\"type\":\"Plot\"},{\"attributes\":{\"source\":{\"id\":\"1127\"}},\"id\":\"1131\",\"type\":\"CDSView\"},{\"attributes\":{\"mantissas\":[1,2,5],\"max_interval\":500.0,\"num_minor_ticks\":0},\"id\":\"1112\",\"type\":\"AdaptiveTicker\"},{\"attributes\":{},\"id\":\"1070\",\"type\":\"DataRange1d\"},{\"attributes\":{\"fill_alpha\":{\"value\":0.1},\"fill_color\":{\"value\":\"red\"},\"line_alpha\":{\"value\":0.1},\"line_color\":{\"value\":\"red\"},\"size\":{\"units\":\"screen\",\"value\":5},\"x\":{\"field\":\"x\"},\"y\":{\"field\":\"y\"}},\"id\":\"1129\",\"type\":\"Circle\"},{\"attributes\":{\"fill_color\":{\"value\":\"red\"},\"line_color\":{\"value\":\"red\"},\"size\":{\"units\":\"screen\",\"value\":5},\"x\":{\"field\":\"x\"},\"y\":{\"field\":\"y\"}},\"id\":\"1128\",\"type\":\"Circle\"},{\"attributes\":{},\"id\":\"1110\",\"type\":\"Selection\"},{\"attributes\":{\"base\":60,\"mantissas\":[1,2,5,10,15,20,30],\"max_interval\":1800000.0,\"min_interval\":1000.0,\"num_minor_ticks\":0},\"id\":\"1113\",\"type\":\"AdaptiveTicker\"},{\"attributes\":{},\"id\":\"1074\",\"type\":\"LinearScale\"},{\"attributes\":{\"base\":24,\"mantissas\":[1,2,4,6,8,12],\"max_interval\":43200000.0,\"min_interval\":3600000.0,\"num_minor_ticks\":0},\"id\":\"1114\",\"type\":\"AdaptiveTicker\"},{\"attributes\":{\"bottom_units\":\"screen\",\"fill_alpha\":0.5,\"fill_color\":\"lightgrey\",\"left_units\":\"screen\",\"level\":\"overlay\",\"line_alpha\":1.0,\"line_color\":\"black\",\"line_dash\":[4,4],\"line_width\":2,\"right_units\":\"screen\",\"top_units\":\"screen\"},\"id\":\"1092\",\"type\":\"BoxAnnotation\"},{\"attributes\":{},\"id\":\"1076\",\"type\":\"LinearScale\"},{\"attributes\":{},\"id\":\"1144\",\"type\":\"Selection\"},{\"attributes\":{\"days\":[1,2,3,4,5,6,7,8,9,10,11,12,13,14,15,16,17,18,19,20,21,22,23,24,25,26,27,28,29,30,31]},\"id\":\"1115\",\"type\":\"DaysTicker\"},{\"attributes\":{\"line_alpha\":0.1,\"line_color\":\"blue\",\"line_width\":4,\"x\":{\"field\":\"x\"},\"y\":{\"field\":\"y\"}},\"id\":\"1134\",\"type\":\"Line\"},{\"attributes\":{\"days\":[1,4,7,10,13,16,19,22,25,28]},\"id\":\"1116\",\"type\":\"DaysTicker\"},{\"attributes\":{\"axis_label\":\"Date\",\"formatter\":{\"id\":\"1107\"},\"ticker\":{\"id\":\"1079\"}},\"id\":\"1078\",\"type\":\"DatetimeAxis\"},{\"attributes\":{\"data_source\":{\"id\":\"1132\"},\"glyph\":{\"id\":\"1133\"},\"hover_glyph\":null,\"muted_glyph\":null,\"nonselection_glyph\":{\"id\":\"1134\"},\"selection_glyph\":null,\"view\":{\"id\":\"1136\"}},\"id\":\"1135\",\"type\":\"GlyphRenderer\"},{\"attributes\":{\"days\":[1,8,15,22]},\"id\":\"1117\",\"type\":\"DaysTicker\"},{\"attributes\":{\"num_minor_ticks\":5,\"tickers\":[{\"id\":\"1112\"},{\"id\":\"1113\"},{\"id\":\"1114\"},{\"id\":\"1115\"},{\"id\":\"1116\"},{\"id\":\"1117\"},{\"id\":\"1118\"},{\"id\":\"1119\"},{\"id\":\"1120\"},{\"id\":\"1121\"},{\"id\":\"1122\"},{\"id\":\"1123\"}]},\"id\":\"1079\",\"type\":\"DatetimeTicker\"},{\"attributes\":{\"source\":{\"id\":\"1132\"}},\"id\":\"1136\",\"type\":\"CDSView\"},{\"attributes\":{\"days\":[1,15]},\"id\":\"1118\",\"type\":\"DaysTicker\"},{\"attributes\":{\"axis\":{\"id\":\"1078\"},\"grid_line_color\":null,\"ticker\":null},\"id\":\"1081\",\"type\":\"Grid\"},{\"attributes\":{\"line_alpha\":0.6,\"line_color\":\"blue\",\"line_width\":4,\"x\":{\"field\":\"x\"},\"y\":{\"field\":\"y\"}},\"id\":\"1133\",\"type\":\"Line\"},{\"attributes\":{\"months\":[0,1,2,3,4,5,6,7,8,9,10,11]},\"id\":\"1119\",\"type\":\"MonthsTicker\"},{\"attributes\":{\"axis_label\":\"Sentiment Score\",\"formatter\":{\"id\":\"1109\"},\"ticker\":{\"id\":\"1083\"}},\"id\":\"1082\",\"type\":\"LinearAxis\"},{\"attributes\":{},\"id\":\"1146\",\"type\":\"Selection\"},{\"attributes\":{\"line_alpha\":0.1,\"line_color\":\"red\",\"line_width\":4,\"x\":{\"field\":\"x\"},\"y\":{\"field\":\"y\"}},\"id\":\"1102\",\"type\":\"Line\"},{\"attributes\":{\"months\":[0,2,4,6,8,10]},\"id\":\"1120\",\"type\":\"MonthsTicker\"},{\"attributes\":{},\"id\":\"1083\",\"type\":\"BasicTicker\"},{\"attributes\":{},\"id\":\"1147\",\"type\":\"UnionRenderers\"},{\"attributes\":{\"months\":[0,4,8]},\"id\":\"1121\",\"type\":\"MonthsTicker\"},{\"attributes\":{\"axis\":{\"id\":\"1082\"},\"dimension\":1,\"grid_line_alpha\":0.5,\"ticker\":null},\"id\":\"1085\",\"type\":\"Grid\"},{\"attributes\":{\"active_drag\":\"auto\",\"active_inspect\":\"auto\",\"active_multi\":null,\"active_scroll\":\"auto\",\"active_tap\":\"auto\",\"tools\":[{\"id\":\"1086\"},{\"id\":\"1087\"},{\"id\":\"1088\"},{\"id\":\"1089\"},{\"id\":\"1090\"},{\"id\":\"1091\"}]},\"id\":\"1093\",\"type\":\"Toolbar\"},{\"attributes\":{},\"id\":\"1107\",\"type\":\"DatetimeTickFormatter\"},{\"attributes\":{\"label\":{\"value\":\"Biden (1.87596)\"},\"renderers\":[{\"id\":\"1135\"}]},\"id\":\"1161\",\"type\":\"LegendItem\"},{\"attributes\":{},\"id\":\"1072\",\"type\":\"DataRange1d\"},{\"attributes\":{\"months\":[0,6]},\"id\":\"1122\",\"type\":\"MonthsTicker\"},{\"attributes\":{\"line_alpha\":0.6,\"line_color\":\"red\",\"line_width\":4,\"x\":{\"field\":\"x\"},\"y\":{\"field\":\"y\"}},\"id\":\"1101\",\"type\":\"Line\"},{\"attributes\":{\"data\":{\"x\":{\"__ndarray__\":\"AACA/4ITd0IAAEBl1RN3QgAAAMsnFHdCAADAMHoUd0IAAED8HhV3QgAAAGJxFXdCAADAx8MVd0IAAIAtFhZ3QgAAQJNoFndCAAAA+boWd0IAAMBeDRd3QgAAgMRfF3dCAABAKrIXd0IAAACQBBh3QgAAwPVWGHdCAABAwfsYd0IAAAAnThl3QgAAwIygGXdCAABAWEUad0IAAAC+lxp3QgAAwCPqGndCAACAiTwbd0IAAEDvjht3QgAAAFXhG3dCAADAujMcd0IAAIAghhx3QgAAQIbYHHdCAAAA7Codd0IAAIC3zx13QgAAQB0iHndCAAAAg3Qed0IAAMDoxh53QgAAgE4ZH3dCAABAtGsfd0IAAAAavh93QgAAwH8QIHdCAACA5WIgd0IAAEBLtSB3QgAAALEHIXdCAADAFlohd0IAAEDi/iF3QgAAAEhRIndCAADAraMid0IAAIAT9iJ3QgAAQHlII3dCAAAA35ojd0IAAMBE7SN3QgAAgKo/JHdCAABAEJIkd0IAAAB25CR3QgAAwNs2JXdCAACAQYkld0IAAECn2yV3QgAAAA0uJndCAACA2NImd0IAAEA+JSd3QgAAAKR3J3dCAADACcond0IAAIBvHCh3QgAAQNVuKHdCAADAoBMpd0IAAIAGZil3QgAAQGy4KXdCAAAA0goqd0IAAMA3XSp3QgAAgJ2vKndCAABAAwIrd0IAAABpVCt3QgAAwM6mK3dCAACANPkrd0IAAECaSyx3QgAAAACeLHdCAADAZfAsd0IAAIDLQi13QgAAQDGVLXdCAAAAl+ctd0IAAMD8OS53QgAAgGKMLndCAABAyN4ud0IAAAAuMS93QgAAwJODL3dCAACA+dUvd0IAAEBfKDB3QgAAAMV6MHdC\",\"dtype\":\"float64\",\"order\":\"little\",\"shape\":[84]},\"y\":{\"__ndarray__\":\"AAAAAAAA+D+rqqqqqqr6PwAAAAAAAABAAAAAAAAA8D+rqqqqqqoCQAAAAAAAAABAAAAAAAAAAkAAAAAAAAAAQAAAAAAAAABAAAAAAAAAAEAAAAAAAAAAQAAAAAAAAABAq6qqqqqq+j8AAAAAAAAAQAAAAAAAAABAAAAAAAAAAEAAAAAAAAAAQAAAAAAAAABAAAAAAAAAAEAAAAAAAAAAQKuqqqqqqvo/AAAAAAAAAEAAAAAAAAAAQAAAAAAAAPA/AAAAAAAAAEAAAAAAAAD4PwAAAAAAAPA/btu2bdu2/T8AAAAAAAAAQAAAAAAAAABAAAAAAAAAAEAAAAAAAAAAQAAAAAAAAPw/AAAAAAAA+D8AAAAAAAAAQAAAAAAAAABAAAAAAAAAAEAAAAAAAAAAQAAAAAAAAABAAAAAAAAA9D8AAAAAAAAAQAAAAAAAAABAAAAAAAAA8D8AAAAAAAAAQFVVVVVVVfU/AAAAAAAAAEAAAAAAAAAEQAAAAAAAAABAAAAAAAAAAkAAAAAAAADwP6uqqqqqqgJAAAAAAAAACEAAAAAAAAAAQAAAAAAAAABAAAAAAAAAAEAAAAAAAAAAQAAAAAAAAABAAAAAAAAAAEAAAAAAAADwPwAAAAAAAABAAAAAAAAAAEAAAAAAAAD4PwAAAAAAAPA/q6qqqqqq+j9u27Zt27b9PwAAAAAAAABAAAAAAAAAAEAAAAAAAAAAQAAAAAAAAPg/AAAAAAAAAEAAAAAAAAD8PwAAAAAAAABAAAAAAAAAAEAAAAAAAAD8PwAAAAAAAPg/AAAAAAAABECrqqqqqqoCQAAAAAAAAABAmpmZmZmZAUAAAAAAAAACQAAAAAAAAPw/AAAAAAAAAECrqqqqqqr6PwAAAAAAAABA\",\"dtype\":\"float64\",\"order\":\"little\",\"shape\":[84]}},\"selected\":{\"id\":\"1146\"},\"selection_policy\":{\"id\":\"1147\"}},\"id\":\"1132\",\"type\":\"ColumnDataSource\"},{\"attributes\":{},\"id\":\"1123\",\"type\":\"YearsTicker\"},{\"attributes\":{\"data\":{\"x\":{\"__ndarray__\":\"AACA/4ITd0IAAEBl1RN3QgAAAMsnFHdCAADAMHoUd0IAAED8HhV3QgAAAGJxFXdCAADAx8MVd0IAAIAtFhZ3QgAAQJNoFndCAAAA+boWd0IAAMBeDRd3QgAAgMRfF3dCAABAKrIXd0IAAACQBBh3QgAAwPVWGHdCAABAwfsYd0IAAAAnThl3QgAAwIygGXdCAABAWEUad0IAAAC+lxp3QgAAwCPqGndCAACAiTwbd0IAAEDvjht3QgAAAFXhG3dCAADAujMcd0IAAIAghhx3QgAAQIbYHHdCAAAA7Codd0IAAIC3zx13QgAAQB0iHndCAAAAg3Qed0IAAMDoxh53QgAAgE4ZH3dCAABAtGsfd0IAAAAavh93QgAAwH8QIHdCAACA5WIgd0IAAEBLtSB3QgAAALEHIXdCAADAFlohd0IAAEDi/iF3QgAAAEhRIndCAADAraMid0IAAIAT9iJ3QgAAQHlII3dCAAAA35ojd0IAAMBE7SN3QgAAgKo/JHdCAABAEJIkd0IAAAB25CR3QgAAwNs2JXdCAACAQYkld0IAAECn2yV3QgAAAA0uJndCAACA2NImd0IAAEA+JSd3QgAAAKR3J3dCAADACcond0IAAIBvHCh3QgAAQNVuKHdCAADAoBMpd0IAAIAGZil3QgAAQGy4KXdCAAAA0goqd0IAAMA3XSp3QgAAgJ2vKndCAABAAwIrd0IAAABpVCt3QgAAwM6mK3dCAACANPkrd0IAAECaSyx3QgAAAACeLHdCAADAZfAsd0IAAIDLQi13QgAAQDGVLXdCAAAAl+ctd0IAAMD8OS53QgAAgGKMLndCAABAyN4ud0IAAAAuMS93QgAAwJODL3dCAACA+dUvd0IAAEBfKDB3QgAAAMV6MHdC\",\"dtype\":\"float64\",\"order\":\"little\",\"shape\":[84]},\"y\":{\"__ndarray__\":\"AAAAAAAA+D+rqqqqqqr6PwAAAAAAAABAAAAAAAAA8D+rqqqqqqoCQAAAAAAAAABAAAAAAAAAAkAAAAAAAAAAQAAAAAAAAABAAAAAAAAAAEAAAAAAAAAAQAAAAAAAAABAq6qqqqqq+j8AAAAAAAAAQAAAAAAAAABAAAAAAAAAAEAAAAAAAAAAQAAAAAAAAABAAAAAAAAAAEAAAAAAAAAAQKuqqqqqqvo/AAAAAAAAAEAAAAAAAAAAQAAAAAAAAPA/AAAAAAAAAEAAAAAAAAD4PwAAAAAAAPA/btu2bdu2/T8AAAAAAAAAQAAAAAAAAABAAAAAAAAAAEAAAAAAAAAAQAAAAAAAAPw/AAAAAAAA+D8AAAAAAAAAQAAAAAAAAABAAAAAAAAAAEAAAAAAAAAAQAAAAAAAAABAAAAAAAAA9D8AAAAAAAAAQAAAAAAAAABAAAAAAAAA8D8AAAAAAAAAQFVVVVVVVfU/AAAAAAAAAEAAAAAAAAAEQAAAAAAAAABAAAAAAAAAAkAAAAAAAADwP6uqqqqqqgJAAAAAAAAACEAAAAAAAAAAQAAAAAAAAABAAAAAAAAAAEAAAAAAAAAAQAAAAAAAAABAAAAAAAAAAEAAAAAAAADwPwAAAAAAAABAAAAAAAAAAEAAAAAAAAD4PwAAAAAAAPA/q6qqqqqq+j9u27Zt27b9PwAAAAAAAABAAAAAAAAAAEAAAAAAAAAAQAAAAAAAAPg/AAAAAAAAAEAAAAAAAAD8PwAAAAAAAABAAAAAAAAAAEAAAAAAAAD8PwAAAAAAAPg/AAAAAAAABECrqqqqqqoCQAAAAAAAAABAmpmZmZmZAUAAAAAAAAACQAAAAAAAAPw/AAAAAAAAAECrqqqqqqr6PwAAAAAAAABA\",\"dtype\":\"float64\",\"order\":\"little\",\"shape\":[84]}},\"selected\":{\"id\":\"1178\"},\"selection_policy\":{\"id\":\"1179\"}},\"id\":\"1162\",\"type\":\"ColumnDataSource\"},{\"attributes\":{\"data_source\":{\"id\":\"1162\"},\"glyph\":{\"id\":\"1163\"},\"hover_glyph\":null,\"muted_glyph\":null,\"nonselection_glyph\":{\"id\":\"1164\"},\"selection_glyph\":null,\"view\":{\"id\":\"1166\"}},\"id\":\"1165\",\"type\":\"GlyphRenderer\"},{\"attributes\":{\"items\":[{\"id\":\"1126\"},{\"id\":\"1161\"}],\"location\":\"bottom_right\"},\"id\":\"1125\",\"type\":\"Legend\"},{\"attributes\":{\"source\":{\"id\":\"1100\"}},\"id\":\"1104\",\"type\":\"CDSView\"},{\"attributes\":{\"text\":\"Candidate Sentiment - 2020 - Last 90 Days\"},\"id\":\"1068\",\"type\":\"Title\"},{\"attributes\":{},\"id\":\"1086\",\"type\":\"PanTool\"},{\"attributes\":{\"label\":{\"value\":\"Trump (1.80435)\"},\"renderers\":[{\"id\":\"1103\"}]},\"id\":\"1126\",\"type\":\"LegendItem\"},{\"attributes\":{},\"id\":\"1091\",\"type\":\"HelpTool\"},{\"attributes\":{},\"id\":\"1178\",\"type\":\"Selection\"},{\"attributes\":{\"data_source\":{\"id\":\"1100\"},\"glyph\":{\"id\":\"1101\"},\"hover_glyph\":null,\"muted_glyph\":null,\"nonselection_glyph\":{\"id\":\"1102\"},\"selection_glyph\":null,\"view\":{\"id\":\"1104\"}},\"id\":\"1103\",\"type\":\"GlyphRenderer\"},{\"attributes\":{},\"id\":\"1087\",\"type\":\"WheelZoomTool\"},{\"attributes\":{},\"id\":\"1111\",\"type\":\"UnionRenderers\"},{\"attributes\":{\"data\":{\"x\":{\"__ndarray__\":\"AACALRYWd0IAAECTaBZ3QgAAgMRfF3dCAAAAvpcad0IAAICJPBt3QgAAQO+OG3dCAADAujMcd0IAAIAghhx3QgAAQB0iHndCAACA5WIgd0IAAIAT9iJ3QgAAQKfbJXdCAADAoBMpd0IAAIAGZil3QgAAANIKKndCAADAN10qd0IAAICdryp3QgAAQAMCK3dCAACANPkrd0IAAECaSyx3QgAAQDGVLXdCAADA/Dkud0IAAMCTgy93Qg==\",\"dtype\":\"float64\",\"order\":\"little\",\"shape\":[23]},\"y\":{\"__ndarray__\":\"AAAAAAAAAEAAAAAAAAAAQAAAAAAAAPA/AAAAAAAAAEAAAAAAAAAAQAAAAAAAAABAAAAAAAAAAEAAAAAAAAAAQAAAAAAAAABAAAAAAAAAAEAAAAAAAAAAQAAAAAAAAABAAAAAAAAAAEAAAAAAAADwPwAAAAAAAABAAAAAAAAA+D8AAAAAAADwPwAAAAAAAABAAAAAAAAAAEAAAAAAAAAAQAAAAAAAAPg/AAAAAAAAAEAAAAAAAAD4Pw==\",\"dtype\":\"float64\",\"order\":\"little\",\"shape\":[23]}},\"selected\":{\"id\":\"1110\"},\"selection_policy\":{\"id\":\"1111\"}},\"id\":\"1100\",\"type\":\"ColumnDataSource\"},{\"attributes\":{\"data\":{\"x\":{\"__ndarray__\":\"AACALRYWd0IAAECTaBZ3QgAAgMRfF3dCAAAAvpcad0IAAICJPBt3QgAAQO+OG3dCAADAujMcd0IAAIAghhx3QgAAQB0iHndCAACA5WIgd0IAAIAT9iJ3QgAAQKfbJXdCAADAoBMpd0IAAIAGZil3QgAAANIKKndCAADAN10qd0IAAICdryp3QgAAQAMCK3dCAACANPkrd0IAAECaSyx3QgAAQDGVLXdCAADA/Dkud0IAAMCTgy93Qg==\",\"dtype\":\"float64\",\"order\":\"little\",\"shape\":[23]},\"y\":{\"__ndarray__\":\"AAAAAAAAAEAAAAAAAAAAQAAAAAAAAPA/AAAAAAAAAEAAAAAAAAAAQAAAAAAAAABAAAAAAAAAAEAAAAAAAAAAQAAAAAAAAABAAAAAAAAAAEAAAAAAAAAAQAAAAAAAAABAAAAAAAAAAEAAAAAAAADwPwAAAAAAAABAAAAAAAAA+D8AAAAAAADwPwAAAAAAAABAAAAAAAAAAEAAAAAAAAAAQAAAAAAAAPg/AAAAAAAAAEAAAAAAAAD4Pw==\",\"dtype\":\"float64\",\"order\":\"little\",\"shape\":[23]}},\"selected\":{\"id\":\"1144\"},\"selection_policy\":{\"id\":\"1145\"}},\"id\":\"1127\",\"type\":\"ColumnDataSource\"},{\"attributes\":{},\"id\":\"1109\",\"type\":\"BasicTickFormatter\"},{\"attributes\":{},\"id\":\"1145\",\"type\":\"UnionRenderers\"},{\"attributes\":{\"source\":{\"id\":\"1162\"}},\"id\":\"1166\",\"type\":\"CDSView\"},{\"attributes\":{\"overlay\":{\"id\":\"1092\"}},\"id\":\"1088\",\"type\":\"BoxZoomTool\"},{\"attributes\":{\"data_source\":{\"id\":\"1127\"},\"glyph\":{\"id\":\"1128\"},\"hover_glyph\":null,\"muted_glyph\":null,\"nonselection_glyph\":{\"id\":\"1129\"},\"selection_glyph\":null,\"view\":{\"id\":\"1131\"}},\"id\":\"1130\",\"type\":\"GlyphRenderer\"},{\"attributes\":{\"fill_alpha\":{\"value\":0.1},\"fill_color\":{\"value\":\"blue\"},\"line_alpha\":{\"value\":0.1},\"line_color\":{\"value\":\"blue\"},\"size\":{\"units\":\"screen\",\"value\":5},\"x\":{\"field\":\"x\"},\"y\":{\"field\":\"y\"}},\"id\":\"1164\",\"type\":\"Circle\"},{\"attributes\":{},\"id\":\"1089\",\"type\":\"SaveTool\"},{\"attributes\":{\"fill_color\":{\"value\":\"blue\"},\"line_color\":{\"value\":\"blue\"},\"size\":{\"units\":\"screen\",\"value\":5},\"x\":{\"field\":\"x\"},\"y\":{\"field\":\"y\"}},\"id\":\"1163\",\"type\":\"Circle\"},{\"attributes\":{},\"id\":\"1090\",\"type\":\"ResetTool\"},{\"attributes\":{},\"id\":\"1179\",\"type\":\"UnionRenderers\"}],\"root_ids\":[\"1067\"]},\"title\":\"Bokeh Application\",\"version\":\"2.1.1\"}};\n",
       "  var render_items = [{\"docid\":\"600a0bc1-fe72-416b-8cf1-a8f522f2fee3\",\"root_ids\":[\"1067\"],\"roots\":{\"1067\":\"d62fcb63-687c-4a10-bc02-dce9f81c33a4\"}}];\n",
       "  root.Bokeh.embed.embed_items_notebook(docs_json, render_items);\n",
       "\n",
       "  }\n",
       "  if (root.Bokeh !== undefined) {\n",
       "    embed_document(root);\n",
       "  } else {\n",
       "    var attempts = 0;\n",
       "    var timer = setInterval(function(root) {\n",
       "      if (root.Bokeh !== undefined) {\n",
       "        clearInterval(timer);\n",
       "        embed_document(root);\n",
       "      } else {\n",
       "        attempts++;\n",
       "        if (attempts > 100) {\n",
       "          clearInterval(timer);\n",
       "          console.log(\"Bokeh: ERROR: Unable to run BokehJS code because BokehJS library is missing\");\n",
       "        }\n",
       "      }\n",
       "    }, 10, root)\n",
       "  }\n",
       "})(window);"
      ],
      "application/vnd.bokehjs_exec.v0+json": ""
     },
     "metadata": {
      "application/vnd.bokehjs_exec.v0+json": {
       "id": "1067"
      }
     },
     "output_type": "display_data"
    }
   ],
   "source": [
    "df_trump = get_plot_data('data/processed/candidates/2020/trump/headlines.csv')\n",
    "df_biden = get_plot_data('data/processed/candidates/2020/biden/headlines.csv')\n",
    "\n",
    "plot_chart(df_trump, df_biden, 'Trump', 'Biden', \"Candidate Sentiment - 2020 - Last 90 Days\")"
   ]
  },
  {
   "cell_type": "code",
   "execution_count": 10,
   "metadata": {},
   "outputs": [
    {
     "data": {
      "text/html": [
       "\n",
       "\n",
       "\n",
       "\n",
       "\n",
       "\n",
       "  <div class=\"bk-root\" id=\"0d00c14d-4e6f-4558-adfe-2c0c7c314b9c\" data-root-id=\"1349\"></div>\n"
      ]
     },
     "metadata": {},
     "output_type": "display_data"
    },
    {
     "data": {
      "application/javascript": [
       "(function(root) {\n",
       "  function embed_document(root) {\n",
       "    \n",
       "  var docs_json = {\"ea05ede1-c5b7-4a4f-9f8b-ebd36550640c\":{\"roots\":{\"references\":[{\"attributes\":{\"below\":[{\"id\":\"1360\"}],\"center\":[{\"id\":\"1363\"},{\"id\":\"1367\"},{\"id\":\"1407\"}],\"left\":[{\"id\":\"1364\"}],\"plot_height\":350,\"plot_width\":900,\"renderers\":[{\"id\":\"1385\"},{\"id\":\"1412\"},{\"id\":\"1417\"},{\"id\":\"1447\"}],\"title\":{\"id\":\"1350\"},\"toolbar\":{\"id\":\"1375\"},\"x_range\":{\"id\":\"1352\"},\"x_scale\":{\"id\":\"1356\"},\"y_range\":{\"id\":\"1354\"},\"y_scale\":{\"id\":\"1358\"}},\"id\":\"1349\",\"subtype\":\"Figure\",\"type\":\"Plot\"},{\"attributes\":{},\"id\":\"1372\",\"type\":\"ResetTool\"},{\"attributes\":{\"data_source\":{\"id\":\"1444\"},\"glyph\":{\"id\":\"1445\"},\"hover_glyph\":null,\"muted_glyph\":null,\"nonselection_glyph\":{\"id\":\"1446\"},\"selection_glyph\":null,\"view\":{\"id\":\"1448\"}},\"id\":\"1447\",\"type\":\"GlyphRenderer\"},{\"attributes\":{},\"id\":\"1356\",\"type\":\"LinearScale\"},{\"attributes\":{\"base\":24,\"mantissas\":[1,2,4,6,8,12],\"max_interval\":43200000.0,\"min_interval\":3600000.0,\"num_minor_ticks\":0},\"id\":\"1396\",\"type\":\"AdaptiveTicker\"},{\"attributes\":{\"text\":\"Candidate Sentiment - 2020 - Last 90 Days\"},\"id\":\"1350\",\"type\":\"Title\"},{\"attributes\":{\"data\":{\"x\":{\"__ndarray__\":\"AADAN10qd0I=\",\"dtype\":\"float64\",\"order\":\"little\",\"shape\":[1]},\"y\":[1]},\"selected\":{\"id\":\"1486\"},\"selection_policy\":{\"id\":\"1487\"}},\"id\":\"1444\",\"type\":\"ColumnDataSource\"},{\"attributes\":{},\"id\":\"1392\",\"type\":\"Selection\"},{\"attributes\":{},\"id\":\"1486\",\"type\":\"Selection\"},{\"attributes\":{\"data_source\":{\"id\":\"1414\"},\"glyph\":{\"id\":\"1415\"},\"hover_glyph\":null,\"muted_glyph\":null,\"nonselection_glyph\":{\"id\":\"1416\"},\"selection_glyph\":null,\"view\":{\"id\":\"1418\"}},\"id\":\"1417\",\"type\":\"GlyphRenderer\"},{\"attributes\":{},\"id\":\"1391\",\"type\":\"BasicTickFormatter\"},{\"attributes\":{\"base\":60,\"mantissas\":[1,2,5,10,15,20,30],\"max_interval\":1800000.0,\"min_interval\":1000.0,\"num_minor_ticks\":0},\"id\":\"1395\",\"type\":\"AdaptiveTicker\"},{\"attributes\":{\"label\":{\"value\":\"Biden (1.0)\"},\"renderers\":[{\"id\":\"1417\"}]},\"id\":\"1443\",\"type\":\"LegendItem\"},{\"attributes\":{\"bottom_units\":\"screen\",\"fill_alpha\":0.5,\"fill_color\":\"lightgrey\",\"left_units\":\"screen\",\"level\":\"overlay\",\"line_alpha\":1.0,\"line_color\":\"black\",\"line_dash\":[4,4],\"line_width\":2,\"right_units\":\"screen\",\"top_units\":\"screen\"},\"id\":\"1374\",\"type\":\"BoxAnnotation\"},{\"attributes\":{\"data\":{\"x\":{\"__ndarray__\":\"AADAN10qd0I=\",\"dtype\":\"float64\",\"order\":\"little\",\"shape\":[1]},\"y\":[1]},\"selected\":{\"id\":\"1428\"},\"selection_policy\":{\"id\":\"1429\"}},\"id\":\"1414\",\"type\":\"ColumnDataSource\"},{\"attributes\":{\"source\":{\"id\":\"1444\"}},\"id\":\"1448\",\"type\":\"CDSView\"},{\"attributes\":{},\"id\":\"1358\",\"type\":\"LinearScale\"},{\"attributes\":{\"active_drag\":\"auto\",\"active_inspect\":\"auto\",\"active_multi\":null,\"active_scroll\":\"auto\",\"active_tap\":\"auto\",\"tools\":[{\"id\":\"1368\"},{\"id\":\"1369\"},{\"id\":\"1370\"},{\"id\":\"1371\"},{\"id\":\"1372\"},{\"id\":\"1373\"}]},\"id\":\"1375\",\"type\":\"Toolbar\"},{\"attributes\":{\"fill_alpha\":{\"value\":0.1},\"fill_color\":{\"value\":\"blue\"},\"line_alpha\":{\"value\":0.1},\"line_color\":{\"value\":\"blue\"},\"size\":{\"units\":\"screen\",\"value\":5},\"x\":{\"field\":\"x\"},\"y\":{\"field\":\"y\"}},\"id\":\"1446\",\"type\":\"Circle\"},{\"attributes\":{},\"id\":\"1429\",\"type\":\"UnionRenderers\"},{\"attributes\":{\"fill_color\":{\"value\":\"blue\"},\"line_color\":{\"value\":\"blue\"},\"size\":{\"units\":\"screen\",\"value\":5},\"x\":{\"field\":\"x\"},\"y\":{\"field\":\"y\"}},\"id\":\"1445\",\"type\":\"Circle\"},{\"attributes\":{\"days\":[1,2,3,4,5,6,7,8,9,10,11,12,13,14,15,16,17,18,19,20,21,22,23,24,25,26,27,28,29,30,31]},\"id\":\"1397\",\"type\":\"DaysTicker\"},{\"attributes\":{\"days\":[1,8,15,22]},\"id\":\"1399\",\"type\":\"DaysTicker\"},{\"attributes\":{},\"id\":\"1487\",\"type\":\"UnionRenderers\"},{\"attributes\":{\"data\":{\"x\":{\"__ndarray__\":\"AACA8vIZd0IAAECG2Bx3QgAAAIN0HndCAACA5WIgd0IAAMAWWiF3QgAAgKo/JHdCAACAbxwod0IAAMA3XSp3QgAAQDGVLXdCAAAAl+ctd0IAAIBijC53Qg==\",\"dtype\":\"float64\",\"order\":\"little\",\"shape\":[11]},\"y\":[2,2,1,2,1,3,1,1,1,2,1]},\"selected\":{\"id\":\"1392\"},\"selection_policy\":{\"id\":\"1393\"}},\"id\":\"1382\",\"type\":\"ColumnDataSource\"},{\"attributes\":{},\"id\":\"1428\",\"type\":\"Selection\"},{\"attributes\":{\"days\":[1,15]},\"id\":\"1400\",\"type\":\"DaysTicker\"},{\"attributes\":{\"source\":{\"id\":\"1409\"}},\"id\":\"1413\",\"type\":\"CDSView\"},{\"attributes\":{},\"id\":\"1373\",\"type\":\"HelpTool\"},{\"attributes\":{},\"id\":\"1371\",\"type\":\"SaveTool\"},{\"attributes\":{\"months\":[0,4,8]},\"id\":\"1403\",\"type\":\"MonthsTicker\"},{\"attributes\":{\"line_alpha\":0.1,\"line_color\":\"red\",\"line_width\":4,\"x\":{\"field\":\"x\"},\"y\":{\"field\":\"y\"}},\"id\":\"1384\",\"type\":\"Line\"},{\"attributes\":{},\"id\":\"1354\",\"type\":\"DataRange1d\"},{\"attributes\":{\"axis_label\":\"Date\",\"formatter\":{\"id\":\"1389\"},\"ticker\":{\"id\":\"1361\"}},\"id\":\"1360\",\"type\":\"DatetimeAxis\"},{\"attributes\":{\"fill_alpha\":{\"value\":0.1},\"fill_color\":{\"value\":\"red\"},\"line_alpha\":{\"value\":0.1},\"line_color\":{\"value\":\"red\"},\"size\":{\"units\":\"screen\",\"value\":5},\"x\":{\"field\":\"x\"},\"y\":{\"field\":\"y\"}},\"id\":\"1411\",\"type\":\"Circle\"},{\"attributes\":{\"months\":[0,2,4,6,8,10]},\"id\":\"1402\",\"type\":\"MonthsTicker\"},{\"attributes\":{\"line_alpha\":0.1,\"line_color\":\"blue\",\"line_width\":4,\"x\":{\"field\":\"x\"},\"y\":{\"field\":\"y\"}},\"id\":\"1416\",\"type\":\"Line\"},{\"attributes\":{\"months\":[0,1,2,3,4,5,6,7,8,9,10,11]},\"id\":\"1401\",\"type\":\"MonthsTicker\"},{\"attributes\":{\"axis\":{\"id\":\"1364\"},\"dimension\":1,\"grid_line_alpha\":0.5,\"ticker\":null},\"id\":\"1367\",\"type\":\"Grid\"},{\"attributes\":{\"source\":{\"id\":\"1382\"}},\"id\":\"1386\",\"type\":\"CDSView\"},{\"attributes\":{},\"id\":\"1405\",\"type\":\"YearsTicker\"},{\"attributes\":{},\"id\":\"1365\",\"type\":\"BasicTicker\"},{\"attributes\":{},\"id\":\"1427\",\"type\":\"UnionRenderers\"},{\"attributes\":{\"overlay\":{\"id\":\"1374\"}},\"id\":\"1370\",\"type\":\"BoxZoomTool\"},{\"attributes\":{\"fill_color\":{\"value\":\"red\"},\"line_color\":{\"value\":\"red\"},\"size\":{\"units\":\"screen\",\"value\":5},\"x\":{\"field\":\"x\"},\"y\":{\"field\":\"y\"}},\"id\":\"1410\",\"type\":\"Circle\"},{\"attributes\":{\"data_source\":{\"id\":\"1382\"},\"glyph\":{\"id\":\"1383\"},\"hover_glyph\":null,\"muted_glyph\":null,\"nonselection_glyph\":{\"id\":\"1384\"},\"selection_glyph\":null,\"view\":{\"id\":\"1386\"}},\"id\":\"1385\",\"type\":\"GlyphRenderer\"},{\"attributes\":{\"axis_label\":\"Sentiment Score\",\"formatter\":{\"id\":\"1391\"},\"ticker\":{\"id\":\"1365\"}},\"id\":\"1364\",\"type\":\"LinearAxis\"},{\"attributes\":{},\"id\":\"1393\",\"type\":\"UnionRenderers\"},{\"attributes\":{},\"id\":\"1426\",\"type\":\"Selection\"},{\"attributes\":{\"axis\":{\"id\":\"1360\"},\"grid_line_color\":null,\"ticker\":null},\"id\":\"1363\",\"type\":\"Grid\"},{\"attributes\":{\"months\":[0,6]},\"id\":\"1404\",\"type\":\"MonthsTicker\"},{\"attributes\":{\"items\":[{\"id\":\"1408\"},{\"id\":\"1443\"}],\"location\":\"bottom_right\"},\"id\":\"1407\",\"type\":\"Legend\"},{\"attributes\":{\"num_minor_ticks\":5,\"tickers\":[{\"id\":\"1394\"},{\"id\":\"1395\"},{\"id\":\"1396\"},{\"id\":\"1397\"},{\"id\":\"1398\"},{\"id\":\"1399\"},{\"id\":\"1400\"},{\"id\":\"1401\"},{\"id\":\"1402\"},{\"id\":\"1403\"},{\"id\":\"1404\"},{\"id\":\"1405\"}]},\"id\":\"1361\",\"type\":\"DatetimeTicker\"},{\"attributes\":{\"line_alpha\":0.6,\"line_color\":\"blue\",\"line_width\":4,\"x\":{\"field\":\"x\"},\"y\":{\"field\":\"y\"}},\"id\":\"1415\",\"type\":\"Line\"},{\"attributes\":{},\"id\":\"1389\",\"type\":\"DatetimeTickFormatter\"},{\"attributes\":{\"data\":{\"x\":{\"__ndarray__\":\"AACA8vIZd0IAAECG2Bx3QgAAAIN0HndCAACA5WIgd0IAAMAWWiF3QgAAgKo/JHdCAACAbxwod0IAAMA3XSp3QgAAQDGVLXdCAAAAl+ctd0IAAIBijC53Qg==\",\"dtype\":\"float64\",\"order\":\"little\",\"shape\":[11]},\"y\":[2,2,1,2,1,3,1,1,1,2,1]},\"selected\":{\"id\":\"1426\"},\"selection_policy\":{\"id\":\"1427\"}},\"id\":\"1409\",\"type\":\"ColumnDataSource\"},{\"attributes\":{\"source\":{\"id\":\"1414\"}},\"id\":\"1418\",\"type\":\"CDSView\"},{\"attributes\":{},\"id\":\"1352\",\"type\":\"DataRange1d\"},{\"attributes\":{\"label\":{\"value\":\"Trump (1.54545)\"},\"renderers\":[{\"id\":\"1385\"}]},\"id\":\"1408\",\"type\":\"LegendItem\"},{\"attributes\":{\"days\":[1,4,7,10,13,16,19,22,25,28]},\"id\":\"1398\",\"type\":\"DaysTicker\"},{\"attributes\":{\"data_source\":{\"id\":\"1409\"},\"glyph\":{\"id\":\"1410\"},\"hover_glyph\":null,\"muted_glyph\":null,\"nonselection_glyph\":{\"id\":\"1411\"},\"selection_glyph\":null,\"view\":{\"id\":\"1413\"}},\"id\":\"1412\",\"type\":\"GlyphRenderer\"},{\"attributes\":{\"mantissas\":[1,2,5],\"max_interval\":500.0,\"num_minor_ticks\":0},\"id\":\"1394\",\"type\":\"AdaptiveTicker\"},{\"attributes\":{},\"id\":\"1368\",\"type\":\"PanTool\"},{\"attributes\":{\"line_alpha\":0.6,\"line_color\":\"red\",\"line_width\":4,\"x\":{\"field\":\"x\"},\"y\":{\"field\":\"y\"}},\"id\":\"1383\",\"type\":\"Line\"},{\"attributes\":{},\"id\":\"1369\",\"type\":\"WheelZoomTool\"}],\"root_ids\":[\"1349\"]},\"title\":\"Bokeh Application\",\"version\":\"2.1.1\"}};\n",
       "  var render_items = [{\"docid\":\"ea05ede1-c5b7-4a4f-9f8b-ebd36550640c\",\"root_ids\":[\"1349\"],\"roots\":{\"1349\":\"0d00c14d-4e6f-4558-adfe-2c0c7c314b9c\"}}];\n",
       "  root.Bokeh.embed.embed_items_notebook(docs_json, render_items);\n",
       "\n",
       "  }\n",
       "  if (root.Bokeh !== undefined) {\n",
       "    embed_document(root);\n",
       "  } else {\n",
       "    var attempts = 0;\n",
       "    var timer = setInterval(function(root) {\n",
       "      if (root.Bokeh !== undefined) {\n",
       "        clearInterval(timer);\n",
       "        embed_document(root);\n",
       "      } else {\n",
       "        attempts++;\n",
       "        if (attempts > 100) {\n",
       "          clearInterval(timer);\n",
       "          console.log(\"Bokeh: ERROR: Unable to run BokehJS code because BokehJS library is missing\");\n",
       "        }\n",
       "      }\n",
       "    }, 10, root)\n",
       "  }\n",
       "})(window);"
      ],
      "application/vnd.bokehjs_exec.v0+json": ""
     },
     "metadata": {
      "application/vnd.bokehjs_exec.v0+json": {
       "id": "1349"
      }
     },
     "output_type": "display_data"
    }
   ],
   "source": [
    "df_trump = get_plot_data('data/processed/economy/2020/trump/headlines.csv')\n",
    "df_biden = get_plot_data('data/processed/economy/2020/biden/headlines.csv')\n",
    "\n",
    "plot_chart(df_trump, df_biden, 'Trump', 'Biden', \"Candidate Sentiment - 2020 - Last 90 Days\")"
   ]
  },
  {
   "cell_type": "code",
   "execution_count": 12,
   "metadata": {},
   "outputs": [
    {
     "data": {
      "text/html": [
       "\n",
       "\n",
       "\n",
       "\n",
       "\n",
       "\n",
       "  <div class=\"bk-root\" id=\"3a8b053b-a03e-478f-85be-2e41e69f798c\" data-root-id=\"1657\"></div>\n"
      ]
     },
     "metadata": {},
     "output_type": "display_data"
    },
    {
     "data": {
      "application/javascript": [
       "(function(root) {\n",
       "  function embed_document(root) {\n",
       "    \n",
       "  var docs_json = {\"fb2039d4-7d95-4821-8db9-618f69419fe3\":{\"roots\":{\"references\":[{\"attributes\":{\"below\":[{\"id\":\"1668\"}],\"center\":[{\"id\":\"1671\"},{\"id\":\"1675\"},{\"id\":\"1715\"}],\"left\":[{\"id\":\"1672\"}],\"plot_height\":350,\"plot_width\":900,\"renderers\":[{\"id\":\"1693\"},{\"id\":\"1720\"},{\"id\":\"1725\"},{\"id\":\"1755\"}],\"title\":{\"id\":\"1658\"},\"toolbar\":{\"id\":\"1683\"},\"x_range\":{\"id\":\"1660\"},\"x_scale\":{\"id\":\"1664\"},\"y_range\":{\"id\":\"1662\"},\"y_scale\":{\"id\":\"1666\"}},\"id\":\"1657\",\"subtype\":\"Figure\",\"type\":\"Plot\"},{\"attributes\":{\"overlay\":{\"id\":\"1682\"}},\"id\":\"1678\",\"type\":\"BoxZoomTool\"},{\"attributes\":{},\"id\":\"1681\",\"type\":\"HelpTool\"},{\"attributes\":{\"label\":{\"value\":\"Biden (1.0)\"},\"renderers\":[{\"id\":\"1725\"}]},\"id\":\"1751\",\"type\":\"LegendItem\"},{\"attributes\":{\"months\":[0,4,8]},\"id\":\"1711\",\"type\":\"MonthsTicker\"},{\"attributes\":{\"bottom_units\":\"screen\",\"fill_alpha\":0.5,\"fill_color\":\"lightgrey\",\"left_units\":\"screen\",\"level\":\"overlay\",\"line_alpha\":1.0,\"line_color\":\"black\",\"line_dash\":[4,4],\"line_width\":2,\"right_units\":\"screen\",\"top_units\":\"screen\"},\"id\":\"1682\",\"type\":\"BoxAnnotation\"},{\"attributes\":{\"days\":[1,4,7,10,13,16,19,22,25,28]},\"id\":\"1706\",\"type\":\"DaysTicker\"},{\"attributes\":{},\"id\":\"1677\",\"type\":\"WheelZoomTool\"},{\"attributes\":{},\"id\":\"1737\",\"type\":\"UnionRenderers\"},{\"attributes\":{\"data\":{\"x\":{\"__ndarray__\":\"AADAN10qd0I=\",\"dtype\":\"float64\",\"order\":\"little\",\"shape\":[1]},\"y\":[1]},\"selected\":{\"id\":\"1820\"},\"selection_policy\":{\"id\":\"1821\"}},\"id\":\"1752\",\"type\":\"ColumnDataSource\"},{\"attributes\":{\"months\":[0,6]},\"id\":\"1712\",\"type\":\"MonthsTicker\"},{\"attributes\":{\"data_source\":{\"id\":\"1752\"},\"glyph\":{\"id\":\"1753\"},\"hover_glyph\":null,\"muted_glyph\":null,\"nonselection_glyph\":{\"id\":\"1754\"},\"selection_glyph\":null,\"view\":{\"id\":\"1756\"}},\"id\":\"1755\",\"type\":\"GlyphRenderer\"},{\"attributes\":{},\"id\":\"1713\",\"type\":\"YearsTicker\"},{\"attributes\":{\"data_source\":{\"id\":\"1690\"},\"glyph\":{\"id\":\"1691\"},\"hover_glyph\":null,\"muted_glyph\":null,\"nonselection_glyph\":{\"id\":\"1692\"},\"selection_glyph\":null,\"view\":{\"id\":\"1694\"}},\"id\":\"1693\",\"type\":\"GlyphRenderer\"},{\"attributes\":{\"line_alpha\":0.1,\"line_color\":\"blue\",\"line_width\":4,\"x\":{\"field\":\"x\"},\"y\":{\"field\":\"y\"}},\"id\":\"1724\",\"type\":\"Line\"},{\"attributes\":{},\"id\":\"1697\",\"type\":\"DatetimeTickFormatter\"},{\"attributes\":{},\"id\":\"1820\",\"type\":\"Selection\"},{\"attributes\":{\"items\":[{\"id\":\"1716\"},{\"id\":\"1751\"}],\"location\":\"bottom_right\"},\"id\":\"1715\",\"type\":\"Legend\"},{\"attributes\":{\"source\":{\"id\":\"1690\"}},\"id\":\"1694\",\"type\":\"CDSView\"},{\"attributes\":{\"label\":{\"value\":\"Trump (1.46429)\"},\"renderers\":[{\"id\":\"1693\"}]},\"id\":\"1716\",\"type\":\"LegendItem\"},{\"attributes\":{\"line_alpha\":0.1,\"line_color\":\"red\",\"line_width\":4,\"x\":{\"field\":\"x\"},\"y\":{\"field\":\"y\"}},\"id\":\"1692\",\"type\":\"Line\"},{\"attributes\":{\"source\":{\"id\":\"1752\"}},\"id\":\"1756\",\"type\":\"CDSView\"},{\"attributes\":{\"data\":{\"x\":{\"__ndarray__\":\"AADAMHoUd0IAAMDHwxV3QgAAQIbYHHdCAADA6MYed0IAAEC0ax93QgAAgOViIHdCAADAFlohd0IAAMCtoyJ3QgAAgBP2IndCAACAQYkld0IAAMBygCZ3QgAAwAnKJ3dCAACAna8qd0IAAIDLQi13Qg==\",\"dtype\":\"float64\",\"order\":\"little\",\"shape\":[14]},\"y\":{\"__ndarray__\":\"AAAAAAAAAEAAAAAAAAAAQAAAAAAAAARAAAAAAAAA8D8AAAAAAADwPwAAAAAAAABAAAAAAAAA8D8AAAAAAADwPwAAAAAAAABAAAAAAAAA8D8AAAAAAADwPwAAAAAAAABAAAAAAAAA8D8AAAAAAADwPw==\",\"dtype\":\"float64\",\"order\":\"little\",\"shape\":[14]}},\"selected\":{\"id\":\"1734\"},\"selection_policy\":{\"id\":\"1735\"}},\"id\":\"1717\",\"type\":\"ColumnDataSource\"},{\"attributes\":{\"fill_alpha\":{\"value\":0.1},\"fill_color\":{\"value\":\"blue\"},\"line_alpha\":{\"value\":0.1},\"line_color\":{\"value\":\"blue\"},\"size\":{\"units\":\"screen\",\"value\":5},\"x\":{\"field\":\"x\"},\"y\":{\"field\":\"y\"}},\"id\":\"1754\",\"type\":\"Circle\"},{\"attributes\":{\"text\":\"Candidate Sentiment - 2020 - Last 90 Days\"},\"id\":\"1658\",\"type\":\"Title\"},{\"attributes\":{},\"id\":\"1699\",\"type\":\"BasicTickFormatter\"},{\"attributes\":{\"data_source\":{\"id\":\"1717\"},\"glyph\":{\"id\":\"1718\"},\"hover_glyph\":null,\"muted_glyph\":null,\"nonselection_glyph\":{\"id\":\"1719\"},\"selection_glyph\":null,\"view\":{\"id\":\"1721\"}},\"id\":\"1720\",\"type\":\"GlyphRenderer\"},{\"attributes\":{\"fill_color\":{\"value\":\"blue\"},\"line_color\":{\"value\":\"blue\"},\"size\":{\"units\":\"screen\",\"value\":5},\"x\":{\"field\":\"x\"},\"y\":{\"field\":\"y\"}},\"id\":\"1753\",\"type\":\"Circle\"},{\"attributes\":{},\"id\":\"1666\",\"type\":\"LinearScale\"},{\"attributes\":{},\"id\":\"1680\",\"type\":\"ResetTool\"},{\"attributes\":{\"data\":{\"x\":{\"__ndarray__\":\"AADAMHoUd0IAAMDHwxV3QgAAQIbYHHdCAADA6MYed0IAAEC0ax93QgAAgOViIHdCAADAFlohd0IAAMCtoyJ3QgAAgBP2IndCAACAQYkld0IAAMBygCZ3QgAAwAnKJ3dCAACAna8qd0IAAIDLQi13Qg==\",\"dtype\":\"float64\",\"order\":\"little\",\"shape\":[14]},\"y\":{\"__ndarray__\":\"AAAAAAAAAEAAAAAAAAAAQAAAAAAAAARAAAAAAAAA8D8AAAAAAADwPwAAAAAAAABAAAAAAAAA8D8AAAAAAADwPwAAAAAAAABAAAAAAAAA8D8AAAAAAADwPwAAAAAAAABAAAAAAAAA8D8AAAAAAADwPw==\",\"dtype\":\"float64\",\"order\":\"little\",\"shape\":[14]}},\"selected\":{\"id\":\"1700\"},\"selection_policy\":{\"id\":\"1701\"}},\"id\":\"1690\",\"type\":\"ColumnDataSource\"},{\"attributes\":{},\"id\":\"1700\",\"type\":\"Selection\"},{\"attributes\":{},\"id\":\"1821\",\"type\":\"UnionRenderers\"},{\"attributes\":{\"active_drag\":\"auto\",\"active_inspect\":\"auto\",\"active_multi\":null,\"active_scroll\":\"auto\",\"active_tap\":\"auto\",\"tools\":[{\"id\":\"1676\"},{\"id\":\"1677\"},{\"id\":\"1678\"},{\"id\":\"1679\"},{\"id\":\"1680\"},{\"id\":\"1681\"}]},\"id\":\"1683\",\"type\":\"Toolbar\"},{\"attributes\":{},\"id\":\"1701\",\"type\":\"UnionRenderers\"},{\"attributes\":{},\"id\":\"1660\",\"type\":\"DataRange1d\"},{\"attributes\":{\"mantissas\":[1,2,5],\"max_interval\":500.0,\"num_minor_ticks\":0},\"id\":\"1702\",\"type\":\"AdaptiveTicker\"},{\"attributes\":{\"source\":{\"id\":\"1717\"}},\"id\":\"1721\",\"type\":\"CDSView\"},{\"attributes\":{},\"id\":\"1662\",\"type\":\"DataRange1d\"},{\"attributes\":{\"fill_alpha\":{\"value\":0.1},\"fill_color\":{\"value\":\"red\"},\"line_alpha\":{\"value\":0.1},\"line_color\":{\"value\":\"red\"},\"size\":{\"units\":\"screen\",\"value\":5},\"x\":{\"field\":\"x\"},\"y\":{\"field\":\"y\"}},\"id\":\"1719\",\"type\":\"Circle\"},{\"attributes\":{},\"id\":\"1676\",\"type\":\"PanTool\"},{\"attributes\":{\"line_alpha\":0.6,\"line_color\":\"red\",\"line_width\":4,\"x\":{\"field\":\"x\"},\"y\":{\"field\":\"y\"}},\"id\":\"1691\",\"type\":\"Line\"},{\"attributes\":{\"base\":60,\"mantissas\":[1,2,5,10,15,20,30],\"max_interval\":1800000.0,\"min_interval\":1000.0,\"num_minor_ticks\":0},\"id\":\"1703\",\"type\":\"AdaptiveTicker\"},{\"attributes\":{\"fill_color\":{\"value\":\"red\"},\"line_color\":{\"value\":\"red\"},\"size\":{\"units\":\"screen\",\"value\":5},\"x\":{\"field\":\"x\"},\"y\":{\"field\":\"y\"}},\"id\":\"1718\",\"type\":\"Circle\"},{\"attributes\":{\"data\":{\"x\":{\"__ndarray__\":\"AADAN10qd0I=\",\"dtype\":\"float64\",\"order\":\"little\",\"shape\":[1]},\"y\":[1]},\"selected\":{\"id\":\"1736\"},\"selection_policy\":{\"id\":\"1737\"}},\"id\":\"1722\",\"type\":\"ColumnDataSource\"},{\"attributes\":{},\"id\":\"1664\",\"type\":\"LinearScale\"},{\"attributes\":{\"base\":24,\"mantissas\":[1,2,4,6,8,12],\"max_interval\":43200000.0,\"min_interval\":3600000.0,\"num_minor_ticks\":0},\"id\":\"1704\",\"type\":\"AdaptiveTicker\"},{\"attributes\":{},\"id\":\"1735\",\"type\":\"UnionRenderers\"},{\"attributes\":{\"data_source\":{\"id\":\"1722\"},\"glyph\":{\"id\":\"1723\"},\"hover_glyph\":null,\"muted_glyph\":null,\"nonselection_glyph\":{\"id\":\"1724\"},\"selection_glyph\":null,\"view\":{\"id\":\"1726\"}},\"id\":\"1725\",\"type\":\"GlyphRenderer\"},{\"attributes\":{\"days\":[1,2,3,4,5,6,7,8,9,10,11,12,13,14,15,16,17,18,19,20,21,22,23,24,25,26,27,28,29,30,31]},\"id\":\"1705\",\"type\":\"DaysTicker\"},{\"attributes\":{},\"id\":\"1673\",\"type\":\"BasicTicker\"},{\"attributes\":{\"source\":{\"id\":\"1722\"}},\"id\":\"1726\",\"type\":\"CDSView\"},{\"attributes\":{\"axis_label\":\"Sentiment Score\",\"formatter\":{\"id\":\"1699\"},\"ticker\":{\"id\":\"1673\"}},\"id\":\"1672\",\"type\":\"LinearAxis\"},{\"attributes\":{\"days\":[1,8,15,22]},\"id\":\"1707\",\"type\":\"DaysTicker\"},{\"attributes\":{},\"id\":\"1734\",\"type\":\"Selection\"},{\"attributes\":{},\"id\":\"1736\",\"type\":\"Selection\"},{\"attributes\":{\"line_alpha\":0.6,\"line_color\":\"blue\",\"line_width\":4,\"x\":{\"field\":\"x\"},\"y\":{\"field\":\"y\"}},\"id\":\"1723\",\"type\":\"Line\"},{\"attributes\":{\"days\":[1,15]},\"id\":\"1708\",\"type\":\"DaysTicker\"},{\"attributes\":{\"axis_label\":\"Date\",\"formatter\":{\"id\":\"1697\"},\"ticker\":{\"id\":\"1669\"}},\"id\":\"1668\",\"type\":\"DatetimeAxis\"},{\"attributes\":{\"axis\":{\"id\":\"1672\"},\"dimension\":1,\"grid_line_alpha\":0.5,\"ticker\":null},\"id\":\"1675\",\"type\":\"Grid\"},{\"attributes\":{},\"id\":\"1679\",\"type\":\"SaveTool\"},{\"attributes\":{\"months\":[0,1,2,3,4,5,6,7,8,9,10,11]},\"id\":\"1709\",\"type\":\"MonthsTicker\"},{\"attributes\":{\"num_minor_ticks\":5,\"tickers\":[{\"id\":\"1702\"},{\"id\":\"1703\"},{\"id\":\"1704\"},{\"id\":\"1705\"},{\"id\":\"1706\"},{\"id\":\"1707\"},{\"id\":\"1708\"},{\"id\":\"1709\"},{\"id\":\"1710\"},{\"id\":\"1711\"},{\"id\":\"1712\"},{\"id\":\"1713\"}]},\"id\":\"1669\",\"type\":\"DatetimeTicker\"},{\"attributes\":{\"months\":[0,2,4,6,8,10]},\"id\":\"1710\",\"type\":\"MonthsTicker\"},{\"attributes\":{\"axis\":{\"id\":\"1668\"},\"grid_line_color\":null,\"ticker\":null},\"id\":\"1671\",\"type\":\"Grid\"}],\"root_ids\":[\"1657\"]},\"title\":\"Bokeh Application\",\"version\":\"2.1.1\"}};\n",
       "  var render_items = [{\"docid\":\"fb2039d4-7d95-4821-8db9-618f69419fe3\",\"root_ids\":[\"1657\"],\"roots\":{\"1657\":\"3a8b053b-a03e-478f-85be-2e41e69f798c\"}}];\n",
       "  root.Bokeh.embed.embed_items_notebook(docs_json, render_items);\n",
       "\n",
       "  }\n",
       "  if (root.Bokeh !== undefined) {\n",
       "    embed_document(root);\n",
       "  } else {\n",
       "    var attempts = 0;\n",
       "    var timer = setInterval(function(root) {\n",
       "      if (root.Bokeh !== undefined) {\n",
       "        clearInterval(timer);\n",
       "        embed_document(root);\n",
       "      } else {\n",
       "        attempts++;\n",
       "        if (attempts > 100) {\n",
       "          clearInterval(timer);\n",
       "          console.log(\"Bokeh: ERROR: Unable to run BokehJS code because BokehJS library is missing\");\n",
       "        }\n",
       "      }\n",
       "    }, 10, root)\n",
       "  }\n",
       "})(window);"
      ],
      "application/vnd.bokehjs_exec.v0+json": ""
     },
     "metadata": {
      "application/vnd.bokehjs_exec.v0+json": {
       "id": "1657"
      }
     },
     "output_type": "display_data"
    }
   ],
   "source": [
    "df_trump = get_plot_data('data/processed/environment/2020/trump/headlines.csv')\n",
    "#df_biden = get_plot_data('data/processed/environment/2020/biden/headlines.csv')\n",
    "\n",
    "plot_chart(df_trump, df_biden, 'Trump', 'Biden', \"Candidate Sentiment - 2020 - Last 90 Days\")"
   ]
  },
  {
   "cell_type": "code",
   "execution_count": 13,
   "metadata": {},
   "outputs": [
    {
     "data": {
      "text/html": [
       "\n",
       "\n",
       "\n",
       "\n",
       "\n",
       "\n",
       "  <div class=\"bk-root\" id=\"a9df9754-5917-4d79-a5d7-640604273f81\" data-root-id=\"1991\"></div>\n"
      ]
     },
     "metadata": {},
     "output_type": "display_data"
    },
    {
     "data": {
      "application/javascript": [
       "(function(root) {\n",
       "  function embed_document(root) {\n",
       "    \n",
       "  var docs_json = {\"1019ca3e-ea2e-4542-877d-2183fc374d14\":{\"roots\":{\"references\":[{\"attributes\":{\"below\":[{\"id\":\"2002\"}],\"center\":[{\"id\":\"2005\"},{\"id\":\"2009\"},{\"id\":\"2049\"}],\"left\":[{\"id\":\"2006\"}],\"plot_height\":350,\"plot_width\":900,\"renderers\":[{\"id\":\"2027\"},{\"id\":\"2054\"},{\"id\":\"2059\"},{\"id\":\"2089\"}],\"title\":{\"id\":\"1992\"},\"toolbar\":{\"id\":\"2017\"},\"x_range\":{\"id\":\"1994\"},\"x_scale\":{\"id\":\"1998\"},\"y_range\":{\"id\":\"1996\"},\"y_scale\":{\"id\":\"2000\"}},\"id\":\"1991\",\"subtype\":\"Figure\",\"type\":\"Plot\"},{\"attributes\":{},\"id\":\"2070\",\"type\":\"Selection\"},{\"attributes\":{},\"id\":\"2069\",\"type\":\"UnionRenderers\"},{\"attributes\":{\"text\":\"Candidate Sentiment - 2020 - Last 90 Days\"},\"id\":\"1992\",\"type\":\"Title\"},{\"attributes\":{\"days\":[1,8,15,22]},\"id\":\"2041\",\"type\":\"DaysTicker\"},{\"attributes\":{\"data\":{\"x\":{\"__ndarray__\":\"AADAI+oad0IAAEDvjht3Qg==\",\"dtype\":\"float64\",\"order\":\"little\",\"shape\":[2]},\"y\":[1,2]},\"selected\":{\"id\":\"2070\"},\"selection_policy\":{\"id\":\"2071\"}},\"id\":\"2056\",\"type\":\"ColumnDataSource\"},{\"attributes\":{\"months\":[0,4,8]},\"id\":\"2045\",\"type\":\"MonthsTicker\"},{\"attributes\":{},\"id\":\"2071\",\"type\":\"UnionRenderers\"},{\"attributes\":{\"months\":[0,6]},\"id\":\"2046\",\"type\":\"MonthsTicker\"},{\"attributes\":{\"label\":{\"value\":\"Biden (1.5)\"},\"renderers\":[{\"id\":\"2059\"}]},\"id\":\"2085\",\"type\":\"LegendItem\"},{\"attributes\":{},\"id\":\"2047\",\"type\":\"YearsTicker\"},{\"attributes\":{},\"id\":\"2010\",\"type\":\"PanTool\"},{\"attributes\":{},\"id\":\"2180\",\"type\":\"Selection\"},{\"attributes\":{\"base\":60,\"mantissas\":[1,2,5,10,15,20,30],\"max_interval\":1800000.0,\"min_interval\":1000.0,\"num_minor_ticks\":0},\"id\":\"2037\",\"type\":\"AdaptiveTicker\"},{\"attributes\":{\"items\":[{\"id\":\"2050\"},{\"id\":\"2085\"}],\"location\":\"bottom_right\"},\"id\":\"2049\",\"type\":\"Legend\"},{\"attributes\":{\"data\":{\"x\":{\"__ndarray__\":\"AADAI+oad0IAAEDvjht3Qg==\",\"dtype\":\"float64\",\"order\":\"little\",\"shape\":[2]},\"y\":[1,2]},\"selected\":{\"id\":\"2180\"},\"selection_policy\":{\"id\":\"2181\"}},\"id\":\"2086\",\"type\":\"ColumnDataSource\"},{\"attributes\":{},\"id\":\"2011\",\"type\":\"WheelZoomTool\"},{\"attributes\":{\"data_source\":{\"id\":\"2086\"},\"glyph\":{\"id\":\"2087\"},\"hover_glyph\":null,\"muted_glyph\":null,\"nonselection_glyph\":{\"id\":\"2088\"},\"selection_glyph\":null,\"view\":{\"id\":\"2090\"}},\"id\":\"2089\",\"type\":\"GlyphRenderer\"},{\"attributes\":{\"label\":{\"value\":\"Trump (1.81771)\"},\"renderers\":[{\"id\":\"2027\"}]},\"id\":\"2050\",\"type\":\"LegendItem\"},{\"attributes\":{\"overlay\":{\"id\":\"2016\"}},\"id\":\"2012\",\"type\":\"BoxZoomTool\"},{\"attributes\":{\"base\":24,\"mantissas\":[1,2,4,6,8,12],\"max_interval\":43200000.0,\"min_interval\":3600000.0,\"num_minor_ticks\":0},\"id\":\"2038\",\"type\":\"AdaptiveTicker\"},{\"attributes\":{},\"id\":\"1998\",\"type\":\"LinearScale\"},{\"attributes\":{\"data\":{\"x\":{\"__ndarray__\":\"AACA/4ITd0IAAADLJxR3QgAAQPweFXdCAADAx8MVd0IAAIAtFhZ3QgAAAJAEGHdCAABAwfsYd0IAAIDy8hl3QgAAwCPqGndCAABA744bd0IAAABV4Rt3QgAAgCCGHHdCAABAhtgcd0IAAADsKh13QgAAwOjGHndCAACAThkfd0IAAIDlYiB3QgAAwBZaIXdCAABA4v4hd0IAAICqPyR3QgAAQD4lJ3dCAADACcond0IAAIBvHCh3QgAAQNVuKHdCAAAAO8Eod0IAAMCgEyl3QgAAQGy4KXdCAACANPkrd0IAAAAAnix3QgAAQDGVLXdCAAAAl+ctd0IAAEBfKDB3Qg==\",\"dtype\":\"float64\",\"order\":\"little\",\"shape\":[32]},\"y\":{\"__ndarray__\":\"AAAAAAAAAEAAAAAAAADwPwAAAAAAAABAAAAAAAAAAEAAAAAAAAAAQAAAAAAAAPA/AAAAAAAAAEAAAAAAAAAAQAAAAAAAAPA/AAAAAAAAAEAAAAAAAADwPwAAAAAAAABAAAAAAAAAAEAAAAAAAAAAQAAAAAAAAPA/AAAAAAAAAEAAAAAAAADwPwAAAAAAAABAAAAAAAAACEAAAAAAAAAEQAAAAAAAAABAAAAAAAAAAEAAAAAAAAAAQAAAAAAAAABAAAAAAAAA8D8AAAAAAAAAQAAAAAAAAABAAAAAAAAAAEAAAAAAAAAAQKuqqqqqqvo/AAAAAAAAAEAAAAAAAAAAQA==\",\"dtype\":\"float64\",\"order\":\"little\",\"shape\":[32]}},\"selected\":{\"id\":\"2068\"},\"selection_policy\":{\"id\":\"2069\"}},\"id\":\"2051\",\"type\":\"ColumnDataSource\"},{\"attributes\":{},\"id\":\"2013\",\"type\":\"SaveTool\"},{\"attributes\":{},\"id\":\"1994\",\"type\":\"DataRange1d\"},{\"attributes\":{\"days\":[1,4,7,10,13,16,19,22,25,28]},\"id\":\"2040\",\"type\":\"DaysTicker\"},{\"attributes\":{\"data_source\":{\"id\":\"2051\"},\"glyph\":{\"id\":\"2052\"},\"hover_glyph\":null,\"muted_glyph\":null,\"nonselection_glyph\":{\"id\":\"2053\"},\"selection_glyph\":null,\"view\":{\"id\":\"2055\"}},\"id\":\"2054\",\"type\":\"GlyphRenderer\"},{\"attributes\":{},\"id\":\"2014\",\"type\":\"ResetTool\"},{\"attributes\":{\"data_source\":{\"id\":\"2024\"},\"glyph\":{\"id\":\"2025\"},\"hover_glyph\":null,\"muted_glyph\":null,\"nonselection_glyph\":{\"id\":\"2026\"},\"selection_glyph\":null,\"view\":{\"id\":\"2028\"}},\"id\":\"2027\",\"type\":\"GlyphRenderer\"},{\"attributes\":{\"source\":{\"id\":\"2086\"}},\"id\":\"2090\",\"type\":\"CDSView\"},{\"attributes\":{\"fill_alpha\":{\"value\":0.1},\"fill_color\":{\"value\":\"blue\"},\"line_alpha\":{\"value\":0.1},\"line_color\":{\"value\":\"blue\"},\"size\":{\"units\":\"screen\",\"value\":5},\"x\":{\"field\":\"x\"},\"y\":{\"field\":\"y\"}},\"id\":\"2088\",\"type\":\"Circle\"},{\"attributes\":{},\"id\":\"2015\",\"type\":\"HelpTool\"},{\"attributes\":{\"source\":{\"id\":\"2024\"}},\"id\":\"2028\",\"type\":\"CDSView\"},{\"attributes\":{\"active_drag\":\"auto\",\"active_inspect\":\"auto\",\"active_multi\":null,\"active_scroll\":\"auto\",\"active_tap\":\"auto\",\"tools\":[{\"id\":\"2010\"},{\"id\":\"2011\"},{\"id\":\"2012\"},{\"id\":\"2013\"},{\"id\":\"2014\"},{\"id\":\"2015\"}]},\"id\":\"2017\",\"type\":\"Toolbar\"},{\"attributes\":{\"fill_color\":{\"value\":\"blue\"},\"line_color\":{\"value\":\"blue\"},\"size\":{\"units\":\"screen\",\"value\":5},\"x\":{\"field\":\"x\"},\"y\":{\"field\":\"y\"}},\"id\":\"2087\",\"type\":\"Circle\"},{\"attributes\":{},\"id\":\"1996\",\"type\":\"DataRange1d\"},{\"attributes\":{\"source\":{\"id\":\"2051\"}},\"id\":\"2055\",\"type\":\"CDSView\"},{\"attributes\":{\"mantissas\":[1,2,5],\"max_interval\":500.0,\"num_minor_ticks\":0},\"id\":\"2036\",\"type\":\"AdaptiveTicker\"},{\"attributes\":{\"bottom_units\":\"screen\",\"fill_alpha\":0.5,\"fill_color\":\"lightgrey\",\"left_units\":\"screen\",\"level\":\"overlay\",\"line_alpha\":1.0,\"line_color\":\"black\",\"line_dash\":[4,4],\"line_width\":2,\"right_units\":\"screen\",\"top_units\":\"screen\"},\"id\":\"2016\",\"type\":\"BoxAnnotation\"},{\"attributes\":{\"fill_alpha\":{\"value\":0.1},\"fill_color\":{\"value\":\"red\"},\"line_alpha\":{\"value\":0.1},\"line_color\":{\"value\":\"red\"},\"size\":{\"units\":\"screen\",\"value\":5},\"x\":{\"field\":\"x\"},\"y\":{\"field\":\"y\"}},\"id\":\"2053\",\"type\":\"Circle\"},{\"attributes\":{\"data\":{\"x\":{\"__ndarray__\":\"AACA/4ITd0IAAADLJxR3QgAAQPweFXdCAADAx8MVd0IAAIAtFhZ3QgAAAJAEGHdCAABAwfsYd0IAAIDy8hl3QgAAwCPqGndCAABA744bd0IAAABV4Rt3QgAAgCCGHHdCAABAhtgcd0IAAADsKh13QgAAwOjGHndCAACAThkfd0IAAIDlYiB3QgAAwBZaIXdCAABA4v4hd0IAAICqPyR3QgAAQD4lJ3dCAADACcond0IAAIBvHCh3QgAAQNVuKHdCAAAAO8Eod0IAAMCgEyl3QgAAQGy4KXdCAACANPkrd0IAAAAAnix3QgAAQDGVLXdCAAAAl+ctd0IAAEBfKDB3Qg==\",\"dtype\":\"float64\",\"order\":\"little\",\"shape\":[32]},\"y\":{\"__ndarray__\":\"AAAAAAAAAEAAAAAAAADwPwAAAAAAAABAAAAAAAAAAEAAAAAAAAAAQAAAAAAAAPA/AAAAAAAAAEAAAAAAAAAAQAAAAAAAAPA/AAAAAAAAAEAAAAAAAADwPwAAAAAAAABAAAAAAAAAAEAAAAAAAAAAQAAAAAAAAPA/AAAAAAAAAEAAAAAAAADwPwAAAAAAAABAAAAAAAAACEAAAAAAAAAEQAAAAAAAAABAAAAAAAAAAEAAAAAAAAAAQAAAAAAAAABAAAAAAAAA8D8AAAAAAAAAQAAAAAAAAABAAAAAAAAAAEAAAAAAAAAAQKuqqqqqqvo/AAAAAAAAAEAAAAAAAAAAQA==\",\"dtype\":\"float64\",\"order\":\"little\",\"shape\":[32]}},\"selected\":{\"id\":\"2034\"},\"selection_policy\":{\"id\":\"2035\"}},\"id\":\"2024\",\"type\":\"ColumnDataSource\"},{\"attributes\":{},\"id\":\"2031\",\"type\":\"DatetimeTickFormatter\"},{\"attributes\":{},\"id\":\"2181\",\"type\":\"UnionRenderers\"},{\"attributes\":{\"fill_color\":{\"value\":\"red\"},\"line_color\":{\"value\":\"red\"},\"size\":{\"units\":\"screen\",\"value\":5},\"x\":{\"field\":\"x\"},\"y\":{\"field\":\"y\"}},\"id\":\"2052\",\"type\":\"Circle\"},{\"attributes\":{},\"id\":\"2000\",\"type\":\"LinearScale\"},{\"attributes\":{},\"id\":\"2034\",\"type\":\"Selection\"},{\"attributes\":{\"line_alpha\":0.1,\"line_color\":\"red\",\"line_width\":4,\"x\":{\"field\":\"x\"},\"y\":{\"field\":\"y\"}},\"id\":\"2026\",\"type\":\"Line\"},{\"attributes\":{\"axis_label\":\"Date\",\"formatter\":{\"id\":\"2031\"},\"ticker\":{\"id\":\"2003\"}},\"id\":\"2002\",\"type\":\"DatetimeAxis\"},{\"attributes\":{\"days\":[1,2,3,4,5,6,7,8,9,10,11,12,13,14,15,16,17,18,19,20,21,22,23,24,25,26,27,28,29,30,31]},\"id\":\"2039\",\"type\":\"DaysTicker\"},{\"attributes\":{},\"id\":\"2068\",\"type\":\"Selection\"},{\"attributes\":{\"line_alpha\":0.1,\"line_color\":\"blue\",\"line_width\":4,\"x\":{\"field\":\"x\"},\"y\":{\"field\":\"y\"}},\"id\":\"2058\",\"type\":\"Line\"},{\"attributes\":{\"num_minor_ticks\":5,\"tickers\":[{\"id\":\"2036\"},{\"id\":\"2037\"},{\"id\":\"2038\"},{\"id\":\"2039\"},{\"id\":\"2040\"},{\"id\":\"2041\"},{\"id\":\"2042\"},{\"id\":\"2043\"},{\"id\":\"2044\"},{\"id\":\"2045\"},{\"id\":\"2046\"},{\"id\":\"2047\"}]},\"id\":\"2003\",\"type\":\"DatetimeTicker\"},{\"attributes\":{\"line_alpha\":0.6,\"line_color\":\"red\",\"line_width\":4,\"x\":{\"field\":\"x\"},\"y\":{\"field\":\"y\"}},\"id\":\"2025\",\"type\":\"Line\"},{\"attributes\":{},\"id\":\"2035\",\"type\":\"UnionRenderers\"},{\"attributes\":{\"data_source\":{\"id\":\"2056\"},\"glyph\":{\"id\":\"2057\"},\"hover_glyph\":null,\"muted_glyph\":null,\"nonselection_glyph\":{\"id\":\"2058\"},\"selection_glyph\":null,\"view\":{\"id\":\"2060\"}},\"id\":\"2059\",\"type\":\"GlyphRenderer\"},{\"attributes\":{\"axis\":{\"id\":\"2002\"},\"grid_line_color\":null,\"ticker\":null},\"id\":\"2005\",\"type\":\"Grid\"},{\"attributes\":{\"days\":[1,15]},\"id\":\"2042\",\"type\":\"DaysTicker\"},{\"attributes\":{\"axis_label\":\"Sentiment Score\",\"formatter\":{\"id\":\"2033\"},\"ticker\":{\"id\":\"2007\"}},\"id\":\"2006\",\"type\":\"LinearAxis\"},{\"attributes\":{\"source\":{\"id\":\"2056\"}},\"id\":\"2060\",\"type\":\"CDSView\"},{\"attributes\":{\"line_alpha\":0.6,\"line_color\":\"blue\",\"line_width\":4,\"x\":{\"field\":\"x\"},\"y\":{\"field\":\"y\"}},\"id\":\"2057\",\"type\":\"Line\"},{\"attributes\":{\"months\":[0,1,2,3,4,5,6,7,8,9,10,11]},\"id\":\"2043\",\"type\":\"MonthsTicker\"},{\"attributes\":{},\"id\":\"2007\",\"type\":\"BasicTicker\"},{\"attributes\":{},\"id\":\"2033\",\"type\":\"BasicTickFormatter\"},{\"attributes\":{\"months\":[0,2,4,6,8,10]},\"id\":\"2044\",\"type\":\"MonthsTicker\"},{\"attributes\":{\"axis\":{\"id\":\"2006\"},\"dimension\":1,\"grid_line_alpha\":0.5,\"ticker\":null},\"id\":\"2009\",\"type\":\"Grid\"}],\"root_ids\":[\"1991\"]},\"title\":\"Bokeh Application\",\"version\":\"2.1.1\"}};\n",
       "  var render_items = [{\"docid\":\"1019ca3e-ea2e-4542-877d-2183fc374d14\",\"root_ids\":[\"1991\"],\"roots\":{\"1991\":\"a9df9754-5917-4d79-a5d7-640604273f81\"}}];\n",
       "  root.Bokeh.embed.embed_items_notebook(docs_json, render_items);\n",
       "\n",
       "  }\n",
       "  if (root.Bokeh !== undefined) {\n",
       "    embed_document(root);\n",
       "  } else {\n",
       "    var attempts = 0;\n",
       "    var timer = setInterval(function(root) {\n",
       "      if (root.Bokeh !== undefined) {\n",
       "        clearInterval(timer);\n",
       "        embed_document(root);\n",
       "      } else {\n",
       "        attempts++;\n",
       "        if (attempts > 100) {\n",
       "          clearInterval(timer);\n",
       "          console.log(\"Bokeh: ERROR: Unable to run BokehJS code because BokehJS library is missing\");\n",
       "        }\n",
       "      }\n",
       "    }, 10, root)\n",
       "  }\n",
       "})(window);"
      ],
      "application/vnd.bokehjs_exec.v0+json": ""
     },
     "metadata": {
      "application/vnd.bokehjs_exec.v0+json": {
       "id": "1991"
      }
     },
     "output_type": "display_data"
    }
   ],
   "source": [
    "df_trump = get_plot_data('data/processed/foreign-policy/2020/trump/headlines.csv')\n",
    "df_biden = get_plot_data('data/processed/foreign-policy/2020/biden/headlines.csv')\n",
    "\n",
    "plot_chart(df_trump, df_biden, 'Trump', 'Biden', \"Candidate Sentiment - 2020 - Last 90 Days\")"
   ]
  },
  {
   "cell_type": "code",
   "execution_count": 15,
   "metadata": {},
   "outputs": [
    {
     "data": {
      "text/html": [
       "\n",
       "\n",
       "\n",
       "\n",
       "\n",
       "\n",
       "  <div class=\"bk-root\" id=\"d119acd9-c63a-43d6-8af8-a93d132134fa\" data-root-id=\"2351\"></div>\n"
      ]
     },
     "metadata": {},
     "output_type": "display_data"
    },
    {
     "data": {
      "application/javascript": [
       "(function(root) {\n",
       "  function embed_document(root) {\n",
       "    \n",
       "  var docs_json = {\"d0a30b87-ca07-4ca4-8fd0-671af5e7854a\":{\"roots\":{\"references\":[{\"attributes\":{\"below\":[{\"id\":\"2362\"}],\"center\":[{\"id\":\"2365\"},{\"id\":\"2369\"},{\"id\":\"2409\"}],\"left\":[{\"id\":\"2366\"}],\"plot_height\":350,\"plot_width\":900,\"renderers\":[{\"id\":\"2387\"},{\"id\":\"2414\"},{\"id\":\"2419\"},{\"id\":\"2449\"}],\"title\":{\"id\":\"2352\"},\"toolbar\":{\"id\":\"2377\"},\"x_range\":{\"id\":\"2354\"},\"x_scale\":{\"id\":\"2358\"},\"y_range\":{\"id\":\"2356\"},\"y_scale\":{\"id\":\"2360\"}},\"id\":\"2351\",\"subtype\":\"Figure\",\"type\":\"Plot\"},{\"attributes\":{},\"id\":\"2358\",\"type\":\"LinearScale\"},{\"attributes\":{},\"id\":\"2428\",\"type\":\"Selection\"},{\"attributes\":{\"base\":24,\"mantissas\":[1,2,4,6,8,12],\"max_interval\":43200000.0,\"min_interval\":3600000.0,\"num_minor_ticks\":0},\"id\":\"2398\",\"type\":\"AdaptiveTicker\"},{\"attributes\":{\"line_alpha\":0.1,\"line_color\":\"blue\",\"line_width\":4,\"x\":{\"field\":\"x\"},\"y\":{\"field\":\"y\"}},\"id\":\"2418\",\"type\":\"Line\"},{\"attributes\":{\"days\":[1,2,3,4,5,6,7,8,9,10,11,12,13,14,15,16,17,18,19,20,21,22,23,24,25,26,27,28,29,30,31]},\"id\":\"2399\",\"type\":\"DaysTicker\"},{\"attributes\":{\"data_source\":{\"id\":\"2416\"},\"glyph\":{\"id\":\"2417\"},\"hover_glyph\":null,\"muted_glyph\":null,\"nonselection_glyph\":{\"id\":\"2418\"},\"selection_glyph\":null,\"view\":{\"id\":\"2420\"}},\"id\":\"2419\",\"type\":\"GlyphRenderer\"},{\"attributes\":{\"source\":{\"id\":\"2416\"}},\"id\":\"2420\",\"type\":\"CDSView\"},{\"attributes\":{\"days\":[1,8,15,22]},\"id\":\"2401\",\"type\":\"DaysTicker\"},{\"attributes\":{\"line_alpha\":0.6,\"line_color\":\"blue\",\"line_width\":4,\"x\":{\"field\":\"x\"},\"y\":{\"field\":\"y\"}},\"id\":\"2417\",\"type\":\"Line\"},{\"attributes\":{\"axis_label\":\"Date\",\"formatter\":{\"id\":\"2391\"},\"ticker\":{\"id\":\"2363\"}},\"id\":\"2362\",\"type\":\"DatetimeAxis\"},{\"attributes\":{\"days\":[1,15]},\"id\":\"2402\",\"type\":\"DaysTicker\"},{\"attributes\":{\"num_minor_ticks\":5,\"tickers\":[{\"id\":\"2396\"},{\"id\":\"2397\"},{\"id\":\"2398\"},{\"id\":\"2399\"},{\"id\":\"2400\"},{\"id\":\"2401\"},{\"id\":\"2402\"},{\"id\":\"2403\"},{\"id\":\"2404\"},{\"id\":\"2405\"},{\"id\":\"2406\"},{\"id\":\"2407\"}]},\"id\":\"2363\",\"type\":\"DatetimeTicker\"},{\"attributes\":{},\"id\":\"2429\",\"type\":\"UnionRenderers\"},{\"attributes\":{\"source\":{\"id\":\"2384\"}},\"id\":\"2388\",\"type\":\"CDSView\"},{\"attributes\":{\"months\":[0,1,2,3,4,5,6,7,8,9,10,11]},\"id\":\"2403\",\"type\":\"MonthsTicker\"},{\"attributes\":{\"data_source\":{\"id\":\"2384\"},\"glyph\":{\"id\":\"2385\"},\"hover_glyph\":null,\"muted_glyph\":null,\"nonselection_glyph\":{\"id\":\"2386\"},\"selection_glyph\":null,\"view\":{\"id\":\"2388\"}},\"id\":\"2387\",\"type\":\"GlyphRenderer\"},{\"attributes\":{\"axis\":{\"id\":\"2362\"},\"grid_line_color\":null,\"ticker\":null},\"id\":\"2365\",\"type\":\"Grid\"},{\"attributes\":{\"line_alpha\":0.1,\"line_color\":\"red\",\"line_width\":4,\"x\":{\"field\":\"x\"},\"y\":{\"field\":\"y\"}},\"id\":\"2386\",\"type\":\"Line\"},{\"attributes\":{},\"id\":\"2430\",\"type\":\"Selection\"},{\"attributes\":{\"base\":60,\"mantissas\":[1,2,5,10,15,20,30],\"max_interval\":1800000.0,\"min_interval\":1000.0,\"num_minor_ticks\":0},\"id\":\"2397\",\"type\":\"AdaptiveTicker\"},{\"attributes\":{\"months\":[0,2,4,6,8,10]},\"id\":\"2404\",\"type\":\"MonthsTicker\"},{\"attributes\":{\"axis_label\":\"Sentiment Score\",\"formatter\":{\"id\":\"2393\"},\"ticker\":{\"id\":\"2367\"}},\"id\":\"2366\",\"type\":\"LinearAxis\"},{\"attributes\":{\"label\":{\"value\":\"Biden (1.5)\"},\"renderers\":[{\"id\":\"2419\"}]},\"id\":\"2445\",\"type\":\"LegendItem\"},{\"attributes\":{},\"id\":\"2391\",\"type\":\"DatetimeTickFormatter\"},{\"attributes\":{\"months\":[0,4,8]},\"id\":\"2405\",\"type\":\"MonthsTicker\"},{\"attributes\":{},\"id\":\"2566\",\"type\":\"Selection\"},{\"attributes\":{},\"id\":\"2367\",\"type\":\"BasicTicker\"},{\"attributes\":{\"months\":[0,6]},\"id\":\"2406\",\"type\":\"MonthsTicker\"},{\"attributes\":{\"data\":{\"x\":{\"__ndarray__\":\"AADAI+oad0IAAEDvjht3Qg==\",\"dtype\":\"float64\",\"order\":\"little\",\"shape\":[2]},\"y\":[1,2]},\"selected\":{\"id\":\"2566\"},\"selection_policy\":{\"id\":\"2567\"}},\"id\":\"2446\",\"type\":\"ColumnDataSource\"},{\"attributes\":{\"data_source\":{\"id\":\"2446\"},\"glyph\":{\"id\":\"2447\"},\"hover_glyph\":null,\"muted_glyph\":null,\"nonselection_glyph\":{\"id\":\"2448\"},\"selection_glyph\":null,\"view\":{\"id\":\"2450\"}},\"id\":\"2449\",\"type\":\"GlyphRenderer\"},{\"attributes\":{\"axis\":{\"id\":\"2366\"},\"dimension\":1,\"grid_line_alpha\":0.5,\"ticker\":null},\"id\":\"2369\",\"type\":\"Grid\"},{\"attributes\":{},\"id\":\"2407\",\"type\":\"YearsTicker\"},{\"attributes\":{\"data\":{\"x\":{\"__ndarray__\":\"AADAI+oad0IAAEDvjht3Qg==\",\"dtype\":\"float64\",\"order\":\"little\",\"shape\":[2]},\"y\":[1,2]},\"selected\":{\"id\":\"2430\"},\"selection_policy\":{\"id\":\"2431\"}},\"id\":\"2416\",\"type\":\"ColumnDataSource\"},{\"attributes\":{\"items\":[{\"id\":\"2410\"},{\"id\":\"2445\"}],\"location\":\"bottom_right\"},\"id\":\"2409\",\"type\":\"Legend\"},{\"attributes\":{},\"id\":\"2393\",\"type\":\"BasicTickFormatter\"},{\"attributes\":{\"text\":\"Candidate Sentiment - 2020 - Last 90 Days\"},\"id\":\"2352\",\"type\":\"Title\"},{\"attributes\":{\"bottom_units\":\"screen\",\"fill_alpha\":0.5,\"fill_color\":\"lightgrey\",\"left_units\":\"screen\",\"level\":\"overlay\",\"line_alpha\":1.0,\"line_color\":\"black\",\"line_dash\":[4,4],\"line_width\":2,\"right_units\":\"screen\",\"top_units\":\"screen\"},\"id\":\"2376\",\"type\":\"BoxAnnotation\"},{\"attributes\":{\"label\":{\"value\":\"Trump (1.5)\"},\"renderers\":[{\"id\":\"2387\"}]},\"id\":\"2410\",\"type\":\"LegendItem\"},{\"attributes\":{\"source\":{\"id\":\"2446\"}},\"id\":\"2450\",\"type\":\"CDSView\"},{\"attributes\":{},\"id\":\"2395\",\"type\":\"UnionRenderers\"},{\"attributes\":{\"data\":{\"x\":{\"__ndarray__\":\"AACAW6kYd0IAAEB5SCN3QgAAgKo/JHdCAABAmkssd0I=\",\"dtype\":\"float64\",\"order\":\"little\",\"shape\":[4]},\"y\":[1,2,2,1]},\"selected\":{\"id\":\"2428\"},\"selection_policy\":{\"id\":\"2429\"}},\"id\":\"2411\",\"type\":\"ColumnDataSource\"},{\"attributes\":{\"fill_alpha\":{\"value\":0.1},\"fill_color\":{\"value\":\"blue\"},\"line_alpha\":{\"value\":0.1},\"line_color\":{\"value\":\"blue\"},\"size\":{\"units\":\"screen\",\"value\":5},\"x\":{\"field\":\"x\"},\"y\":{\"field\":\"y\"}},\"id\":\"2448\",\"type\":\"Circle\"},{\"attributes\":{},\"id\":\"2370\",\"type\":\"PanTool\"},{\"attributes\":{\"data\":{\"x\":{\"__ndarray__\":\"AACAW6kYd0IAAEB5SCN3QgAAgKo/JHdCAABAmkssd0I=\",\"dtype\":\"float64\",\"order\":\"little\",\"shape\":[4]},\"y\":[1,2,2,1]},\"selected\":{\"id\":\"2394\"},\"selection_policy\":{\"id\":\"2395\"}},\"id\":\"2384\",\"type\":\"ColumnDataSource\"},{\"attributes\":{\"data_source\":{\"id\":\"2411\"},\"glyph\":{\"id\":\"2412\"},\"hover_glyph\":null,\"muted_glyph\":null,\"nonselection_glyph\":{\"id\":\"2413\"},\"selection_glyph\":null,\"view\":{\"id\":\"2415\"}},\"id\":\"2414\",\"type\":\"GlyphRenderer\"},{\"attributes\":{\"fill_color\":{\"value\":\"blue\"},\"line_color\":{\"value\":\"blue\"},\"size\":{\"units\":\"screen\",\"value\":5},\"x\":{\"field\":\"x\"},\"y\":{\"field\":\"y\"}},\"id\":\"2447\",\"type\":\"Circle\"},{\"attributes\":{},\"id\":\"2360\",\"type\":\"LinearScale\"},{\"attributes\":{},\"id\":\"2371\",\"type\":\"WheelZoomTool\"},{\"attributes\":{\"overlay\":{\"id\":\"2376\"}},\"id\":\"2372\",\"type\":\"BoxZoomTool\"},{\"attributes\":{},\"id\":\"2567\",\"type\":\"UnionRenderers\"},{\"attributes\":{\"mantissas\":[1,2,5],\"max_interval\":500.0,\"num_minor_ticks\":0},\"id\":\"2396\",\"type\":\"AdaptiveTicker\"},{\"attributes\":{\"line_alpha\":0.6,\"line_color\":\"red\",\"line_width\":4,\"x\":{\"field\":\"x\"},\"y\":{\"field\":\"y\"}},\"id\":\"2385\",\"type\":\"Line\"},{\"attributes\":{},\"id\":\"2354\",\"type\":\"DataRange1d\"},{\"attributes\":{\"active_drag\":\"auto\",\"active_inspect\":\"auto\",\"active_multi\":null,\"active_scroll\":\"auto\",\"active_tap\":\"auto\",\"tools\":[{\"id\":\"2370\"},{\"id\":\"2371\"},{\"id\":\"2372\"},{\"id\":\"2373\"},{\"id\":\"2374\"},{\"id\":\"2375\"}]},\"id\":\"2377\",\"type\":\"Toolbar\"},{\"attributes\":{},\"id\":\"2373\",\"type\":\"SaveTool\"},{\"attributes\":{\"days\":[1,4,7,10,13,16,19,22,25,28]},\"id\":\"2400\",\"type\":\"DaysTicker\"},{\"attributes\":{\"source\":{\"id\":\"2411\"}},\"id\":\"2415\",\"type\":\"CDSView\"},{\"attributes\":{},\"id\":\"2431\",\"type\":\"UnionRenderers\"},{\"attributes\":{},\"id\":\"2374\",\"type\":\"ResetTool\"},{\"attributes\":{},\"id\":\"2394\",\"type\":\"Selection\"},{\"attributes\":{},\"id\":\"2356\",\"type\":\"DataRange1d\"},{\"attributes\":{\"fill_alpha\":{\"value\":0.1},\"fill_color\":{\"value\":\"red\"},\"line_alpha\":{\"value\":0.1},\"line_color\":{\"value\":\"red\"},\"size\":{\"units\":\"screen\",\"value\":5},\"x\":{\"field\":\"x\"},\"y\":{\"field\":\"y\"}},\"id\":\"2413\",\"type\":\"Circle\"},{\"attributes\":{},\"id\":\"2375\",\"type\":\"HelpTool\"},{\"attributes\":{\"fill_color\":{\"value\":\"red\"},\"line_color\":{\"value\":\"red\"},\"size\":{\"units\":\"screen\",\"value\":5},\"x\":{\"field\":\"x\"},\"y\":{\"field\":\"y\"}},\"id\":\"2412\",\"type\":\"Circle\"}],\"root_ids\":[\"2351\"]},\"title\":\"Bokeh Application\",\"version\":\"2.1.1\"}};\n",
       "  var render_items = [{\"docid\":\"d0a30b87-ca07-4ca4-8fd0-671af5e7854a\",\"root_ids\":[\"2351\"],\"roots\":{\"2351\":\"d119acd9-c63a-43d6-8af8-a93d132134fa\"}}];\n",
       "  root.Bokeh.embed.embed_items_notebook(docs_json, render_items);\n",
       "\n",
       "  }\n",
       "  if (root.Bokeh !== undefined) {\n",
       "    embed_document(root);\n",
       "  } else {\n",
       "    var attempts = 0;\n",
       "    var timer = setInterval(function(root) {\n",
       "      if (root.Bokeh !== undefined) {\n",
       "        clearInterval(timer);\n",
       "        embed_document(root);\n",
       "      } else {\n",
       "        attempts++;\n",
       "        if (attempts > 100) {\n",
       "          clearInterval(timer);\n",
       "          console.log(\"Bokeh: ERROR: Unable to run BokehJS code because BokehJS library is missing\");\n",
       "        }\n",
       "      }\n",
       "    }, 10, root)\n",
       "  }\n",
       "})(window);"
      ],
      "application/vnd.bokehjs_exec.v0+json": ""
     },
     "metadata": {
      "application/vnd.bokehjs_exec.v0+json": {
       "id": "2351"
      }
     },
     "output_type": "display_data"
    }
   ],
   "source": [
    "df_trump = get_plot_data('data/processed/guns/2020/trump/headlines.csv')\n",
    "#df_biden = get_plot_data('data/processed/guns/2020/biden/headlines.csv')\n",
    "\n",
    "plot_chart(df_trump, df_biden, 'Trump', 'Biden', \"Candidate Sentiment - 2020 - Last 90 Days\")"
   ]
  },
  {
   "cell_type": "code",
   "execution_count": 17,
   "metadata": {},
   "outputs": [
    {
     "data": {
      "text/html": [
       "\n",
       "\n",
       "\n",
       "\n",
       "\n",
       "\n",
       "  <div class=\"bk-root\" id=\"80efb728-79e1-460e-a515-4e73fa9362a6\" data-root-id=\"2737\"></div>\n"
      ]
     },
     "metadata": {},
     "output_type": "display_data"
    },
    {
     "data": {
      "application/javascript": [
       "(function(root) {\n",
       "  function embed_document(root) {\n",
       "    \n",
       "  var docs_json = {\"3cef7304-4810-4e7b-9311-c5c1ff71fdc7\":{\"roots\":{\"references\":[{\"attributes\":{\"below\":[{\"id\":\"2748\"}],\"center\":[{\"id\":\"2751\"},{\"id\":\"2755\"},{\"id\":\"2795\"}],\"left\":[{\"id\":\"2752\"}],\"plot_height\":350,\"plot_width\":900,\"renderers\":[{\"id\":\"2773\"},{\"id\":\"2800\"},{\"id\":\"2805\"},{\"id\":\"2835\"}],\"title\":{\"id\":\"2738\"},\"toolbar\":{\"id\":\"2763\"},\"x_range\":{\"id\":\"2740\"},\"x_scale\":{\"id\":\"2744\"},\"y_range\":{\"id\":\"2742\"},\"y_scale\":{\"id\":\"2746\"}},\"id\":\"2737\",\"subtype\":\"Figure\",\"type\":\"Plot\"},{\"attributes\":{},\"id\":\"2740\",\"type\":\"DataRange1d\"},{\"attributes\":{\"data\":{\"x\":{\"__ndarray__\":\"AAAAYnEVd0IAAEAqshd3QgAAALEHIXdCAADAN10qd0IAAABpVCt3QgAAgGKMLndCAAAALjEvd0I=\",\"dtype\":\"float64\",\"order\":\"little\",\"shape\":[7]},\"y\":[3,2,2,2,2,2,2]},\"selected\":{\"id\":\"2814\"},\"selection_policy\":{\"id\":\"2815\"}},\"id\":\"2797\",\"type\":\"ColumnDataSource\"},{\"attributes\":{\"data_source\":{\"id\":\"2832\"},\"glyph\":{\"id\":\"2833\"},\"hover_glyph\":null,\"muted_glyph\":null,\"nonselection_glyph\":{\"id\":\"2834\"},\"selection_glyph\":null,\"view\":{\"id\":\"2836\"}},\"id\":\"2835\",\"type\":\"GlyphRenderer\"},{\"attributes\":{},\"id\":\"2756\",\"type\":\"PanTool\"},{\"attributes\":{\"data_source\":{\"id\":\"2797\"},\"glyph\":{\"id\":\"2798\"},\"hover_glyph\":null,\"muted_glyph\":null,\"nonselection_glyph\":{\"id\":\"2799\"},\"selection_glyph\":null,\"view\":{\"id\":\"2801\"}},\"id\":\"2800\",\"type\":\"GlyphRenderer\"},{\"attributes\":{},\"id\":\"2978\",\"type\":\"Selection\"},{\"attributes\":{},\"id\":\"2757\",\"type\":\"WheelZoomTool\"},{\"attributes\":{\"mantissas\":[1,2,5],\"max_interval\":500.0,\"num_minor_ticks\":0},\"id\":\"2782\",\"type\":\"AdaptiveTicker\"},{\"attributes\":{\"source\":{\"id\":\"2832\"}},\"id\":\"2836\",\"type\":\"CDSView\"},{\"attributes\":{},\"id\":\"2746\",\"type\":\"LinearScale\"},{\"attributes\":{\"overlay\":{\"id\":\"2762\"}},\"id\":\"2758\",\"type\":\"BoxZoomTool\"},{\"attributes\":{\"source\":{\"id\":\"2770\"}},\"id\":\"2774\",\"type\":\"CDSView\"},{\"attributes\":{},\"id\":\"2759\",\"type\":\"SaveTool\"},{\"attributes\":{\"source\":{\"id\":\"2797\"}},\"id\":\"2801\",\"type\":\"CDSView\"},{\"attributes\":{\"data\":{\"x\":{\"__ndarray__\":\"AAAAYnEVd0IAAEAqshd3QgAAALEHIXdCAADAN10qd0IAAABpVCt3QgAAgGKMLndCAAAALjEvd0I=\",\"dtype\":\"float64\",\"order\":\"little\",\"shape\":[7]},\"y\":[3,2,2,2,2,2,2]},\"selected\":{\"id\":\"2780\"},\"selection_policy\":{\"id\":\"2781\"}},\"id\":\"2770\",\"type\":\"ColumnDataSource\"},{\"attributes\":{},\"id\":\"2742\",\"type\":\"DataRange1d\"},{\"attributes\":{\"fill_alpha\":{\"value\":0.1},\"fill_color\":{\"value\":\"red\"},\"line_alpha\":{\"value\":0.1},\"line_color\":{\"value\":\"red\"},\"size\":{\"units\":\"screen\",\"value\":5},\"x\":{\"field\":\"x\"},\"y\":{\"field\":\"y\"}},\"id\":\"2799\",\"type\":\"Circle\"},{\"attributes\":{},\"id\":\"2760\",\"type\":\"ResetTool\"},{\"attributes\":{},\"id\":\"2979\",\"type\":\"UnionRenderers\"},{\"attributes\":{\"fill_color\":{\"value\":\"red\"},\"line_color\":{\"value\":\"red\"},\"size\":{\"units\":\"screen\",\"value\":5},\"x\":{\"field\":\"x\"},\"y\":{\"field\":\"y\"}},\"id\":\"2798\",\"type\":\"Circle\"},{\"attributes\":{},\"id\":\"2761\",\"type\":\"HelpTool\"},{\"attributes\":{},\"id\":\"2744\",\"type\":\"LinearScale\"},{\"attributes\":{},\"id\":\"2781\",\"type\":\"UnionRenderers\"},{\"attributes\":{\"active_drag\":\"auto\",\"active_inspect\":\"auto\",\"active_multi\":null,\"active_scroll\":\"auto\",\"active_tap\":\"auto\",\"tools\":[{\"id\":\"2756\"},{\"id\":\"2757\"},{\"id\":\"2758\"},{\"id\":\"2759\"},{\"id\":\"2760\"},{\"id\":\"2761\"}]},\"id\":\"2763\",\"type\":\"Toolbar\"},{\"attributes\":{},\"id\":\"2814\",\"type\":\"Selection\"},{\"attributes\":{\"line_alpha\":0.6,\"line_color\":\"red\",\"line_width\":4,\"x\":{\"field\":\"x\"},\"y\":{\"field\":\"y\"}},\"id\":\"2771\",\"type\":\"Line\"},{\"attributes\":{\"days\":[1,2,3,4,5,6,7,8,9,10,11,12,13,14,15,16,17,18,19,20,21,22,23,24,25,26,27,28,29,30,31]},\"id\":\"2785\",\"type\":\"DaysTicker\"},{\"attributes\":{\"line_alpha\":0.1,\"line_color\":\"blue\",\"line_width\":4,\"x\":{\"field\":\"x\"},\"y\":{\"field\":\"y\"}},\"id\":\"2804\",\"type\":\"Line\"},{\"attributes\":{\"bottom_units\":\"screen\",\"fill_alpha\":0.5,\"fill_color\":\"lightgrey\",\"left_units\":\"screen\",\"level\":\"overlay\",\"line_alpha\":1.0,\"line_color\":\"black\",\"line_dash\":[4,4],\"line_width\":2,\"right_units\":\"screen\",\"top_units\":\"screen\"},\"id\":\"2762\",\"type\":\"BoxAnnotation\"},{\"attributes\":{\"data_source\":{\"id\":\"2802\"},\"glyph\":{\"id\":\"2803\"},\"hover_glyph\":null,\"muted_glyph\":null,\"nonselection_glyph\":{\"id\":\"2804\"},\"selection_glyph\":null,\"view\":{\"id\":\"2806\"}},\"id\":\"2805\",\"type\":\"GlyphRenderer\"},{\"attributes\":{\"line_alpha\":0.1,\"line_color\":\"red\",\"line_width\":4,\"x\":{\"field\":\"x\"},\"y\":{\"field\":\"y\"}},\"id\":\"2772\",\"type\":\"Line\"},{\"attributes\":{\"source\":{\"id\":\"2802\"}},\"id\":\"2806\",\"type\":\"CDSView\"},{\"attributes\":{\"days\":[1,8,15,22]},\"id\":\"2787\",\"type\":\"DaysTicker\"},{\"attributes\":{\"line_alpha\":0.6,\"line_color\":\"blue\",\"line_width\":4,\"x\":{\"field\":\"x\"},\"y\":{\"field\":\"y\"}},\"id\":\"2803\",\"type\":\"Line\"},{\"attributes\":{\"base\":60,\"mantissas\":[1,2,5,10,15,20,30],\"max_interval\":1800000.0,\"min_interval\":1000.0,\"num_minor_ticks\":0},\"id\":\"2783\",\"type\":\"AdaptiveTicker\"},{\"attributes\":{\"axis_label\":\"Date\",\"formatter\":{\"id\":\"2777\"},\"ticker\":{\"id\":\"2749\"}},\"id\":\"2748\",\"type\":\"DatetimeAxis\"},{\"attributes\":{\"days\":[1,15]},\"id\":\"2788\",\"type\":\"DaysTicker\"},{\"attributes\":{\"num_minor_ticks\":5,\"tickers\":[{\"id\":\"2782\"},{\"id\":\"2783\"},{\"id\":\"2784\"},{\"id\":\"2785\"},{\"id\":\"2786\"},{\"id\":\"2787\"},{\"id\":\"2788\"},{\"id\":\"2789\"},{\"id\":\"2790\"},{\"id\":\"2791\"},{\"id\":\"2792\"},{\"id\":\"2793\"}]},\"id\":\"2749\",\"type\":\"DatetimeTicker\"},{\"attributes\":{},\"id\":\"2815\",\"type\":\"UnionRenderers\"},{\"attributes\":{},\"id\":\"2777\",\"type\":\"DatetimeTickFormatter\"},{\"attributes\":{\"months\":[0,1,2,3,4,5,6,7,8,9,10,11]},\"id\":\"2789\",\"type\":\"MonthsTicker\"},{\"attributes\":{\"axis\":{\"id\":\"2748\"},\"grid_line_color\":null,\"ticker\":null},\"id\":\"2751\",\"type\":\"Grid\"},{\"attributes\":{},\"id\":\"2779\",\"type\":\"BasicTickFormatter\"},{\"attributes\":{},\"id\":\"2816\",\"type\":\"Selection\"},{\"attributes\":{},\"id\":\"2780\",\"type\":\"Selection\"},{\"attributes\":{\"months\":[0,2,4,6,8,10]},\"id\":\"2790\",\"type\":\"MonthsTicker\"},{\"attributes\":{\"data_source\":{\"id\":\"2770\"},\"glyph\":{\"id\":\"2771\"},\"hover_glyph\":null,\"muted_glyph\":null,\"nonselection_glyph\":{\"id\":\"2772\"},\"selection_glyph\":null,\"view\":{\"id\":\"2774\"}},\"id\":\"2773\",\"type\":\"GlyphRenderer\"},{\"attributes\":{\"axis_label\":\"Sentiment Score\",\"formatter\":{\"id\":\"2779\"},\"ticker\":{\"id\":\"2753\"}},\"id\":\"2752\",\"type\":\"LinearAxis\"},{\"attributes\":{},\"id\":\"2817\",\"type\":\"UnionRenderers\"},{\"attributes\":{\"months\":[0,4,8]},\"id\":\"2791\",\"type\":\"MonthsTicker\"},{\"attributes\":{\"label\":{\"value\":\"Biden (1.5)\"},\"renderers\":[{\"id\":\"2805\"}]},\"id\":\"2831\",\"type\":\"LegendItem\"},{\"attributes\":{},\"id\":\"2753\",\"type\":\"BasicTicker\"},{\"attributes\":{\"text\":\"Candidate Sentiment - 2020 - Last 90 Days\"},\"id\":\"2738\",\"type\":\"Title\"},{\"attributes\":{\"months\":[0,6]},\"id\":\"2792\",\"type\":\"MonthsTicker\"},{\"attributes\":{\"axis\":{\"id\":\"2752\"},\"dimension\":1,\"grid_line_alpha\":0.5,\"ticker\":null},\"id\":\"2755\",\"type\":\"Grid\"},{\"attributes\":{},\"id\":\"2793\",\"type\":\"YearsTicker\"},{\"attributes\":{\"data\":{\"x\":{\"__ndarray__\":\"AADAI+oad0IAAEDvjht3Qg==\",\"dtype\":\"float64\",\"order\":\"little\",\"shape\":[2]},\"y\":[1,2]},\"selected\":{\"id\":\"2978\"},\"selection_policy\":{\"id\":\"2979\"}},\"id\":\"2832\",\"type\":\"ColumnDataSource\"},{\"attributes\":{\"base\":24,\"mantissas\":[1,2,4,6,8,12],\"max_interval\":43200000.0,\"min_interval\":3600000.0,\"num_minor_ticks\":0},\"id\":\"2784\",\"type\":\"AdaptiveTicker\"},{\"attributes\":{\"days\":[1,4,7,10,13,16,19,22,25,28]},\"id\":\"2786\",\"type\":\"DaysTicker\"},{\"attributes\":{\"data\":{\"x\":{\"__ndarray__\":\"AADAI+oad0IAAEDvjht3Qg==\",\"dtype\":\"float64\",\"order\":\"little\",\"shape\":[2]},\"y\":[1,2]},\"selected\":{\"id\":\"2816\"},\"selection_policy\":{\"id\":\"2817\"}},\"id\":\"2802\",\"type\":\"ColumnDataSource\"},{\"attributes\":{\"fill_color\":{\"value\":\"blue\"},\"line_color\":{\"value\":\"blue\"},\"size\":{\"units\":\"screen\",\"value\":5},\"x\":{\"field\":\"x\"},\"y\":{\"field\":\"y\"}},\"id\":\"2833\",\"type\":\"Circle\"},{\"attributes\":{\"items\":[{\"id\":\"2796\"},{\"id\":\"2831\"}],\"location\":\"bottom_right\"},\"id\":\"2795\",\"type\":\"Legend\"},{\"attributes\":{\"fill_alpha\":{\"value\":0.1},\"fill_color\":{\"value\":\"blue\"},\"line_alpha\":{\"value\":0.1},\"line_color\":{\"value\":\"blue\"},\"size\":{\"units\":\"screen\",\"value\":5},\"x\":{\"field\":\"x\"},\"y\":{\"field\":\"y\"}},\"id\":\"2834\",\"type\":\"Circle\"},{\"attributes\":{\"label\":{\"value\":\"Trump (2.14286)\"},\"renderers\":[{\"id\":\"2773\"}]},\"id\":\"2796\",\"type\":\"LegendItem\"}],\"root_ids\":[\"2737\"]},\"title\":\"Bokeh Application\",\"version\":\"2.1.1\"}};\n",
       "  var render_items = [{\"docid\":\"3cef7304-4810-4e7b-9311-c5c1ff71fdc7\",\"root_ids\":[\"2737\"],\"roots\":{\"2737\":\"80efb728-79e1-460e-a515-4e73fa9362a6\"}}];\n",
       "  root.Bokeh.embed.embed_items_notebook(docs_json, render_items);\n",
       "\n",
       "  }\n",
       "  if (root.Bokeh !== undefined) {\n",
       "    embed_document(root);\n",
       "  } else {\n",
       "    var attempts = 0;\n",
       "    var timer = setInterval(function(root) {\n",
       "      if (root.Bokeh !== undefined) {\n",
       "        clearInterval(timer);\n",
       "        embed_document(root);\n",
       "      } else {\n",
       "        attempts++;\n",
       "        if (attempts > 100) {\n",
       "          clearInterval(timer);\n",
       "          console.log(\"Bokeh: ERROR: Unable to run BokehJS code because BokehJS library is missing\");\n",
       "        }\n",
       "      }\n",
       "    }, 10, root)\n",
       "  }\n",
       "})(window);"
      ],
      "application/vnd.bokehjs_exec.v0+json": ""
     },
     "metadata": {
      "application/vnd.bokehjs_exec.v0+json": {
       "id": "2737"
      }
     },
     "output_type": "display_data"
    }
   ],
   "source": [
    "df_trump = get_plot_data('data/processed/health/2020/trump/headlines.csv')\n",
    "#df_biden = get_plot_data('data/processed/health/2020/biden/headlines.csv')\n",
    "\n",
    "plot_chart(df_trump, df_biden, 'Trump', 'Biden', \"Candidate Sentiment - 2020 - Last 90 Days\")"
   ]
  },
  {
   "cell_type": "code",
   "execution_count": 19,
   "metadata": {},
   "outputs": [
    {
     "data": {
      "text/html": [
       "\n",
       "\n",
       "\n",
       "\n",
       "\n",
       "\n",
       "  <div class=\"bk-root\" id=\"35a68c4c-60bc-440e-8af5-06d725f112bf\" data-root-id=\"3149\"></div>\n"
      ]
     },
     "metadata": {},
     "output_type": "display_data"
    },
    {
     "data": {
      "application/javascript": [
       "(function(root) {\n",
       "  function embed_document(root) {\n",
       "    \n",
       "  var docs_json = {\"6e74b946-f1fb-46a5-b665-9e910156de13\":{\"roots\":{\"references\":[{\"attributes\":{\"below\":[{\"id\":\"3160\"}],\"center\":[{\"id\":\"3163\"},{\"id\":\"3167\"},{\"id\":\"3207\"}],\"left\":[{\"id\":\"3164\"}],\"plot_height\":350,\"plot_width\":900,\"renderers\":[{\"id\":\"3185\"},{\"id\":\"3212\"},{\"id\":\"3217\"},{\"id\":\"3247\"}],\"title\":{\"id\":\"3150\"},\"toolbar\":{\"id\":\"3175\"},\"x_range\":{\"id\":\"3152\"},\"x_scale\":{\"id\":\"3156\"},\"y_range\":{\"id\":\"3154\"},\"y_scale\":{\"id\":\"3158\"}},\"id\":\"3149\",\"subtype\":\"Figure\",\"type\":\"Plot\"},{\"attributes\":{},\"id\":\"3193\",\"type\":\"UnionRenderers\"},{\"attributes\":{\"bottom_units\":\"screen\",\"fill_alpha\":0.5,\"fill_color\":\"lightgrey\",\"left_units\":\"screen\",\"level\":\"overlay\",\"line_alpha\":1.0,\"line_color\":\"black\",\"line_dash\":[4,4],\"line_width\":2,\"right_units\":\"screen\",\"top_units\":\"screen\"},\"id\":\"3174\",\"type\":\"BoxAnnotation\"},{\"attributes\":{\"data_source\":{\"id\":\"3214\"},\"glyph\":{\"id\":\"3215\"},\"hover_glyph\":null,\"muted_glyph\":null,\"nonselection_glyph\":{\"id\":\"3216\"},\"selection_glyph\":null,\"view\":{\"id\":\"3218\"}},\"id\":\"3217\",\"type\":\"GlyphRenderer\"},{\"attributes\":{\"data\":{\"x\":{\"__ndarray__\":\"AADAI+oad0IAAEDvjht3Qg==\",\"dtype\":\"float64\",\"order\":\"little\",\"shape\":[2]},\"y\":[1,2]},\"selected\":{\"id\":\"3228\"},\"selection_policy\":{\"id\":\"3229\"}},\"id\":\"3214\",\"type\":\"ColumnDataSource\"},{\"attributes\":{\"days\":[1,8,15,22]},\"id\":\"3199\",\"type\":\"DaysTicker\"},{\"attributes\":{\"source\":{\"id\":\"3214\"}},\"id\":\"3218\",\"type\":\"CDSView\"},{\"attributes\":{\"mantissas\":[1,2,5],\"max_interval\":500.0,\"num_minor_ticks\":0},\"id\":\"3194\",\"type\":\"AdaptiveTicker\"},{\"attributes\":{},\"id\":\"3158\",\"type\":\"LinearScale\"},{\"attributes\":{\"days\":[1,15]},\"id\":\"3200\",\"type\":\"DaysTicker\"},{\"attributes\":{\"axis_label\":\"Date\",\"formatter\":{\"id\":\"3189\"},\"ticker\":{\"id\":\"3161\"}},\"id\":\"3160\",\"type\":\"DatetimeAxis\"},{\"attributes\":{},\"id\":\"3226\",\"type\":\"Selection\"},{\"attributes\":{\"active_drag\":\"auto\",\"active_inspect\":\"auto\",\"active_multi\":null,\"active_scroll\":\"auto\",\"active_tap\":\"auto\",\"tools\":[{\"id\":\"3168\"},{\"id\":\"3169\"},{\"id\":\"3170\"},{\"id\":\"3171\"},{\"id\":\"3172\"},{\"id\":\"3173\"}]},\"id\":\"3175\",\"type\":\"Toolbar\"},{\"attributes\":{\"months\":[0,1,2,3,4,5,6,7,8,9,10,11]},\"id\":\"3201\",\"type\":\"MonthsTicker\"},{\"attributes\":{\"num_minor_ticks\":5,\"tickers\":[{\"id\":\"3194\"},{\"id\":\"3195\"},{\"id\":\"3196\"},{\"id\":\"3197\"},{\"id\":\"3198\"},{\"id\":\"3199\"},{\"id\":\"3200\"},{\"id\":\"3201\"},{\"id\":\"3202\"},{\"id\":\"3203\"},{\"id\":\"3204\"},{\"id\":\"3205\"}]},\"id\":\"3161\",\"type\":\"DatetimeTicker\"},{\"attributes\":{},\"id\":\"3227\",\"type\":\"UnionRenderers\"},{\"attributes\":{\"months\":[0,2,4,6,8,10]},\"id\":\"3202\",\"type\":\"MonthsTicker\"},{\"attributes\":{\"axis\":{\"id\":\"3160\"},\"grid_line_color\":null,\"ticker\":null},\"id\":\"3163\",\"type\":\"Grid\"},{\"attributes\":{},\"id\":\"3228\",\"type\":\"Selection\"},{\"attributes\":{\"months\":[0,4,8]},\"id\":\"3203\",\"type\":\"MonthsTicker\"},{\"attributes\":{\"axis_label\":\"Sentiment Score\",\"formatter\":{\"id\":\"3191\"},\"ticker\":{\"id\":\"3165\"}},\"id\":\"3164\",\"type\":\"LinearAxis\"},{\"attributes\":{},\"id\":\"3229\",\"type\":\"UnionRenderers\"},{\"attributes\":{\"data\":{\"x\":{\"__ndarray__\":\"AADAjKAZd0IAAIDy8hl3QgAAQFhFGndCAAAAAJ4sd0I=\",\"dtype\":\"float64\",\"order\":\"little\",\"shape\":[4]},\"y\":[2,3,2,2]},\"selected\":{\"id\":\"3192\"},\"selection_policy\":{\"id\":\"3193\"}},\"id\":\"3182\",\"type\":\"ColumnDataSource\"},{\"attributes\":{\"months\":[0,6]},\"id\":\"3204\",\"type\":\"MonthsTicker\"},{\"attributes\":{\"label\":{\"value\":\"Biden (1.5)\"},\"renderers\":[{\"id\":\"3217\"}]},\"id\":\"3243\",\"type\":\"LegendItem\"},{\"attributes\":{},\"id\":\"3165\",\"type\":\"BasicTicker\"},{\"attributes\":{},\"id\":\"3205\",\"type\":\"YearsTicker\"},{\"attributes\":{\"axis\":{\"id\":\"3164\"},\"dimension\":1,\"grid_line_alpha\":0.5,\"ticker\":null},\"id\":\"3167\",\"type\":\"Grid\"},{\"attributes\":{},\"id\":\"3192\",\"type\":\"Selection\"},{\"attributes\":{},\"id\":\"3416\",\"type\":\"Selection\"},{\"attributes\":{\"data\":{\"x\":{\"__ndarray__\":\"AADAI+oad0IAAEDvjht3Qg==\",\"dtype\":\"float64\",\"order\":\"little\",\"shape\":[2]},\"y\":[1,2]},\"selected\":{\"id\":\"3416\"},\"selection_policy\":{\"id\":\"3417\"}},\"id\":\"3244\",\"type\":\"ColumnDataSource\"},{\"attributes\":{\"items\":[{\"id\":\"3208\"},{\"id\":\"3243\"}],\"location\":\"bottom_right\"},\"id\":\"3207\",\"type\":\"Legend\"},{\"attributes\":{\"data_source\":{\"id\":\"3244\"},\"glyph\":{\"id\":\"3245\"},\"hover_glyph\":null,\"muted_glyph\":null,\"nonselection_glyph\":{\"id\":\"3246\"},\"selection_glyph\":null,\"view\":{\"id\":\"3248\"}},\"id\":\"3247\",\"type\":\"GlyphRenderer\"},{\"attributes\":{\"base\":24,\"mantissas\":[1,2,4,6,8,12],\"max_interval\":43200000.0,\"min_interval\":3600000.0,\"num_minor_ticks\":0},\"id\":\"3196\",\"type\":\"AdaptiveTicker\"},{\"attributes\":{\"label\":{\"value\":\"Trump (2.25)\"},\"renderers\":[{\"id\":\"3185\"}]},\"id\":\"3208\",\"type\":\"LegendItem\"},{\"attributes\":{\"line_alpha\":0.1,\"line_color\":\"red\",\"line_width\":4,\"x\":{\"field\":\"x\"},\"y\":{\"field\":\"y\"}},\"id\":\"3184\",\"type\":\"Line\"},{\"attributes\":{\"base\":60,\"mantissas\":[1,2,5,10,15,20,30],\"max_interval\":1800000.0,\"min_interval\":1000.0,\"num_minor_ticks\":0},\"id\":\"3195\",\"type\":\"AdaptiveTicker\"},{\"attributes\":{\"data\":{\"x\":{\"__ndarray__\":\"AADAjKAZd0IAAIDy8hl3QgAAQFhFGndCAAAAAJ4sd0I=\",\"dtype\":\"float64\",\"order\":\"little\",\"shape\":[4]},\"y\":[2,3,2,2]},\"selected\":{\"id\":\"3226\"},\"selection_policy\":{\"id\":\"3227\"}},\"id\":\"3209\",\"type\":\"ColumnDataSource\"},{\"attributes\":{},\"id\":\"3168\",\"type\":\"PanTool\"},{\"attributes\":{\"data_source\":{\"id\":\"3209\"},\"glyph\":{\"id\":\"3210\"},\"hover_glyph\":null,\"muted_glyph\":null,\"nonselection_glyph\":{\"id\":\"3211\"},\"selection_glyph\":null,\"view\":{\"id\":\"3213\"}},\"id\":\"3212\",\"type\":\"GlyphRenderer\"},{\"attributes\":{},\"id\":\"3156\",\"type\":\"LinearScale\"},{\"attributes\":{\"line_alpha\":0.6,\"line_color\":\"red\",\"line_width\":4,\"x\":{\"field\":\"x\"},\"y\":{\"field\":\"y\"}},\"id\":\"3183\",\"type\":\"Line\"},{\"attributes\":{\"source\":{\"id\":\"3244\"}},\"id\":\"3248\",\"type\":\"CDSView\"},{\"attributes\":{\"text\":\"Candidate Sentiment - 2020 - Last 90 Days\"},\"id\":\"3150\",\"type\":\"Title\"},{\"attributes\":{\"fill_alpha\":{\"value\":0.1},\"fill_color\":{\"value\":\"blue\"},\"line_alpha\":{\"value\":0.1},\"line_color\":{\"value\":\"blue\"},\"size\":{\"units\":\"screen\",\"value\":5},\"x\":{\"field\":\"x\"},\"y\":{\"field\":\"y\"}},\"id\":\"3246\",\"type\":\"Circle\"},{\"attributes\":{\"source\":{\"id\":\"3182\"}},\"id\":\"3186\",\"type\":\"CDSView\"},{\"attributes\":{},\"id\":\"3169\",\"type\":\"WheelZoomTool\"},{\"attributes\":{\"fill_color\":{\"value\":\"blue\"},\"line_color\":{\"value\":\"blue\"},\"size\":{\"units\":\"screen\",\"value\":5},\"x\":{\"field\":\"x\"},\"y\":{\"field\":\"y\"}},\"id\":\"3245\",\"type\":\"Circle\"},{\"attributes\":{\"overlay\":{\"id\":\"3174\"}},\"id\":\"3170\",\"type\":\"BoxZoomTool\"},{\"attributes\":{\"data_source\":{\"id\":\"3182\"},\"glyph\":{\"id\":\"3183\"},\"hover_glyph\":null,\"muted_glyph\":null,\"nonselection_glyph\":{\"id\":\"3184\"},\"selection_glyph\":null,\"view\":{\"id\":\"3186\"}},\"id\":\"3185\",\"type\":\"GlyphRenderer\"},{\"attributes\":{},\"id\":\"3417\",\"type\":\"UnionRenderers\"},{\"attributes\":{},\"id\":\"3171\",\"type\":\"SaveTool\"},{\"attributes\":{},\"id\":\"3154\",\"type\":\"DataRange1d\"},{\"attributes\":{\"source\":{\"id\":\"3209\"}},\"id\":\"3213\",\"type\":\"CDSView\"},{\"attributes\":{\"days\":[1,4,7,10,13,16,19,22,25,28]},\"id\":\"3198\",\"type\":\"DaysTicker\"},{\"attributes\":{\"fill_alpha\":{\"value\":0.1},\"fill_color\":{\"value\":\"red\"},\"line_alpha\":{\"value\":0.1},\"line_color\":{\"value\":\"red\"},\"size\":{\"units\":\"screen\",\"value\":5},\"x\":{\"field\":\"x\"},\"y\":{\"field\":\"y\"}},\"id\":\"3211\",\"type\":\"Circle\"},{\"attributes\":{},\"id\":\"3172\",\"type\":\"ResetTool\"},{\"attributes\":{},\"id\":\"3152\",\"type\":\"DataRange1d\"},{\"attributes\":{},\"id\":\"3189\",\"type\":\"DatetimeTickFormatter\"},{\"attributes\":{\"fill_color\":{\"value\":\"red\"},\"line_color\":{\"value\":\"red\"},\"size\":{\"units\":\"screen\",\"value\":5},\"x\":{\"field\":\"x\"},\"y\":{\"field\":\"y\"}},\"id\":\"3210\",\"type\":\"Circle\"},{\"attributes\":{},\"id\":\"3173\",\"type\":\"HelpTool\"},{\"attributes\":{\"line_alpha\":0.6,\"line_color\":\"blue\",\"line_width\":4,\"x\":{\"field\":\"x\"},\"y\":{\"field\":\"y\"}},\"id\":\"3215\",\"type\":\"Line\"},{\"attributes\":{\"days\":[1,2,3,4,5,6,7,8,9,10,11,12,13,14,15,16,17,18,19,20,21,22,23,24,25,26,27,28,29,30,31]},\"id\":\"3197\",\"type\":\"DaysTicker\"},{\"attributes\":{\"line_alpha\":0.1,\"line_color\":\"blue\",\"line_width\":4,\"x\":{\"field\":\"x\"},\"y\":{\"field\":\"y\"}},\"id\":\"3216\",\"type\":\"Line\"},{\"attributes\":{},\"id\":\"3191\",\"type\":\"BasicTickFormatter\"}],\"root_ids\":[\"3149\"]},\"title\":\"Bokeh Application\",\"version\":\"2.1.1\"}};\n",
       "  var render_items = [{\"docid\":\"6e74b946-f1fb-46a5-b665-9e910156de13\",\"root_ids\":[\"3149\"],\"roots\":{\"3149\":\"35a68c4c-60bc-440e-8af5-06d725f112bf\"}}];\n",
       "  root.Bokeh.embed.embed_items_notebook(docs_json, render_items);\n",
       "\n",
       "  }\n",
       "  if (root.Bokeh !== undefined) {\n",
       "    embed_document(root);\n",
       "  } else {\n",
       "    var attempts = 0;\n",
       "    var timer = setInterval(function(root) {\n",
       "      if (root.Bokeh !== undefined) {\n",
       "        clearInterval(timer);\n",
       "        embed_document(root);\n",
       "      } else {\n",
       "        attempts++;\n",
       "        if (attempts > 100) {\n",
       "          clearInterval(timer);\n",
       "          console.log(\"Bokeh: ERROR: Unable to run BokehJS code because BokehJS library is missing\");\n",
       "        }\n",
       "      }\n",
       "    }, 10, root)\n",
       "  }\n",
       "})(window);"
      ],
      "application/vnd.bokehjs_exec.v0+json": ""
     },
     "metadata": {
      "application/vnd.bokehjs_exec.v0+json": {
       "id": "3149"
      }
     },
     "output_type": "display_data"
    }
   ],
   "source": [
    "df_trump = get_plot_data('data/processed/immigration/2020/trump/headlines.csv')\n",
    "#df_biden = get_plot_data('data/processed/immigration/2020/biden/headlines.csv')\n",
    "\n",
    "plot_chart(df_trump, df_biden, 'Trump', 'Biden', \"Candidate Sentiment - 2020 - Last 90 Days\")"
   ]
  },
  {
   "cell_type": "code",
   "execution_count": 20,
   "metadata": {},
   "outputs": [
    {
     "data": {
      "text/html": [
       "\n",
       "\n",
       "\n",
       "\n",
       "\n",
       "\n",
       "  <div class=\"bk-root\" id=\"b7ae3d2a-70fc-406b-87aa-693bd8a0fdf4\" data-root-id=\"3587\"></div>\n"
      ]
     },
     "metadata": {},
     "output_type": "display_data"
    },
    {
     "data": {
      "application/javascript": [
       "(function(root) {\n",
       "  function embed_document(root) {\n",
       "    \n",
       "  var docs_json = {\"37aa1058-1baf-4131-9b82-e8199211a23b\":{\"roots\":{\"references\":[{\"attributes\":{\"below\":[{\"id\":\"3598\"}],\"center\":[{\"id\":\"3601\"},{\"id\":\"3605\"},{\"id\":\"3645\"}],\"left\":[{\"id\":\"3602\"}],\"plot_height\":350,\"plot_width\":900,\"renderers\":[{\"id\":\"3623\"},{\"id\":\"3650\"},{\"id\":\"3655\"},{\"id\":\"3685\"}],\"title\":{\"id\":\"3588\"},\"toolbar\":{\"id\":\"3613\"},\"x_range\":{\"id\":\"3590\"},\"x_scale\":{\"id\":\"3594\"},\"y_range\":{\"id\":\"3592\"},\"y_scale\":{\"id\":\"3596\"}},\"id\":\"3587\",\"subtype\":\"Figure\",\"type\":\"Plot\"},{\"attributes\":{},\"id\":\"3594\",\"type\":\"LinearScale\"},{\"attributes\":{\"source\":{\"id\":\"3647\"}},\"id\":\"3651\",\"type\":\"CDSView\"},{\"attributes\":{},\"id\":\"3630\",\"type\":\"Selection\"},{\"attributes\":{},\"id\":\"3596\",\"type\":\"LinearScale\"},{\"attributes\":{\"line_alpha\":0.1,\"line_color\":\"red\",\"line_width\":4,\"x\":{\"field\":\"x\"},\"y\":{\"field\":\"y\"}},\"id\":\"3622\",\"type\":\"Line\"},{\"attributes\":{\"data_source\":{\"id\":\"3620\"},\"glyph\":{\"id\":\"3621\"},\"hover_glyph\":null,\"muted_glyph\":null,\"nonselection_glyph\":{\"id\":\"3622\"},\"selection_glyph\":null,\"view\":{\"id\":\"3624\"}},\"id\":\"3623\",\"type\":\"GlyphRenderer\"},{\"attributes\":{\"data_source\":{\"id\":\"3652\"},\"glyph\":{\"id\":\"3653\"},\"hover_glyph\":null,\"muted_glyph\":null,\"nonselection_glyph\":{\"id\":\"3654\"},\"selection_glyph\":null,\"view\":{\"id\":\"3656\"}},\"id\":\"3655\",\"type\":\"GlyphRenderer\"},{\"attributes\":{},\"id\":\"3592\",\"type\":\"DataRange1d\"},{\"attributes\":{\"data_source\":{\"id\":\"3647\"},\"glyph\":{\"id\":\"3648\"},\"hover_glyph\":null,\"muted_glyph\":null,\"nonselection_glyph\":{\"id\":\"3649\"},\"selection_glyph\":null,\"view\":{\"id\":\"3651\"}},\"id\":\"3650\",\"type\":\"GlyphRenderer\"},{\"attributes\":{\"text\":\"Candidate Sentiment - 2020 - Last 90 Days\"},\"id\":\"3588\",\"type\":\"Title\"},{\"attributes\":{\"axis_label\":\"Date\",\"formatter\":{\"id\":\"3627\"},\"ticker\":{\"id\":\"3599\"}},\"id\":\"3598\",\"type\":\"DatetimeAxis\"},{\"attributes\":{},\"id\":\"3631\",\"type\":\"UnionRenderers\"},{\"attributes\":{\"source\":{\"id\":\"3620\"}},\"id\":\"3624\",\"type\":\"CDSView\"},{\"attributes\":{\"num_minor_ticks\":5,\"tickers\":[{\"id\":\"3632\"},{\"id\":\"3633\"},{\"id\":\"3634\"},{\"id\":\"3635\"},{\"id\":\"3636\"},{\"id\":\"3637\"},{\"id\":\"3638\"},{\"id\":\"3639\"},{\"id\":\"3640\"},{\"id\":\"3641\"},{\"id\":\"3642\"},{\"id\":\"3643\"}]},\"id\":\"3599\",\"type\":\"DatetimeTicker\"},{\"attributes\":{\"days\":[1,8,15,22]},\"id\":\"3637\",\"type\":\"DaysTicker\"},{\"attributes\":{\"line_alpha\":0.6,\"line_color\":\"red\",\"line_width\":4,\"x\":{\"field\":\"x\"},\"y\":{\"field\":\"y\"}},\"id\":\"3621\",\"type\":\"Line\"},{\"attributes\":{\"days\":[1,15]},\"id\":\"3638\",\"type\":\"DaysTicker\"},{\"attributes\":{\"axis\":{\"id\":\"3598\"},\"grid_line_color\":null,\"ticker\":null},\"id\":\"3601\",\"type\":\"Grid\"},{\"attributes\":{\"fill_alpha\":{\"value\":0.1},\"fill_color\":{\"value\":\"red\"},\"line_alpha\":{\"value\":0.1},\"line_color\":{\"value\":\"red\"},\"size\":{\"units\":\"screen\",\"value\":5},\"x\":{\"field\":\"x\"},\"y\":{\"field\":\"y\"}},\"id\":\"3649\",\"type\":\"Circle\"},{\"attributes\":{\"months\":[0,2,4,6,8,10]},\"id\":\"3640\",\"type\":\"MonthsTicker\"},{\"attributes\":{},\"id\":\"3629\",\"type\":\"BasicTickFormatter\"},{\"attributes\":{\"axis_label\":\"Sentiment Score\",\"formatter\":{\"id\":\"3629\"},\"ticker\":{\"id\":\"3603\"}},\"id\":\"3602\",\"type\":\"LinearAxis\"},{\"attributes\":{},\"id\":\"3666\",\"type\":\"Selection\"},{\"attributes\":{},\"id\":\"3590\",\"type\":\"DataRange1d\"},{\"attributes\":{},\"id\":\"3603\",\"type\":\"BasicTicker\"},{\"attributes\":{},\"id\":\"3667\",\"type\":\"UnionRenderers\"},{\"attributes\":{\"base\":60,\"mantissas\":[1,2,5,10,15,20,30],\"max_interval\":1800000.0,\"min_interval\":1000.0,\"num_minor_ticks\":0},\"id\":\"3633\",\"type\":\"AdaptiveTicker\"},{\"attributes\":{\"axis\":{\"id\":\"3602\"},\"dimension\":1,\"grid_line_alpha\":0.5,\"ticker\":null},\"id\":\"3605\",\"type\":\"Grid\"},{\"attributes\":{\"label\":{\"value\":\"Biden (2.0)\"},\"renderers\":[{\"id\":\"3655\"}]},\"id\":\"3681\",\"type\":\"LegendItem\"},{\"attributes\":{\"data\":{\"x\":{\"__ndarray__\":\"AADAMHoUd0IAAEDB+xh3QgAAwIygGXdCAAAAVeEbd0IAAECG2Bx3QgAAAOwqHXdCAADAUX0dd0IAAEAdIh53QgAAAIN0HndCAABAtGsfd0IAAAAavh93QgAAwH8QIHdCAABAS7Ugd0IAAMAWWiF3QgAAgHysIXdCAADAraMid0IAAIAT9iJ3QgAAQBCSJHdCAACAQYkld0IAAMBygCZ3QgAAgNjSJndCAABAPiUnd0IAAACkdyd3QgAAwAnKJ3dCAACAbxwod0IAAAA7wSh3QgAAwKATKXdCAACABmYpd0IAAMA3XSp3QgAAQAMCK3dCAAAAaVQrd0IAAIA0+St3QgAAQJpLLHdCAAAAAJ4sd0IAAACX5y13QgAAwPw5LndCAAAALjEvd0I=\",\"dtype\":\"float64\",\"order\":\"little\",\"shape\":[37]},\"y\":{\"__ndarray__\":\"AAAAAAAAAEAAAAAAAAAAQAAAAAAAAABAAAAAAAAA8D8AAAAAAAAAQAAAAAAAAARAAAAAAAAA8D8AAAAAAADwPwAAAAAAAABAAAAAAAAABEAAAAAAAAAAQAAAAAAAAABAAAAAAAAAAEAAAAAAAAD4PwAAAAAAAABAAAAAAAAAAEAAAAAAAAAAQAAAAAAAAPA/AAAAAAAAAEAAAAAAAADwP1VVVVVVVfU/AAAAAAAAAEAAAAAAAAAAQAAAAAAAAABAAAAAAAAA/D8AAAAAAAACQAAAAAAAAABAAAAAAAAAAEAAAAAAAAAAQAAAAAAAAABAAAAAAAAAAEAAAAAAAAAAQAAAAAAAAAhAAAAAAAAAAEAAAAAAAAD4PwAAAAAAAABAAAAAAAAAAEA=\",\"dtype\":\"float64\",\"order\":\"little\",\"shape\":[37]}},\"selected\":{\"id\":\"3630\"},\"selection_policy\":{\"id\":\"3631\"}},\"id\":\"3620\",\"type\":\"ColumnDataSource\"},{\"attributes\":{},\"id\":\"3627\",\"type\":\"DatetimeTickFormatter\"},{\"attributes\":{\"fill_color\":{\"value\":\"red\"},\"line_color\":{\"value\":\"red\"},\"size\":{\"units\":\"screen\",\"value\":5},\"x\":{\"field\":\"x\"},\"y\":{\"field\":\"y\"}},\"id\":\"3648\",\"type\":\"Circle\"},{\"attributes\":{},\"id\":\"3665\",\"type\":\"UnionRenderers\"},{\"attributes\":{\"data\":{\"x\":{\"__ndarray__\":\"AADA9VYYd0IAAMAWWiF3QgAAgBP2IndCAABAEJIkd0IAAMAJyid3Qg==\",\"dtype\":\"float64\",\"order\":\"little\",\"shape\":[5]},\"y\":[2,1,2,3,2]},\"selected\":{\"id\":\"3880\"},\"selection_policy\":{\"id\":\"3881\"}},\"id\":\"3682\",\"type\":\"ColumnDataSource\"},{\"attributes\":{\"months\":[0,6]},\"id\":\"3642\",\"type\":\"MonthsTicker\"},{\"attributes\":{\"data_source\":{\"id\":\"3682\"},\"glyph\":{\"id\":\"3683\"},\"hover_glyph\":null,\"muted_glyph\":null,\"nonselection_glyph\":{\"id\":\"3684\"},\"selection_glyph\":null,\"view\":{\"id\":\"3686\"}},\"id\":\"3685\",\"type\":\"GlyphRenderer\"},{\"attributes\":{\"data\":{\"x\":{\"__ndarray__\":\"AADA9VYYd0IAAMAWWiF3QgAAgBP2IndCAABAEJIkd0IAAMAJyid3Qg==\",\"dtype\":\"float64\",\"order\":\"little\",\"shape\":[5]},\"y\":[2,1,2,3,2]},\"selected\":{\"id\":\"3666\"},\"selection_policy\":{\"id\":\"3667\"}},\"id\":\"3652\",\"type\":\"ColumnDataSource\"},{\"attributes\":{},\"id\":\"3880\",\"type\":\"Selection\"},{\"attributes\":{},\"id\":\"3606\",\"type\":\"PanTool\"},{\"attributes\":{},\"id\":\"3607\",\"type\":\"WheelZoomTool\"},{\"attributes\":{},\"id\":\"3664\",\"type\":\"Selection\"},{\"attributes\":{\"months\":[0,1,2,3,4,5,6,7,8,9,10,11]},\"id\":\"3639\",\"type\":\"MonthsTicker\"},{\"attributes\":{\"items\":[{\"id\":\"3646\"},{\"id\":\"3681\"}],\"location\":\"bottom_right\"},\"id\":\"3645\",\"type\":\"Legend\"},{\"attributes\":{\"source\":{\"id\":\"3682\"}},\"id\":\"3686\",\"type\":\"CDSView\"},{\"attributes\":{\"overlay\":{\"id\":\"3612\"}},\"id\":\"3608\",\"type\":\"BoxZoomTool\"},{\"attributes\":{\"line_alpha\":0.6,\"line_color\":\"blue\",\"line_width\":4,\"x\":{\"field\":\"x\"},\"y\":{\"field\":\"y\"}},\"id\":\"3653\",\"type\":\"Line\"},{\"attributes\":{\"fill_alpha\":{\"value\":0.1},\"fill_color\":{\"value\":\"blue\"},\"line_alpha\":{\"value\":0.1},\"line_color\":{\"value\":\"blue\"},\"size\":{\"units\":\"screen\",\"value\":5},\"x\":{\"field\":\"x\"},\"y\":{\"field\":\"y\"}},\"id\":\"3684\",\"type\":\"Circle\"},{\"attributes\":{\"source\":{\"id\":\"3652\"}},\"id\":\"3656\",\"type\":\"CDSView\"},{\"attributes\":{\"label\":{\"value\":\"Trump (1.87387)\"},\"renderers\":[{\"id\":\"3623\"}]},\"id\":\"3646\",\"type\":\"LegendItem\"},{\"attributes\":{},\"id\":\"3609\",\"type\":\"SaveTool\"},{\"attributes\":{\"base\":24,\"mantissas\":[1,2,4,6,8,12],\"max_interval\":43200000.0,\"min_interval\":3600000.0,\"num_minor_ticks\":0},\"id\":\"3634\",\"type\":\"AdaptiveTicker\"},{\"attributes\":{},\"id\":\"3643\",\"type\":\"YearsTicker\"},{\"attributes\":{\"fill_color\":{\"value\":\"blue\"},\"line_color\":{\"value\":\"blue\"},\"size\":{\"units\":\"screen\",\"value\":5},\"x\":{\"field\":\"x\"},\"y\":{\"field\":\"y\"}},\"id\":\"3683\",\"type\":\"Circle\"},{\"attributes\":{},\"id\":\"3610\",\"type\":\"ResetTool\"},{\"attributes\":{},\"id\":\"3881\",\"type\":\"UnionRenderers\"},{\"attributes\":{\"line_alpha\":0.1,\"line_color\":\"blue\",\"line_width\":4,\"x\":{\"field\":\"x\"},\"y\":{\"field\":\"y\"}},\"id\":\"3654\",\"type\":\"Line\"},{\"attributes\":{\"months\":[0,4,8]},\"id\":\"3641\",\"type\":\"MonthsTicker\"},{\"attributes\":{},\"id\":\"3611\",\"type\":\"HelpTool\"},{\"attributes\":{\"days\":[1,2,3,4,5,6,7,8,9,10,11,12,13,14,15,16,17,18,19,20,21,22,23,24,25,26,27,28,29,30,31]},\"id\":\"3635\",\"type\":\"DaysTicker\"},{\"attributes\":{\"active_drag\":\"auto\",\"active_inspect\":\"auto\",\"active_multi\":null,\"active_scroll\":\"auto\",\"active_tap\":\"auto\",\"tools\":[{\"id\":\"3606\"},{\"id\":\"3607\"},{\"id\":\"3608\"},{\"id\":\"3609\"},{\"id\":\"3610\"},{\"id\":\"3611\"}]},\"id\":\"3613\",\"type\":\"Toolbar\"},{\"attributes\":{\"mantissas\":[1,2,5],\"max_interval\":500.0,\"num_minor_ticks\":0},\"id\":\"3632\",\"type\":\"AdaptiveTicker\"},{\"attributes\":{\"data\":{\"x\":{\"__ndarray__\":\"AADAMHoUd0IAAEDB+xh3QgAAwIygGXdCAAAAVeEbd0IAAECG2Bx3QgAAAOwqHXdCAADAUX0dd0IAAEAdIh53QgAAAIN0HndCAABAtGsfd0IAAAAavh93QgAAwH8QIHdCAABAS7Ugd0IAAMAWWiF3QgAAgHysIXdCAADAraMid0IAAIAT9iJ3QgAAQBCSJHdCAACAQYkld0IAAMBygCZ3QgAAgNjSJndCAABAPiUnd0IAAACkdyd3QgAAwAnKJ3dCAACAbxwod0IAAAA7wSh3QgAAwKATKXdCAACABmYpd0IAAMA3XSp3QgAAQAMCK3dCAAAAaVQrd0IAAIA0+St3QgAAQJpLLHdCAAAAAJ4sd0IAAACX5y13QgAAwPw5LndCAAAALjEvd0I=\",\"dtype\":\"float64\",\"order\":\"little\",\"shape\":[37]},\"y\":{\"__ndarray__\":\"AAAAAAAAAEAAAAAAAAAAQAAAAAAAAABAAAAAAAAA8D8AAAAAAAAAQAAAAAAAAARAAAAAAAAA8D8AAAAAAADwPwAAAAAAAABAAAAAAAAABEAAAAAAAAAAQAAAAAAAAABAAAAAAAAAAEAAAAAAAAD4PwAAAAAAAABAAAAAAAAAAEAAAAAAAAAAQAAAAAAAAPA/AAAAAAAAAEAAAAAAAADwP1VVVVVVVfU/AAAAAAAAAEAAAAAAAAAAQAAAAAAAAABAAAAAAAAA/D8AAAAAAAACQAAAAAAAAABAAAAAAAAAAEAAAAAAAAAAQAAAAAAAAABAAAAAAAAAAEAAAAAAAAAAQAAAAAAAAAhAAAAAAAAAAEAAAAAAAAD4PwAAAAAAAABAAAAAAAAAAEA=\",\"dtype\":\"float64\",\"order\":\"little\",\"shape\":[37]}},\"selected\":{\"id\":\"3664\"},\"selection_policy\":{\"id\":\"3665\"}},\"id\":\"3647\",\"type\":\"ColumnDataSource\"},{\"attributes\":{\"days\":[1,4,7,10,13,16,19,22,25,28]},\"id\":\"3636\",\"type\":\"DaysTicker\"},{\"attributes\":{\"bottom_units\":\"screen\",\"fill_alpha\":0.5,\"fill_color\":\"lightgrey\",\"left_units\":\"screen\",\"level\":\"overlay\",\"line_alpha\":1.0,\"line_color\":\"black\",\"line_dash\":[4,4],\"line_width\":2,\"right_units\":\"screen\",\"top_units\":\"screen\"},\"id\":\"3612\",\"type\":\"BoxAnnotation\"}],\"root_ids\":[\"3587\"]},\"title\":\"Bokeh Application\",\"version\":\"2.1.1\"}};\n",
       "  var render_items = [{\"docid\":\"37aa1058-1baf-4131-9b82-e8199211a23b\",\"root_ids\":[\"3587\"],\"roots\":{\"3587\":\"b7ae3d2a-70fc-406b-87aa-693bd8a0fdf4\"}}];\n",
       "  root.Bokeh.embed.embed_items_notebook(docs_json, render_items);\n",
       "\n",
       "  }\n",
       "  if (root.Bokeh !== undefined) {\n",
       "    embed_document(root);\n",
       "  } else {\n",
       "    var attempts = 0;\n",
       "    var timer = setInterval(function(root) {\n",
       "      if (root.Bokeh !== undefined) {\n",
       "        clearInterval(timer);\n",
       "        embed_document(root);\n",
       "      } else {\n",
       "        attempts++;\n",
       "        if (attempts > 100) {\n",
       "          clearInterval(timer);\n",
       "          console.log(\"Bokeh: ERROR: Unable to run BokehJS code because BokehJS library is missing\");\n",
       "        }\n",
       "      }\n",
       "    }, 10, root)\n",
       "  }\n",
       "})(window);"
      ],
      "application/vnd.bokehjs_exec.v0+json": ""
     },
     "metadata": {
      "application/vnd.bokehjs_exec.v0+json": {
       "id": "3587"
      }
     },
     "output_type": "display_data"
    }
   ],
   "source": [
    "df_trump = get_plot_data('data/processed/party/2020/trump/headlines.csv')\n",
    "df_biden = get_plot_data('data/processed/party/2020/biden/headlines.csv')\n",
    "\n",
    "plot_chart(df_trump, df_biden, 'Trump', 'Biden', \"Candidate Sentiment - 2020 - Last 90 Days\")"
   ]
  },
  {
   "cell_type": "code",
   "execution_count": null,
   "metadata": {},
   "outputs": [],
   "source": []
  }
 ],
 "metadata": {
  "kernelspec": {
   "display_name": "Python 3",
   "language": "python",
   "name": "python3"
  },
  "language_info": {
   "codemirror_mode": {
    "name": "ipython",
    "version": 3
   },
   "file_extension": ".py",
   "mimetype": "text/x-python",
   "name": "python",
   "nbconvert_exporter": "python",
   "pygments_lexer": "ipython3",
   "version": "3.7.3"
  }
 },
 "nbformat": 4,
 "nbformat_minor": 4
}
