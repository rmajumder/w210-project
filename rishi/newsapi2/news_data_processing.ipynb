{
 "cells": [
  {
   "cell_type": "code",
   "execution_count": 1,
   "metadata": {},
   "outputs": [
    {
     "name": "stderr",
     "output_type": "stream",
     "text": [
      "[nltk_data] Downloading package stopwords to /home/rmh/nltk_data...\n",
      "[nltk_data]   Package stopwords is already up-to-date!\n"
     ]
    },
    {
     "data": {
      "text/plain": [
       "True"
      ]
     },
     "execution_count": 1,
     "metadata": {},
     "output_type": "execute_result"
    }
   ],
   "source": [
    "import json\n",
    "import os\n",
    "import glob\n",
    "import re\n",
    "import pandas as pd\n",
    "from os import makedirs\n",
    "from os.path import join, exists\n",
    "from datetime import date, timedelta\n",
    "from pathlib import Path\n",
    "from pycorenlp import StanfordCoreNLP\n",
    "import nltk\n",
    "from nltk.tokenize import sent_tokenize, word_tokenize\n",
    "from nltk.corpus import stopwords\n",
    "\n",
    "nltk.download('stopwords')"
   ]
  },
  {
   "cell_type": "code",
   "execution_count": 2,
   "metadata": {},
   "outputs": [],
   "source": [
    "nlp = StanfordCoreNLP('http://localhost:9000')"
   ]
  },
  {
   "cell_type": "code",
   "execution_count": 3,
   "metadata": {},
   "outputs": [],
   "source": [
    "def get_sentiment(text):\n",
    "    res = nlp.annotate(text,\n",
    "                       properties={'annotators': 'sentiment',\n",
    "                                   'outputFormat': 'json',\n",
    "                                   'timeout': 1000,\n",
    "                       })\n",
    "    \n",
    "    try:\n",
    "        if len(res['sentences']) == 0:\n",
    "            return -1\n",
    "        else:\n",
    "            return res['sentences'][0]['sentimentValue']\n",
    "    except:\n",
    "        return False\n",
    "    else:\n",
    "        return 2 #neutral sentiment"
   ]
  },
  {
   "cell_type": "code",
   "execution_count": null,
   "metadata": {},
   "outputs": [],
   "source": []
  },
  {
   "cell_type": "code",
   "execution_count": 15,
   "metadata": {},
   "outputs": [],
   "source": [
    "def get_and_save_data(start_date, end_date, path):\n",
    "\n",
    "    data = []\n",
    "    dayrange = range((end_date - start_date).days + 1)\n",
    "\n",
    "    ARTICLES_DIR = join('data', 'guardian', path)\n",
    "\n",
    "    for daycount in dayrange:\n",
    "        dt = start_date + timedelta(days=daycount)\n",
    "        datestr = dt.strftime('%Y-%m-%d')\n",
    "        \n",
    "        fname = join(ARTICLES_DIR, datestr + '.json')\n",
    "        with open(fname) as f:\n",
    "            for hd in json.load(f):\n",
    "                score = int(get_sentiment(hd.lower()))\n",
    "                if score == -1:\n",
    "                    score = 2\n",
    "                    \n",
    "                data.append({'headline': hd.lower(), 'date': datestr, 'score': score})\n",
    "\n",
    "    os.makedirs(join('data', 'processed', path), exist_ok=True)\n",
    "    df = pd.DataFrame(data, columns=['headline', 'date', 'score'])\n",
    "    df.to_csv(join('data', 'processed', path, 'headlines.csv'), index=False)"
   ]
  },
  {
   "cell_type": "code",
   "execution_count": null,
   "metadata": {},
   "outputs": [],
   "source": []
  },
  {
   "cell_type": "code",
   "execution_count": 16,
   "metadata": {},
   "outputs": [],
   "source": [
    "get_and_save_data(date(2016, 8, 8), date(2016, 11, 8), join('candidates', '2016', 'trump'))\n",
    "get_and_save_data(date(2016, 8, 8), date(2016, 11, 8), join('candidates', '2016', 'hillary'))"
   ]
  },
  {
   "cell_type": "code",
   "execution_count": 18,
   "metadata": {},
   "outputs": [],
   "source": [
    "get_and_save_data(date(2012, 8, 6), date(2012, 11, 6), join('candidates', '2012', 'obama'))\n",
    "get_and_save_data(date(2012, 8, 6), date(2012, 11, 6), join('candidates', '2012', 'romney'))"
   ]
  },
  {
   "cell_type": "code",
   "execution_count": 19,
   "metadata": {},
   "outputs": [],
   "source": [
    "get_and_save_data(date(2008, 8, 4), date(2008, 11, 4), join('candidates', '2008', 'obama'))\n",
    "get_and_save_data(date(2008, 8, 4), date(2008, 11, 4), join('candidates', '2008', 'mccain'))"
   ]
  },
  {
   "cell_type": "code",
   "execution_count": 20,
   "metadata": {},
   "outputs": [],
   "source": [
    "get_and_save_data(date(2004, 8, 2), date(2004, 11, 2), join('candidates', '2004', 'bush'))\n",
    "get_and_save_data(date(2004, 8, 2), date(2004, 11, 2), join('candidates', '2004', 'john'))"
   ]
  },
  {
   "cell_type": "code",
   "execution_count": 21,
   "metadata": {},
   "outputs": [],
   "source": [
    "get_and_save_data(date(2000, 8, 7), date(2000, 11, 7), join('candidates', '2000', 'bush'))\n",
    "get_and_save_data(date(2000, 8, 7), date(2000, 11, 7), join('candidates', '2000', 'gore'))"
   ]
  },
  {
   "cell_type": "code",
   "execution_count": null,
   "metadata": {},
   "outputs": [],
   "source": []
  },
  {
   "cell_type": "code",
   "execution_count": 22,
   "metadata": {},
   "outputs": [],
   "source": [
    "st_date = date(2020, 4, 2)\n",
    "en_date = date(2020, 7, 1)"
   ]
  },
  {
   "cell_type": "code",
   "execution_count": 23,
   "metadata": {},
   "outputs": [],
   "source": [
    "get_and_save_data(st_date, en_date, join('candidates', '2020', 'trump'))\n",
    "get_and_save_data(st_date, en_date, join('candidates', '2020', 'biden'))"
   ]
  },
  {
   "cell_type": "code",
   "execution_count": 24,
   "metadata": {},
   "outputs": [],
   "source": [
    "get_and_save_data(st_date, en_date, join('economy', '2020', 'trump'))\n",
    "get_and_save_data(st_date, en_date, join('economy', '2020', 'biden'))"
   ]
  },
  {
   "cell_type": "code",
   "execution_count": 25,
   "metadata": {},
   "outputs": [],
   "source": [
    "get_and_save_data(st_date, en_date, join('party', '2020', 'trump'))\n",
    "get_and_save_data(st_date, en_date, join('party', '2020', 'biden'))"
   ]
  },
  {
   "cell_type": "code",
   "execution_count": 26,
   "metadata": {},
   "outputs": [],
   "source": [
    "get_and_save_data(st_date, en_date, join('environment', '2020', 'trump'))\n",
    "get_and_save_data(st_date, en_date, join('environment', '2020', 'biden'))"
   ]
  },
  {
   "cell_type": "code",
   "execution_count": 27,
   "metadata": {},
   "outputs": [],
   "source": [
    "get_and_save_data(st_date, en_date, join('foreign-policy', '2020', 'trump'))\n",
    "get_and_save_data(st_date, en_date, join('foreign-policy', '2020', 'biden'))"
   ]
  },
  {
   "cell_type": "code",
   "execution_count": 28,
   "metadata": {},
   "outputs": [],
   "source": [
    "get_and_save_data(st_date, en_date, join('guns', '2020', 'trump'))\n",
    "get_and_save_data(st_date, en_date, join('guns', '2020', 'biden'))"
   ]
  },
  {
   "cell_type": "code",
   "execution_count": 29,
   "metadata": {},
   "outputs": [],
   "source": [
    "get_and_save_data(st_date, en_date, join('health', '2020', 'trump'))\n",
    "get_and_save_data(st_date, en_date, join('health', '2020', 'biden'))"
   ]
  },
  {
   "cell_type": "code",
   "execution_count": 30,
   "metadata": {},
   "outputs": [],
   "source": [
    "get_and_save_data(st_date, en_date, join('immigration', '2020', 'trump'))\n",
    "get_and_save_data(st_date, en_date, join('immigration', '2020', 'biden'))"
   ]
  },
  {
   "cell_type": "code",
   "execution_count": null,
   "metadata": {},
   "outputs": [],
   "source": []
  }
 ],
 "metadata": {
  "kernelspec": {
   "display_name": "Python 3",
   "language": "python",
   "name": "python3"
  },
  "language_info": {
   "codemirror_mode": {
    "name": "ipython",
    "version": 3
   },
   "file_extension": ".py",
   "mimetype": "text/x-python",
   "name": "python",
   "nbconvert_exporter": "python",
   "pygments_lexer": "ipython3",
   "version": "3.7.3"
  }
 },
 "nbformat": 4,
 "nbformat_minor": 4
}
