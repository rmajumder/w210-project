{
 "cells": [
  {
   "cell_type": "code",
   "execution_count": 2,
   "metadata": {},
   "outputs": [],
   "source": [
    "import pandas as pd"
   ]
  },
  {
   "cell_type": "code",
   "execution_count": 3,
   "metadata": {},
   "outputs": [],
   "source": [
    "df = pd.read_csv('processed_data/backup/master_data-Copy8.csv')  "
   ]
  },
  {
   "cell_type": "code",
   "execution_count": 4,
   "metadata": {},
   "outputs": [
    {
     "data": {
      "text/plain": [
       "60206"
      ]
     },
     "execution_count": 4,
     "metadata": {},
     "output_type": "execute_result"
    }
   ],
   "source": [
    "len(df)"
   ]
  },
  {
   "cell_type": "code",
   "execution_count": 5,
   "metadata": {},
   "outputs": [
    {
     "data": {
      "text/html": [
       "<div>\n",
       "<style scoped>\n",
       "    .dataframe tbody tr th:only-of-type {\n",
       "        vertical-align: middle;\n",
       "    }\n",
       "\n",
       "    .dataframe tbody tr th {\n",
       "        vertical-align: top;\n",
       "    }\n",
       "\n",
       "    .dataframe thead th {\n",
       "        text-align: right;\n",
       "    }\n",
       "</style>\n",
       "<table border=\"1\" class=\"dataframe\">\n",
       "  <thead>\n",
       "    <tr style=\"text-align: right;\">\n",
       "      <th></th>\n",
       "      <th>Unnamed: 0</th>\n",
       "      <th>created_at</th>\n",
       "      <th>text</th>\n",
       "      <th>user_followers_count</th>\n",
       "      <th>retweet_count</th>\n",
       "      <th>favorite_count</th>\n",
       "      <th>hashtags</th>\n",
       "    </tr>\n",
       "  </thead>\n",
       "  <tbody>\n",
       "    <tr>\n",
       "      <th>0</th>\n",
       "      <td>0</td>\n",
       "      <td>2016-12-29</td>\n",
       "      <td>Happy birthday to say you when I see you (here...</td>\n",
       "      <td>36.0</td>\n",
       "      <td>0</td>\n",
       "      <td>0.0</td>\n",
       "      <td>[]</td>\n",
       "    </tr>\n",
       "    <tr>\n",
       "      <th>1</th>\n",
       "      <td>7</td>\n",
       "      <td>2016-12-29</td>\n",
       "      <td>I can smile, and its not. I have people that m...</td>\n",
       "      <td>1376.0</td>\n",
       "      <td>0</td>\n",
       "      <td>0.0</td>\n",
       "      <td>[]</td>\n",
       "    </tr>\n",
       "    <tr>\n",
       "      <th>2</th>\n",
       "      <td>11</td>\n",
       "      <td>2016-12-29</td>\n",
       "      <td>luh HAHAHAHAHAHAHA</td>\n",
       "      <td>124.0</td>\n",
       "      <td>0</td>\n",
       "      <td>0.0</td>\n",
       "      <td>[]</td>\n",
       "    </tr>\n",
       "    <tr>\n",
       "      <th>3</th>\n",
       "      <td>16</td>\n",
       "      <td>2016-12-29</td>\n",
       "      <td>@Baelizean word?</td>\n",
       "      <td>3628.0</td>\n",
       "      <td>0</td>\n",
       "      <td>0.0</td>\n",
       "      <td>[]</td>\n",
       "    </tr>\n",
       "    <tr>\n",
       "      <th>4</th>\n",
       "      <td>17</td>\n",
       "      <td>2016-12-29</td>\n",
       "      <td>GURUS Invoke Lack Of Trust. We Are Here To Pro...</td>\n",
       "      <td>2574.0</td>\n",
       "      <td>0</td>\n",
       "      <td>0.0</td>\n",
       "      <td>[{'text': 'trust', 'indices': [51, 57]}, {'tex...</td>\n",
       "    </tr>\n",
       "  </tbody>\n",
       "</table>\n",
       "</div>"
      ],
      "text/plain": [
       "  Unnamed: 0  created_at                                               text  \\\n",
       "0          0  2016-12-29  Happy birthday to say you when I see you (here...   \n",
       "1          7  2016-12-29  I can smile, and its not. I have people that m...   \n",
       "2         11  2016-12-29                                 luh HAHAHAHAHAHAHA   \n",
       "3         16  2016-12-29                                   @Baelizean word?   \n",
       "4         17  2016-12-29  GURUS Invoke Lack Of Trust. We Are Here To Pro...   \n",
       "\n",
       "   user_followers_count retweet_count  favorite_count  \\\n",
       "0                  36.0             0             0.0   \n",
       "1                1376.0             0             0.0   \n",
       "2                 124.0             0             0.0   \n",
       "3                3628.0             0             0.0   \n",
       "4                2574.0             0             0.0   \n",
       "\n",
       "                                            hashtags  \n",
       "0                                                 []  \n",
       "1                                                 []  \n",
       "2                                                 []  \n",
       "3                                                 []  \n",
       "4  [{'text': 'trust', 'indices': [51, 57]}, {'tex...  "
      ]
     },
     "execution_count": 5,
     "metadata": {},
     "output_type": "execute_result"
    }
   ],
   "source": [
    "df.head()"
   ]
  },
  {
   "cell_type": "code",
   "execution_count": 6,
   "metadata": {},
   "outputs": [
    {
     "data": {
      "text/plain": [
       "array(['2016-12-29', '7759', '699', '157', nan, '1246', '712', '122',\n",
       "       '2069', '86', '1209', '1497', '452'], dtype=object)"
      ]
     },
     "execution_count": 6,
     "metadata": {},
     "output_type": "execute_result"
    }
   ],
   "source": [
    "df['created_at'].unique()"
   ]
  },
  {
   "cell_type": "code",
   "execution_count": 9,
   "metadata": {},
   "outputs": [],
   "source": [
    "#df.loc[df.text.str.contains('trump')]\n",
    "df = df[df['text'].notna()]\n",
    "temp = df[df['text'].str.contains(\"maga\")]"
   ]
  },
  {
   "cell_type": "code",
   "execution_count": 11,
   "metadata": {},
   "outputs": [
    {
     "data": {
      "text/plain": [
       "2256     Wtf kapa dyan , alam ko po nabasa ko \\nEh ayaw...\n",
       "2608     TV Guide magazine Before they were Movie Stars...\n",
       "6968     #TeamBTS pero di ko to pagsisisihan kasi eto a...\n",
       "8126     RT @SickboyT2: Begbie out of prison, having a ...\n",
       "8976     Mahal mo sya?pero parang ikaw gumagawa ng dahi...\n",
       "9612     RT @HeneralHugot: Kahit gusto mo siyang ipagla...\n",
       "9899     RT @Umaganesh1989: Tamilanin unaravu\\n\\nWE NEE...\n",
       "10995    Get featured on the BEST online music magazine...\n",
       "13251    RT @iiamjane27: Sana araw-araw nalang tayong o...\n",
       "14447    GUCCI by GUCCI Eau de Parfum https://t.co/r0lV...\n",
       "15267    RT @belt_magazine: who designs our books? take...\n",
       "15269    RT @rodmagaru: BEST PRODUCTION DESIGN - SEKLUS...\n",
       "16450                   ano po magandang panoorin huhu pls\n",
       "17341    It's good your listening @OfficialSPGB because...\n",
       "18270    #finnish nude girl magazine asian women fuckin...\n",
       "18652    RT @ARYNEWSOFFICIAL: #Petition seeks suspensio...\n",
       "18867    RT @BARBIEAklan: Hindi kawawa si Dolly ang mga...\n",
       "20084    people magazine \"the day that shook america\" S...\n",
       "21947    #Gohmert on Hannity \"Announces Bill to Defund ...\n",
       "23375    Might be in paris to shoot for magazine.If the...\n",
       "26545    Christian Pastor to President Obama:\\n\\nhttps:...\n",
       "31150    US acting as global policeman for financial cr...\n",
       "33978    RT @outmagazine: The Love Portfolio: @guskenwo...\n",
       "34109    RT @voguemagazine: The Internet mourns to the ...\n",
       "34558    RT @MFEmagazine: Apartment investment interest...\n",
       "38828    @Amanda__Gee @magandacarta they have the drive...\n",
       "39067    @felixsalmon @WesleyLowery if ISIS had a good ...\n",
       "41645    RT @ShareeefAF: Ugly hun, magar tmari tarah ch...\n",
       "42255                lahat maganda https://t.co/zlJrAj42Uf\n",
       "43911    Do you have a mixtape/single you would like fe...\n",
       "44295    pahinga na muna tayo salubungin naman natin an...\n",
       "44801               Umaga tulog\\nGabi gising\\nAba magaleng\n",
       "44843    Reflections from 2016: Part 2 with Fashion Ove...\n",
       "45639    @psycho_soprano especially teenagers, literall...\n",
       "45968    How The New Collaborative Economy Is Changing ...\n",
       "48096    My Burberry Eau de Parfum Miniature Perfume ht...\n",
       "50053    Pentagon told to boost manufacturing engineeri...\n",
       "54435    RT @voguemagazine: Congratulations, @serenawil...\n",
       "54644    @camerondallas new show #chasingCameron has re...\n",
       "55981     RT @itsgummagazine: 2017 https://t.co/4LBYLEDtOO\n",
       "57184    The Way Back - Comstock's magazine https://t.c...\n",
       "Name: text, dtype: object"
      ]
     },
     "execution_count": 11,
     "metadata": {},
     "output_type": "execute_result"
    }
   ],
   "source": [
    "temp['text']"
   ]
  },
  {
   "cell_type": "code",
   "execution_count": null,
   "metadata": {},
   "outputs": [],
   "source": []
  }
 ],
 "metadata": {
  "kernelspec": {
   "display_name": "Python 3",
   "language": "python",
   "name": "python3"
  },
  "language_info": {
   "codemirror_mode": {
    "name": "ipython",
    "version": 3
   },
   "file_extension": ".py",
   "mimetype": "text/x-python",
   "name": "python",
   "nbconvert_exporter": "python",
   "pygments_lexer": "ipython3",
   "version": "3.7.3"
  }
 },
 "nbformat": 4,
 "nbformat_minor": 2
}
