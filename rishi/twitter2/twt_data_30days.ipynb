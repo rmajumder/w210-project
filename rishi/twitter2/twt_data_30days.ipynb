{
 "cells": [
  {
   "cell_type": "code",
   "execution_count": 2,
   "metadata": {},
   "outputs": [],
   "source": [
    "import json\n",
    "from datetime import datetime, date, timedelta\n",
    "\n",
    "import pandas as pd\n",
    "import matplotlib.pyplot as plt\n",
    "from langdetect import detect\n",
    "import glob\n",
    "import os"
   ]
  },
  {
   "cell_type": "code",
   "execution_count": 2,
   "metadata": {},
   "outputs": [],
   "source": [
    "from searchtweets import ResultStream, gen_rule_payload, load_credentials, collect_results"
   ]
  },
  {
   "cell_type": "code",
   "execution_count": 3,
   "metadata": {},
   "outputs": [
    {
     "name": "stderr",
     "output_type": "stream",
     "text": [
      "Grabbing bearer token from OAUTH\n"
     ]
    }
   ],
   "source": [
    "premium_search_args = load_credentials(\"creds_twitter_keys.yaml\",\n",
    "                                       yaml_key=\"search_tweets_premium\",\n",
    "                                       env_overwrite=False)"
   ]
  },
  {
   "cell_type": "code",
   "execution_count": null,
   "metadata": {},
   "outputs": [],
   "source": []
  },
  {
   "cell_type": "code",
   "execution_count": 4,
   "metadata": {},
   "outputs": [],
   "source": [
    "def get_tweets(search_words, start_date, end_date, num_twt):\n",
    "    rule = gen_rule_payload(search_words,\n",
    "                        from_date=start_date.strftime(\"%Y-%m-%d\"),\n",
    "                        to_date=end_date.strftime(\"%Y-%m-%d\"),\n",
    "                        results_per_call=num_twt)\n",
    "    \n",
    "    tweets = collect_results(rule, max_results=num_twt, result_stream_args=premium_search_args)\n",
    "    \n",
    "    tweets_col_filter = [[tweet['created_at'], tweet['text'], tweet['id'], tweet['user']['id'], \n",
    "                tweet['user']['location'], tweet['user']['followers_count'], tweet['user']['lang'], \n",
    "                tweet['user']['time_zone'], tweet['retweet_count'], tweet['favorite_count']\n",
    "               ] \n",
    "               for tweet in tweets]\n",
    "    \n",
    "    tweet_df = pd.DataFrame(data=tweets_col_filter, \n",
    "                    columns=['created_at', 'text', 'id', 'user_id', 'user_loc', 'user_followers', 'user_lang',\n",
    "                            'user_time_zone', 'retweet_count', 'fav_count'])\n",
    "    \n",
    "    \n",
    "    return tweet_df"
   ]
  },
  {
   "cell_type": "code",
   "execution_count": 5,
   "metadata": {},
   "outputs": [],
   "source": [
    "def save_tweets(tweet_df, start_date, sub_dir, search_key):\n",
    "    timestampStr = start_date.strftime(\"%Y_%m_%d\")\n",
    "    \n",
    "    tweet_df.to_csv('data2/raw/candidate/2020/' + sub_dir + '/' + search_key + '_' + timestampStr + '.csv')"
   ]
  },
  {
   "cell_type": "code",
   "execution_count": 6,
   "metadata": {},
   "outputs": [],
   "source": [
    "def get_and_save_twts_by_day(start_date, sub_dir, search_str, num_days):\n",
    "    \n",
    "    for d in range(num_days):\n",
    "        end_date = start_date + timedelta(days=1)\n",
    "        #search_str = 'trump OR biden'\n",
    "        num_twt = 500\n",
    "\n",
    "        tweet_df = get_tweets(search_str, start_date, end_date, num_twt)\n",
    "        save_tweets(tweet_df, start_date, sub_dir, search_str)\n",
    "\n",
    "        print(start_date.strftime(\"%Y-%m-%d\"), end_date.strftime(\"%Y-%m-%d\"))\n",
    "        print(len(tweet_df))\n",
    "\n",
    "        start_date = start_date + timedelta(days=1)\n",
    "    "
   ]
  },
  {
   "cell_type": "code",
   "execution_count": 33,
   "metadata": {},
   "outputs": [
    {
     "name": "stdout",
     "output_type": "stream",
     "text": [
      "2020-06-27 2020-06-28\n",
      "500\n"
     ]
    }
   ],
   "source": [
    "def get_twt_data_today():\n",
    "    td = datetime.today() #- timedelta(days=1)\n",
    "    \n",
    "    get_and_save_twts_by_day(td, 'trump', 'trump', 1)\n",
    "    get_and_save_twts_by_day(td, 'biden', 'biden', 1)\n",
    "    \n",
    "    get_and_save_twts_by_day(td, 'trump_economy', 'trump economy', 1)\n",
    "    get_and_save_twts_by_day(td, 'biden_economy', 'biden economy', 1)\n",
    "    \n",
    "    get_and_save_twts_by_day(td, 'trump_environment', 'trump environment', 1)\n",
    "    get_and_save_twts_by_day(td, 'biden_environment', 'biden environment', 1)\n",
    "    \n",
    "    get_and_save_twts_by_day(td, 'trump_health', 'trump health', 1)\n",
    "    get_and_save_twts_by_day(td, 'biden_health', 'biden health', 1)\n",
    "    \n",
    "    get_and_save_twts_by_day(td, 'trump_immigration', 'trump immigration', 1)\n",
    "    get_and_save_twts_by_day(td, 'biden_immigration', 'biden immigration', 1)\n",
    "    \n",
    "    get_and_save_twts_by_day(td, 'trump_job', 'trump job', 1)\n",
    "    get_and_save_twts_by_day(td, 'biden_job', 'biden job', 1)\n",
    "    \n",
    "    get_and_save_twts_by_day(td, 'trump_republican', 'trump republican', 1)\n",
    "    get_and_save_twts_by_day(td, 'biden_democrat', 'biden democrat', 1)\n",
    "    "
   ]
  },
  {
   "cell_type": "code",
   "execution_count": 5,
   "metadata": {},
   "outputs": [
    {
     "data": {
      "text/plain": [
       "datetime.datetime(2020, 6, 28, 21, 46, 40, 845665)"
      ]
     },
     "execution_count": 5,
     "metadata": {},
     "output_type": "execute_result"
    }
   ],
   "source": []
  },
  {
   "cell_type": "code",
   "execution_count": null,
   "metadata": {},
   "outputs": [],
   "source": []
  }
 ],
 "metadata": {
  "kernelspec": {
   "display_name": "Python 3",
   "language": "python",
   "name": "python3"
  },
  "language_info": {
   "codemirror_mode": {
    "name": "ipython",
    "version": 3
   },
   "file_extension": ".py",
   "mimetype": "text/x-python",
   "name": "python",
   "nbconvert_exporter": "python",
   "pygments_lexer": "ipython3",
   "version": "3.7.3"
  }
 },
 "nbformat": 4,
 "nbformat_minor": 2
}
