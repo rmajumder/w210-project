{
 "cells": [
  {
   "cell_type": "code",
   "execution_count": 4,
   "metadata": {},
   "outputs": [],
   "source": [
    "import json\n",
    "import os\n",
    "import glob\n",
    "import re\n",
    "import pandas as pd\n",
    "from os import makedirs\n",
    "from os.path import join, exists\n",
    "from datetime import datetime, date, timedelta\n",
    "from pathlib import Path"
   ]
  },
  {
   "cell_type": "code",
   "execution_count": null,
   "metadata": {},
   "outputs": [],
   "source": []
  },
  {
   "cell_type": "code",
   "execution_count": 3,
   "metadata": {},
   "outputs": [],
   "source": [
    "def get_election_data(start_date, end_date, data_path, file_starts):\n",
    "\n",
    "    df_all = []\n",
    "    dayrange = range((end_date - start_date).days + 1)\n",
    "    \n",
    "    for daycount in dayrange:\n",
    "        dt = start_date + timedelta(days=daycount)\n",
    "        datestr = dt.strftime('%Y_%m_%d')\n",
    "        fname = join(data_path, file_starts + '_' + datestr + '.csv')\n",
    "        df_tweet = pd.read_csv(fname)\n",
    "        \n",
    "        if len(df_all) == 0:\n",
    "            df_all = df_tweet\n",
    "        else:\n",
    "            df_all = pd.concat([df_all, df_tweet])\n",
    "            \n",
    "    return df_all"
   ]
  },
  {
   "cell_type": "code",
   "execution_count": 4,
   "metadata": {},
   "outputs": [],
   "source": [
    "def combine_and_save_tweet_files(src_path, target_path, start_date, end_date, year, key_term):\n",
    "    df_twt = get_election_data(start_date, end_date, src_path, key_term)\n",
    "    df_twt.to_csv(join(target_path, year + '_' +key_term + '.csv'))\n",
    "                  "
   ]
  },
  {
   "cell_type": "code",
   "execution_count": 8,
   "metadata": {},
   "outputs": [],
   "source": [
    "def agg_all():\n",
    "    start_dt = datetime.today() - timedelta(days=32)\n",
    "    end_dt = datetime.today()\n",
    "    \n",
    "    combine_and_save_tweet_files(join('data2','raw','candidate','2020','trump'), \n",
    "                             join('data2','agg','candidate','2020'), \n",
    "                             start_dt, end_dt, '2020','trump')\n",
    "    \n",
    "    combine_and_save_tweet_files(join('data2','raw','candidate','2020','biden'), \n",
    "                             join('data2','agg','candidate','2020'), \n",
    "                             start_dt, end_dt, '2020', 'biden')\n",
    "    \n",
    "    combine_and_save_tweet_files(join('data2','raw','candidate','2020','trump_economy'), \n",
    "                             join('data2','agg','economy','trump'), \n",
    "                             start_dt, end_dt, '2020', 'trump economy')\n",
    "    \n",
    "    combine_and_save_tweet_files(join('data2','raw','candidate','2020','biden_economy'), \n",
    "                             join('data2','agg','economy','biden'), \n",
    "                             start_dt, end_dt, '2020', 'biden economy')\n",
    "    \n",
    "    combine_and_save_tweet_files(join('data2','raw','candidate','2020','trump_environment'), \n",
    "                             join('data2','agg','environment','trump'), \n",
    "                             start_dt, end_dt, '2020', 'trump environment')\n",
    "    \n",
    "    combine_and_save_tweet_files(join('data2','raw','candidate','2020','biden_environment'), \n",
    "                             join('data2','agg','environment','biden'), \n",
    "                             start_dt, end_dt, '2020', 'biden environment')\n",
    "    \n",
    "    combine_and_save_tweet_files(join('data2','raw','candidate','2020','trump_republican'), \n",
    "                             join('data2','agg','party','trump'), \n",
    "                             start_dt, end_dt, '2020', 'trump republican')\n",
    "    \n",
    "    combine_and_save_tweet_files(join('data2','raw','candidate','2020','biden_democrat'), \n",
    "                             join('data2','agg','party','biden'), \n",
    "                             start_dt, end_dt, '2020', 'biden democrat')\n",
    "    \n",
    "    combine_and_save_tweet_files(join('data2','raw','candidate','2020','trump_health'), \n",
    "                             join('data2','agg','health','trump'), \n",
    "                             start_dt, end_dt, '2020', 'trump health')\n",
    "    \n",
    "    combine_and_save_tweet_files(join('data2','raw','candidate','2020','biden_health'), \n",
    "                             join('data2','agg','health','biden'), \n",
    "                             start_dt, end_dt, '2020', 'biden health')\n",
    "    \n",
    "    combine_and_save_tweet_files(join('data2','raw','candidate','2020','trump_immigration'), \n",
    "                             join('data2','agg','immigration','trump'), \n",
    "                             start_dt, end_dt, '2020', 'trump immigration')\n",
    "    \n",
    "    combine_and_save_tweet_files(join('data2','raw','candidate','2020','biden_immigration'), \n",
    "                             join('data2','agg','immigration','biden'), \n",
    "                             start_dt, end_dt, '2020', 'biden immigration')\n",
    "    \n",
    "    combine_and_save_tweet_files(join('data2','raw','candidate','2020','trump_job'), \n",
    "                             join('data2','agg','job','trump'), \n",
    "                             start_dt, end_dt, '2020', 'trump job')\n",
    "    \n",
    "    combine_and_save_tweet_files(join('data2','raw','candidate','2020','biden_job'), \n",
    "                             join('data2','agg','job','biden'), \n",
    "                             start_dt, end_dt, '2020', 'biden job')"
   ]
  },
  {
   "cell_type": "code",
   "execution_count": 5,
   "metadata": {},
   "outputs": [],
   "source": []
  },
  {
   "cell_type": "code",
   "execution_count": 5,
   "metadata": {},
   "outputs": [],
   "source": [
    "#combine_and_save_tweet_files(join('data2','raw','candidate','2016','trump'), \n",
    "#                             join('data2','agg','candidate','2016'), \n",
    "#                             date(2016, 10, 8), date(2016, 11, 7), '2016', 'trump')"
   ]
  },
  {
   "cell_type": "code",
   "execution_count": 7,
   "metadata": {},
   "outputs": [],
   "source": [
    "#combine_and_save_tweet_files(join('data2','raw','candidate','2016','hillary'), \n",
    "#                             join('data2','agg','candidate','2016'), \n",
    "#                             date(2016, 10, 8), date(2016, 11, 7), '2016', 'hillary')"
   ]
  },
  {
   "cell_type": "code",
   "execution_count": 9,
   "metadata": {},
   "outputs": [],
   "source": [
    "#combine_and_save_tweet_files(join('data2','raw','candidate','2012','obama'), \n",
    "#                             join('data2','agg','candidate','2012','obama'), \n",
    "#                             date(2012, 10, 20), date(2012, 11, 4), '2012', 'obama')"
   ]
  },
  {
   "cell_type": "code",
   "execution_count": 11,
   "metadata": {},
   "outputs": [],
   "source": [
    "#combine_and_save_tweet_files(join('data2','raw','candidate','2012','romney'), \n",
    "#                             join('data2','agg','candidate','2012', 'romney'), \n",
    "#                             date(2012, 10, 20), date(2012, 11, 4), '2012', 'romney')"
   ]
  }
 ],
 "metadata": {
  "kernelspec": {
   "display_name": "Python 3",
   "language": "python",
   "name": "python3"
  },
  "language_info": {
   "codemirror_mode": {
    "name": "ipython",
    "version": 3
   },
   "file_extension": ".py",
   "mimetype": "text/x-python",
   "name": "python",
   "nbconvert_exporter": "python",
   "pygments_lexer": "ipython3",
   "version": "3.7.3"
  }
 },
 "nbformat": 4,
 "nbformat_minor": 2
}
