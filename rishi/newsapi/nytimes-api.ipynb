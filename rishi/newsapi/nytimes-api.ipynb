{
 "cells": [
  {
   "cell_type": "code",
   "execution_count": 36,
   "metadata": {},
   "outputs": [],
   "source": [
    "import json\n",
    "import requests\n",
    "from os import makedirs\n",
    "from os.path import join, exists\n",
    "from datetime import date, timedelta\n",
    "import datetime"
   ]
  },
  {
   "cell_type": "code",
   "execution_count": 26,
   "metadata": {},
   "outputs": [],
   "source": [
    "from pynytimes import NYTAPI"
   ]
  },
  {
   "cell_type": "code",
   "execution_count": 27,
   "metadata": {},
   "outputs": [],
   "source": [
    "MY_API_KEY = open(\"nyt_key.txt\").read().strip()\n",
    "nyt = NYTAPI(MY_API_KEY)"
   ]
  },
  {
   "cell_type": "code",
   "execution_count": 29,
   "metadata": {},
   "outputs": [],
   "source": [
    "top_political_stories = nyt.top_stories(section = \"politics\")"
   ]
  },
  {
   "cell_type": "code",
   "execution_count": 31,
   "metadata": {},
   "outputs": [
    {
     "data": {
      "text/plain": [
       "26"
      ]
     },
     "execution_count": 31,
     "metadata": {},
     "output_type": "execute_result"
    }
   ],
   "source": [
    "len(top_political_stories)"
   ]
  },
  {
   "cell_type": "code",
   "execution_count": 37,
   "metadata": {},
   "outputs": [
    {
     "name": "stderr",
     "output_type": "stream",
     "text": [
      "/home/rmh/anaconda3/lib/python3.7/site-packages/pynytimes/api.py:387: UserWarning: Asking for a lot of results, because of rate limits it can take a while.\n",
      "  \"Asking for a lot of results, because of rate limits it can take a while.\"\n"
     ]
    }
   ],
   "source": [
    "articles = nyt.article_search(\n",
    "    query = \"trump\",\n",
    "    results = 1000,\n",
    "    dates = {\n",
    "        \"begin\": datetime.datetime(2016, 8, 7),\n",
    "        \"end\": datetime.datetime(2019, 11, 7)\n",
    "    }\n",
    ")"
   ]
  },
  {
   "cell_type": "code",
   "execution_count": 38,
   "metadata": {},
   "outputs": [
    {
     "data": {
      "text/plain": [
       "1000"
      ]
     },
     "execution_count": 38,
     "metadata": {},
     "output_type": "execute_result"
    }
   ],
   "source": [
    "len(articles)"
   ]
  },
  {
   "cell_type": "code",
   "execution_count": 39,
   "metadata": {},
   "outputs": [],
   "source": [
    "articles_hillary = nyt.article_search(\n",
    "    query = \"hillary\",\n",
    "    results = 1000,\n",
    "    dates = {\n",
    "        \"begin\": datetime.datetime(2016, 8, 7),\n",
    "        \"end\": datetime.datetime(2019, 11, 7)\n",
    "    }\n",
    ")"
   ]
  },
  {
   "cell_type": "code",
   "execution_count": 40,
   "metadata": {},
   "outputs": [
    {
     "data": {
      "text/plain": [
       "1000"
      ]
     },
     "execution_count": 40,
     "metadata": {},
     "output_type": "execute_result"
    }
   ],
   "source": [
    "len(articles_hillary)"
   ]
  },
  {
   "cell_type": "code",
   "execution_count": 2,
   "metadata": {},
   "outputs": [],
   "source": [
    "MY_API_KEY = open(\"nyt_key.txt\").read().strip()\n",
    "API_ENDPOINT = 'https://api.nytimes.com/svc/search/v2/articlesearch.json'\n",
    "\n",
    "my_params = {\n",
    "    'api-key': MY_API_KEY,\n",
    "    'begin_date': '20160807',\n",
    "    'end_date': '20161107',\n",
    "    'facet': 'true',\n",
    "    \n",
    "}\n",
    "\n",
    "resp = requests.get(API_ENDPOINT, my_params)\n",
    "data = resp.json()\n",
    "    \n"
   ]
  },
  {
   "cell_type": "code",
   "execution_count": 16,
   "metadata": {},
   "outputs": [],
   "source": [
    "with open('nytdata.json', 'w') as f:\n",
    "    \n",
    "    # re-serialize it for pretty indentation\n",
    "    f.write(json.dumps(data, indent=2))"
   ]
  },
  {
   "cell_type": "code",
   "execution_count": 25,
   "metadata": {},
   "outputs": [
    {
     "name": "stdout",
     "output_type": "stream",
     "text": [
      "0\n"
     ]
    }
   ],
   "source": [
    "counter = 0\n",
    "for result in data['response']['docs']:\n",
    "    if 'trump' in result['headline']['main']: \n",
    "        counter += 1\n",
    "        \n",
    "print(counter)\n",
    "    #print(result['headline']['main'])"
   ]
  },
  {
   "cell_type": "code",
   "execution_count": null,
   "metadata": {},
   "outputs": [],
   "source": []
  }
 ],
 "metadata": {
  "kernelspec": {
   "display_name": "Python 3",
   "language": "python",
   "name": "python3"
  },
  "language_info": {
   "codemirror_mode": {
    "name": "ipython",
    "version": 3
   },
   "file_extension": ".py",
   "mimetype": "text/x-python",
   "name": "python",
   "nbconvert_exporter": "python",
   "pygments_lexer": "ipython3",
   "version": "3.7.3"
  }
 },
 "nbformat": 4,
 "nbformat_minor": 2
}
