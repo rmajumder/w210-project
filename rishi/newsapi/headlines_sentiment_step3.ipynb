{
 "cells": [
  {
   "cell_type": "code",
   "execution_count": 56,
   "metadata": {},
   "outputs": [],
   "source": [
    "from pycorenlp import StanfordCoreNLP\n",
    "import pandas as pd\n",
    "from pathlib import Path"
   ]
  },
  {
   "cell_type": "code",
   "execution_count": 57,
   "metadata": {},
   "outputs": [],
   "source": [
    "nlp = StanfordCoreNLP('http://localhost:9000')"
   ]
  },
  {
   "cell_type": "code",
   "execution_count": 58,
   "metadata": {},
   "outputs": [],
   "source": [
    "def get_sentiment(text):\n",
    "    res = nlp.annotate(text,\n",
    "                       properties={'annotators': 'sentiment',\n",
    "                                   'outputFormat': 'json',\n",
    "                                   'timeout': 1000,\n",
    "                       })\n",
    "    #print(text)\n",
    "    #print('Sentiment:', res['sentences'][0]['sentiment'])\n",
    "    #print('Sentiment score:', res['sentences'][0]['sentimentValue'])\n",
    "    #print('Sentiment distribution (0-v. negative, 5-v. positive:', res['sentences'][0]['sentimentDistribution'])\n",
    "    \n",
    "    if len(res['sentences']) == 0:\n",
    "        return -1\n",
    "    else:\n",
    "        return res['sentences'][0]['sentimentValue']"
   ]
  },
  {
   "cell_type": "code",
   "execution_count": 59,
   "metadata": {},
   "outputs": [],
   "source": [
    "#get_sentiment('Mark Singer on Trump: The wheels are starting to come off dramatically')"
   ]
  },
  {
   "cell_type": "code",
   "execution_count": 60,
   "metadata": {},
   "outputs": [],
   "source": [
    "def get_data_by_topic_year(topic, year):\n",
    "\n",
    "    path_hd = 'data/processed-data/'+topic+'/'+year+'/headlines.txt'\n",
    "    headlines = []\n",
    "    with open(path_hd) as f:\n",
    "        headlines = [line.rstrip() for line in f]\n",
    "\n",
    "    path_t = 'data/processed-data/'+topic+'/'+year+'/term.txt'\n",
    "    terms = []\n",
    "    with open(path_t) as f:\n",
    "        terms = [line.rstrip() for line in f]\n",
    "\n",
    "    path_d = 'data/processed-data/'+topic+'/'+year+'/dates.txt'\n",
    "    dates = []\n",
    "    with open(path_d) as f:\n",
    "        dates = [line.rstrip() for line in f]\n",
    "\n",
    "    return headlines, terms, dates\n",
    "    "
   ]
  },
  {
   "cell_type": "code",
   "execution_count": 61,
   "metadata": {},
   "outputs": [],
   "source": [
    "def get_data(topic, year):\n",
    "    path_hd = 'data/processed-data/'+topic+'/'+year+'/hds.csv'\n",
    "    df = pd.read_csv(path_hd)\n",
    "    return df"
   ]
  },
  {
   "cell_type": "code",
   "execution_count": 62,
   "metadata": {},
   "outputs": [],
   "source": [
    "def get_scores(df):\n",
    "    \n",
    "    scores = []\n",
    "    for index, row in df.iterrows():\n",
    "        if isinstance(row['headlines'], str):\n",
    "            score = int(get_sentiment(row['headlines']))\n",
    "            if score != -1:\n",
    "                scores.append(score)\n",
    "            else:\n",
    "                scores.append(2)\n",
    "        else:\n",
    "            scores.append(2)\n",
    "\n",
    "    df['scores'] = scores\n",
    "    \n",
    "    return df"
   ]
  },
  {
   "cell_type": "code",
   "execution_count": 63,
   "metadata": {},
   "outputs": [],
   "source": [
    "def save_data(df, topic, year):\n",
    "    \n",
    "    path = './data/processed-sent/' + topic + '/' + year\n",
    "    Path(path).mkdir(parents=True, exist_ok=True)\n",
    "    \n",
    "    df.to_csv(path + '/hdsentiment.csv', index=False)"
   ]
  },
  {
   "cell_type": "code",
   "execution_count": 64,
   "metadata": {},
   "outputs": [],
   "source": [
    "def save_sent_data(topic, year):\n",
    "    #headlines, terms, dates = get_data_by_topic_year(topic, year)\n",
    "    df = get_data(topic, year)\n",
    "    df = get_scores(df)\n",
    "    save_data(df, topic, year)"
   ]
  },
  {
   "cell_type": "code",
   "execution_count": 65,
   "metadata": {},
   "outputs": [],
   "source": [
    "for year in ['2016', '2012', '2008', '2004', '2000', '2020']:\n",
    "    save_sent_data('candidates', year)"
   ]
  },
  {
   "cell_type": "code",
   "execution_count": 66,
   "metadata": {},
   "outputs": [
    {
     "name": "stdout",
     "output_type": "stream",
     "text": [
      "2016\n",
      "2012\n",
      "2008\n",
      "2004\n",
      "2000\n",
      "2020\n"
     ]
    }
   ],
   "source": [
    "for year in ['2016', '2012', '2008', '2004', '2000', '2020']:\n",
    "    print(year)\n",
    "    save_sent_data('immigration', year)"
   ]
  },
  {
   "cell_type": "code",
   "execution_count": 67,
   "metadata": {},
   "outputs": [
    {
     "name": "stdout",
     "output_type": "stream",
     "text": [
      "2016\n",
      "2012\n",
      "2008\n",
      "2004\n",
      "2000\n",
      "2020\n"
     ]
    }
   ],
   "source": [
    "for year in ['2016', '2012', '2008', '2004', '2000', '2020']:\n",
    "    print(year)\n",
    "    save_sent_data('health', year)"
   ]
  },
  {
   "cell_type": "code",
   "execution_count": 68,
   "metadata": {},
   "outputs": [
    {
     "name": "stdout",
     "output_type": "stream",
     "text": [
      "2016\n",
      "2012\n",
      "2008\n",
      "2004\n",
      "2000\n",
      "2020\n"
     ]
    }
   ],
   "source": [
    "for year in ['2016', '2012', '2008', '2004', '2000', '2020']:\n",
    "    print(year)\n",
    "    save_sent_data('jobs-race', year)"
   ]
  },
  {
   "cell_type": "code",
   "execution_count": 69,
   "metadata": {},
   "outputs": [
    {
     "name": "stdout",
     "output_type": "stream",
     "text": [
      "2016\n",
      "2012\n",
      "2008\n",
      "2004\n",
      "2000\n",
      "2020\n"
     ]
    }
   ],
   "source": [
    "for year in ['2016', '2012', '2008', '2004', '2000', '2020']:\n",
    "    print(year)\n",
    "    save_sent_data('environment', year)"
   ]
  },
  {
   "cell_type": "code",
   "execution_count": 70,
   "metadata": {},
   "outputs": [
    {
     "name": "stdout",
     "output_type": "stream",
     "text": [
      "2016\n",
      "2012\n",
      "2008\n",
      "2004\n",
      "2000\n",
      "2020\n"
     ]
    }
   ],
   "source": [
    "for year in ['2016', '2012', '2008', '2004', '2000', '2020']:\n",
    "    print(year)\n",
    "    save_sent_data('guns', year)"
   ]
  },
  {
   "cell_type": "code",
   "execution_count": 71,
   "metadata": {},
   "outputs": [
    {
     "name": "stdout",
     "output_type": "stream",
     "text": [
      "2016\n",
      "2012\n",
      "2008\n",
      "2004\n",
      "2000\n",
      "2020\n"
     ]
    }
   ],
   "source": [
    "for year in ['2016', '2012', '2008', '2004', '2000', '2020']:\n",
    "    print(year)\n",
    "    save_sent_data('party', year)"
   ]
  },
  {
   "cell_type": "code",
   "execution_count": 72,
   "metadata": {},
   "outputs": [
    {
     "name": "stdout",
     "output_type": "stream",
     "text": [
      "2016\n",
      "2012\n",
      "2008\n",
      "2004\n",
      "2000\n",
      "2020\n"
     ]
    }
   ],
   "source": [
    "for year in ['2016', '2012', '2008', '2004', '2000', '2020']:\n",
    "    print(year)\n",
    "    save_sent_data('economy', year)"
   ]
  },
  {
   "cell_type": "code",
   "execution_count": null,
   "metadata": {},
   "outputs": [],
   "source": []
  },
  {
   "cell_type": "code",
   "execution_count": null,
   "metadata": {},
   "outputs": [],
   "source": []
  },
  {
   "cell_type": "code",
   "execution_count": 84,
   "metadata": {},
   "outputs": [
    {
     "data": {
      "text/html": [
       "<div>\n",
       "<style scoped>\n",
       "    .dataframe tbody tr th:only-of-type {\n",
       "        vertical-align: middle;\n",
       "    }\n",
       "\n",
       "    .dataframe tbody tr th {\n",
       "        vertical-align: top;\n",
       "    }\n",
       "\n",
       "    .dataframe thead th {\n",
       "        text-align: right;\n",
       "    }\n",
       "</style>\n",
       "<table border=\"1\" class=\"dataframe\">\n",
       "  <thead>\n",
       "    <tr style=\"text-align: right;\">\n",
       "      <th></th>\n",
       "      <th>headlines</th>\n",
       "      <th>terms</th>\n",
       "      <th>scores</th>\n",
       "    </tr>\n",
       "  </thead>\n",
       "  <tbody>\n",
       "    <tr>\n",
       "      <th>0</th>\n",
       "      <td>gore selects lieberman as running mate</td>\n",
       "      <td>gore</td>\n",
       "      <td>2</td>\n",
       "    </tr>\n",
       "    <tr>\n",
       "      <th>1</th>\n",
       "      <td>mini-bounce leaves bush in danger</td>\n",
       "      <td>bush</td>\n",
       "      <td>2</td>\n",
       "    </tr>\n",
       "    <tr>\n",
       "      <th>2</th>\n",
       "      <td>gore goes for safety</td>\n",
       "      <td>gore</td>\n",
       "      <td>2</td>\n",
       "    </tr>\n",
       "    <tr>\n",
       "      <th>3</th>\n",
       "      <td>gore allies himself to integrity</td>\n",
       "      <td>gore</td>\n",
       "      <td>2</td>\n",
       "    </tr>\n",
       "    <tr>\n",
       "      <th>4</th>\n",
       "      <td>gore ditches clinton legacy</td>\n",
       "      <td>gore</td>\n",
       "      <td>2</td>\n",
       "    </tr>\n",
       "  </tbody>\n",
       "</table>\n",
       "</div>"
      ],
      "text/plain": [
       "                                headlines terms  scores\n",
       "0  gore selects lieberman as running mate  gore       2\n",
       "1       mini-bounce leaves bush in danger  bush       2\n",
       "2                    gore goes for safety  gore       2\n",
       "3        gore allies himself to integrity  gore       2\n",
       "4             gore ditches clinton legacy  gore       2"
      ]
     },
     "execution_count": 84,
     "metadata": {},
     "output_type": "execute_result"
    }
   ],
   "source": [
    "#candidate_df.head()"
   ]
  },
  {
   "cell_type": "code",
   "execution_count": null,
   "metadata": {},
   "outputs": [],
   "source": []
  },
  {
   "cell_type": "code",
   "execution_count": 85,
   "metadata": {},
   "outputs": [
    {
     "data": {
      "text/html": [
       "<div>\n",
       "<style scoped>\n",
       "    .dataframe tbody tr th:only-of-type {\n",
       "        vertical-align: middle;\n",
       "    }\n",
       "\n",
       "    .dataframe tbody tr th {\n",
       "        vertical-align: top;\n",
       "    }\n",
       "\n",
       "    .dataframe thead tr th {\n",
       "        text-align: left;\n",
       "    }\n",
       "\n",
       "    .dataframe thead tr:last-of-type th {\n",
       "        text-align: right;\n",
       "    }\n",
       "</style>\n",
       "<table border=\"1\" class=\"dataframe\">\n",
       "  <thead>\n",
       "    <tr>\n",
       "      <th></th>\n",
       "      <th colspan=\"4\" halign=\"left\">scores</th>\n",
       "    </tr>\n",
       "    <tr>\n",
       "      <th></th>\n",
       "      <th>mean</th>\n",
       "      <th>count</th>\n",
       "      <th>min</th>\n",
       "      <th>max</th>\n",
       "    </tr>\n",
       "    <tr>\n",
       "      <th>terms</th>\n",
       "      <th></th>\n",
       "      <th></th>\n",
       "      <th></th>\n",
       "      <th></th>\n",
       "    </tr>\n",
       "  </thead>\n",
       "  <tbody>\n",
       "    <tr>\n",
       "      <th>bush</th>\n",
       "      <td>1.937500</td>\n",
       "      <td>80</td>\n",
       "      <td>1</td>\n",
       "      <td>3</td>\n",
       "    </tr>\n",
       "    <tr>\n",
       "      <th>george</th>\n",
       "      <td>1.866667</td>\n",
       "      <td>15</td>\n",
       "      <td>1</td>\n",
       "      <td>3</td>\n",
       "    </tr>\n",
       "    <tr>\n",
       "      <th>gore</th>\n",
       "      <td>1.857143</td>\n",
       "      <td>91</td>\n",
       "      <td>1</td>\n",
       "      <td>3</td>\n",
       "    </tr>\n",
       "  </tbody>\n",
       "</table>\n",
       "</div>"
      ],
      "text/plain": [
       "          scores              \n",
       "            mean count min max\n",
       "terms                         \n",
       "bush    1.937500    80   1   3\n",
       "george  1.866667    15   1   3\n",
       "gore    1.857143    91   1   3"
      ]
     },
     "execution_count": 85,
     "metadata": {},
     "output_type": "execute_result"
    }
   ],
   "source": [
    "#candidate_df[['terms']].groupby(['scores']).agg(['mean', 'count'])\n",
    "\n",
    "#candidate_df.groupby(['terms']).agg({'scores': ['mean', 'count', 'min', 'max']})"
   ]
  },
  {
   "cell_type": "code",
   "execution_count": null,
   "metadata": {},
   "outputs": [],
   "source": []
  },
  {
   "cell_type": "code",
   "execution_count": null,
   "metadata": {},
   "outputs": [],
   "source": []
  }
 ],
 "metadata": {
  "kernelspec": {
   "display_name": "Python 3",
   "language": "python",
   "name": "python3"
  },
  "language_info": {
   "codemirror_mode": {
    "name": "ipython",
    "version": 3
   },
   "file_extension": ".py",
   "mimetype": "text/x-python",
   "name": "python",
   "nbconvert_exporter": "python",
   "pygments_lexer": "ipython3",
   "version": "3.7.3"
  }
 },
 "nbformat": 4,
 "nbformat_minor": 2
}
