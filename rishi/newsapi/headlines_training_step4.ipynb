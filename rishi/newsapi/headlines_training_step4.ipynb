{
 "cells": [
  {
   "cell_type": "code",
   "execution_count": 37,
   "metadata": {},
   "outputs": [],
   "source": [
    "import pandas as pd\n",
    "import statsmodels.api as sm\n",
    "from sklearn.linear_model import LogisticRegression\n",
    "from sklearn import metrics\n",
    "from sklearn.metrics import confusion_matrix"
   ]
  },
  {
   "cell_type": "code",
   "execution_count": 2,
   "metadata": {},
   "outputs": [],
   "source": [
    "def get_mean_scores_by_date(data, topic, year):\n",
    "    path = 'data/processed-sent/'+topic+'/'+year+'/hdsentiment.csv'\n",
    "    df = pd.read_csv(path)\n",
    "    df2 = df.groupby('dates')['scores'].mean().to_frame().reset_index()\n",
    "    second_col = topic + '_scores'\n",
    "    df2.columns = ['dates', second_col]\n",
    "    \n",
    "    if len(data) == 0:\n",
    "        return df2\n",
    "    \n",
    "    df3 = pd.merge(data, df2, how='outer', on=['dates'])\n",
    "    return df3"
   ]
  },
  {
   "cell_type": "code",
   "execution_count": 3,
   "metadata": {},
   "outputs": [],
   "source": [
    "def get_win_by_year(year):\n",
    "    if year == '2016' or year == '2004' or year == '2000':\n",
    "        return 1\n",
    "    else:\n",
    "        return 0\n",
    "        "
   ]
  },
  {
   "cell_type": "code",
   "execution_count": 4,
   "metadata": {},
   "outputs": [],
   "source": [
    "def combine_data_by_year():\n",
    "    path = 'data/processed-sent-merge/'\n",
    "\n",
    "    for y in ['2016', '2012', '2008', '2004', '2000', '2020']:\n",
    "        data = []\n",
    "        for t in ['candidates', 'health', 'immigration', 'jobs-race', 'environment', 'guns', 'party', 'economy']:\n",
    "            data = get_mean_scores_by_date(data, t, y)\n",
    "\n",
    "        if y != '2020':\n",
    "            data['winner'] = get_win_by_year(y)\n",
    "            \n",
    "        data.to_csv(path + y + '/combinedtopics_sent.csv')"
   ]
  },
  {
   "cell_type": "code",
   "execution_count": 5,
   "metadata": {},
   "outputs": [],
   "source": [
    "combine_data_by_year()"
   ]
  },
  {
   "cell_type": "code",
   "execution_count": 6,
   "metadata": {},
   "outputs": [],
   "source": [
    "def combine_all_horizontally(test_year):\n",
    "    path = 'data/processed-sent-merge/'\n",
    "    train_data = []\n",
    "    test_data = []\n",
    "    \n",
    "    for y in ['2016', '2012', '2008', '2004', '2000']:\n",
    "        if test_year == y:\n",
    "            test_data = pd.read_csv(path + y + '/combinedtopics_sent.csv')\n",
    "            continue\n",
    "            \n",
    "        if len(train_data) == 0:\n",
    "            train_data = pd.read_csv(path + y + '/combinedtopics_sent.csv')\n",
    "        else:\n",
    "            df = pd.read_csv(path + y + '/combinedtopics_sent.csv')\n",
    "            train_data = train_data.append(df)   \n",
    "    \n",
    "    train_data.to_csv(path + 'combined/combined_all_sent_train.csv', index=False)\n",
    "    test_data.to_csv(path + 'combined/combined_all_sent_test.csv', index=False)"
   ]
  },
  {
   "cell_type": "code",
   "execution_count": 17,
   "metadata": {},
   "outputs": [],
   "source": [
    "combine_all_horizontally('2004')"
   ]
  },
  {
   "cell_type": "code",
   "execution_count": 18,
   "metadata": {},
   "outputs": [],
   "source": [
    "train_df = pd.read_csv('data/processed-sent-merge/combined/combined_all_sent_train.csv')\n",
    "test_df = pd.read_csv('data/processed-sent-merge/combined/combined_all_sent_test.csv')"
   ]
  },
  {
   "cell_type": "code",
   "execution_count": 19,
   "metadata": {},
   "outputs": [
    {
     "data": {
      "text/html": [
       "<div>\n",
       "<style scoped>\n",
       "    .dataframe tbody tr th:only-of-type {\n",
       "        vertical-align: middle;\n",
       "    }\n",
       "\n",
       "    .dataframe tbody tr th {\n",
       "        vertical-align: top;\n",
       "    }\n",
       "\n",
       "    .dataframe thead th {\n",
       "        text-align: right;\n",
       "    }\n",
       "</style>\n",
       "<table border=\"1\" class=\"dataframe\">\n",
       "  <thead>\n",
       "    <tr style=\"text-align: right;\">\n",
       "      <th></th>\n",
       "      <th>dates</th>\n",
       "      <th>candidates_scores</th>\n",
       "      <th>health_scores</th>\n",
       "      <th>immigration_scores</th>\n",
       "      <th>jobs-race_scores</th>\n",
       "      <th>environment_scores</th>\n",
       "      <th>guns_scores</th>\n",
       "      <th>party_scores</th>\n",
       "      <th>economy_scores</th>\n",
       "      <th>winner</th>\n",
       "    </tr>\n",
       "  </thead>\n",
       "  <tbody>\n",
       "    <tr>\n",
       "      <th>0</th>\n",
       "      <td>2016-08-08</td>\n",
       "      <td>1.900000</td>\n",
       "      <td>NaN</td>\n",
       "      <td>1.714286</td>\n",
       "      <td>2.000000</td>\n",
       "      <td>1.428571</td>\n",
       "      <td>1.375000</td>\n",
       "      <td>2.000000</td>\n",
       "      <td>1.687500</td>\n",
       "      <td>1</td>\n",
       "    </tr>\n",
       "    <tr>\n",
       "      <th>1</th>\n",
       "      <td>2016-08-09</td>\n",
       "      <td>1.680000</td>\n",
       "      <td>2.0</td>\n",
       "      <td>1.692308</td>\n",
       "      <td>1.500000</td>\n",
       "      <td>1.909091</td>\n",
       "      <td>2.000000</td>\n",
       "      <td>1.680000</td>\n",
       "      <td>1.812500</td>\n",
       "      <td>1</td>\n",
       "    </tr>\n",
       "    <tr>\n",
       "      <th>2</th>\n",
       "      <td>2016-08-10</td>\n",
       "      <td>1.652174</td>\n",
       "      <td>2.0</td>\n",
       "      <td>2.181818</td>\n",
       "      <td>2.142857</td>\n",
       "      <td>2.142857</td>\n",
       "      <td>2.000000</td>\n",
       "      <td>1.550000</td>\n",
       "      <td>1.818182</td>\n",
       "      <td>1</td>\n",
       "    </tr>\n",
       "    <tr>\n",
       "      <th>3</th>\n",
       "      <td>2016-08-11</td>\n",
       "      <td>1.962963</td>\n",
       "      <td>2.0</td>\n",
       "      <td>1.785714</td>\n",
       "      <td>2.000000</td>\n",
       "      <td>1.777778</td>\n",
       "      <td>2.000000</td>\n",
       "      <td>1.888889</td>\n",
       "      <td>2.142857</td>\n",
       "      <td>1</td>\n",
       "    </tr>\n",
       "    <tr>\n",
       "      <th>4</th>\n",
       "      <td>2016-08-12</td>\n",
       "      <td>1.620690</td>\n",
       "      <td>2.0</td>\n",
       "      <td>1.562500</td>\n",
       "      <td>2.500000</td>\n",
       "      <td>1.800000</td>\n",
       "      <td>1.611111</td>\n",
       "      <td>1.866667</td>\n",
       "      <td>1.818182</td>\n",
       "      <td>1</td>\n",
       "    </tr>\n",
       "  </tbody>\n",
       "</table>\n",
       "</div>"
      ],
      "text/plain": [
       "        dates  candidates_scores  health_scores  immigration_scores  \\\n",
       "0  2016-08-08           1.900000            NaN            1.714286   \n",
       "1  2016-08-09           1.680000            2.0            1.692308   \n",
       "2  2016-08-10           1.652174            2.0            2.181818   \n",
       "3  2016-08-11           1.962963            2.0            1.785714   \n",
       "4  2016-08-12           1.620690            2.0            1.562500   \n",
       "\n",
       "   jobs-race_scores  environment_scores  guns_scores  party_scores  \\\n",
       "0          2.000000            1.428571     1.375000      2.000000   \n",
       "1          1.500000            1.909091     2.000000      1.680000   \n",
       "2          2.142857            2.142857     2.000000      1.550000   \n",
       "3          2.000000            1.777778     2.000000      1.888889   \n",
       "4          2.500000            1.800000     1.611111      1.866667   \n",
       "\n",
       "   economy_scores  winner  \n",
       "0        1.687500       1  \n",
       "1        1.812500       1  \n",
       "2        1.818182       1  \n",
       "3        2.142857       1  \n",
       "4        1.818182       1  "
      ]
     },
     "execution_count": 19,
     "metadata": {},
     "output_type": "execute_result"
    }
   ],
   "source": [
    "train_df = train_df.drop(train_df.columns[0], axis=1)\n",
    "train_df.head()"
   ]
  },
  {
   "cell_type": "code",
   "execution_count": 20,
   "metadata": {},
   "outputs": [
    {
     "data": {
      "text/html": [
       "<div>\n",
       "<style scoped>\n",
       "    .dataframe tbody tr th:only-of-type {\n",
       "        vertical-align: middle;\n",
       "    }\n",
       "\n",
       "    .dataframe tbody tr th {\n",
       "        vertical-align: top;\n",
       "    }\n",
       "\n",
       "    .dataframe thead th {\n",
       "        text-align: right;\n",
       "    }\n",
       "</style>\n",
       "<table border=\"1\" class=\"dataframe\">\n",
       "  <thead>\n",
       "    <tr style=\"text-align: right;\">\n",
       "      <th></th>\n",
       "      <th>dates</th>\n",
       "      <th>candidates_scores</th>\n",
       "      <th>health_scores</th>\n",
       "      <th>immigration_scores</th>\n",
       "      <th>jobs-race_scores</th>\n",
       "      <th>environment_scores</th>\n",
       "      <th>guns_scores</th>\n",
       "      <th>party_scores</th>\n",
       "      <th>economy_scores</th>\n",
       "      <th>winner</th>\n",
       "    </tr>\n",
       "  </thead>\n",
       "  <tbody>\n",
       "    <tr>\n",
       "      <th>0</th>\n",
       "      <td>2004-08-02</td>\n",
       "      <td>2.166667</td>\n",
       "      <td>NaN</td>\n",
       "      <td>2.0</td>\n",
       "      <td>2.0</td>\n",
       "      <td>1.333333</td>\n",
       "      <td>2.5</td>\n",
       "      <td>2.333333</td>\n",
       "      <td>1.923077</td>\n",
       "      <td>1</td>\n",
       "    </tr>\n",
       "    <tr>\n",
       "      <th>1</th>\n",
       "      <td>2004-08-03</td>\n",
       "      <td>2.000000</td>\n",
       "      <td>NaN</td>\n",
       "      <td>2.2</td>\n",
       "      <td>2.0</td>\n",
       "      <td>2.000000</td>\n",
       "      <td>2.2</td>\n",
       "      <td>1.777778</td>\n",
       "      <td>2.090909</td>\n",
       "      <td>1</td>\n",
       "    </tr>\n",
       "    <tr>\n",
       "      <th>2</th>\n",
       "      <td>2004-08-05</td>\n",
       "      <td>2.000000</td>\n",
       "      <td>2.0</td>\n",
       "      <td>2.0</td>\n",
       "      <td>2.0</td>\n",
       "      <td>1.875000</td>\n",
       "      <td>2.0</td>\n",
       "      <td>2.400000</td>\n",
       "      <td>2.166667</td>\n",
       "      <td>1</td>\n",
       "    </tr>\n",
       "    <tr>\n",
       "      <th>3</th>\n",
       "      <td>2004-08-06</td>\n",
       "      <td>1.000000</td>\n",
       "      <td>2.0</td>\n",
       "      <td>2.0</td>\n",
       "      <td>1.5</td>\n",
       "      <td>NaN</td>\n",
       "      <td>2.0</td>\n",
       "      <td>2.000000</td>\n",
       "      <td>1.875000</td>\n",
       "      <td>1</td>\n",
       "    </tr>\n",
       "    <tr>\n",
       "      <th>4</th>\n",
       "      <td>2004-08-07</td>\n",
       "      <td>2.285714</td>\n",
       "      <td>2.0</td>\n",
       "      <td>NaN</td>\n",
       "      <td>2.0</td>\n",
       "      <td>2.000000</td>\n",
       "      <td>2.0</td>\n",
       "      <td>2.000000</td>\n",
       "      <td>1.916667</td>\n",
       "      <td>1</td>\n",
       "    </tr>\n",
       "  </tbody>\n",
       "</table>\n",
       "</div>"
      ],
      "text/plain": [
       "        dates  candidates_scores  health_scores  immigration_scores  \\\n",
       "0  2004-08-02           2.166667            NaN                 2.0   \n",
       "1  2004-08-03           2.000000            NaN                 2.2   \n",
       "2  2004-08-05           2.000000            2.0                 2.0   \n",
       "3  2004-08-06           1.000000            2.0                 2.0   \n",
       "4  2004-08-07           2.285714            2.0                 NaN   \n",
       "\n",
       "   jobs-race_scores  environment_scores  guns_scores  party_scores  \\\n",
       "0               2.0            1.333333          2.5      2.333333   \n",
       "1               2.0            2.000000          2.2      1.777778   \n",
       "2               2.0            1.875000          2.0      2.400000   \n",
       "3               1.5                 NaN          2.0      2.000000   \n",
       "4               2.0            2.000000          2.0      2.000000   \n",
       "\n",
       "   economy_scores  winner  \n",
       "0        1.923077       1  \n",
       "1        2.090909       1  \n",
       "2        2.166667       1  \n",
       "3        1.875000       1  \n",
       "4        1.916667       1  "
      ]
     },
     "execution_count": 20,
     "metadata": {},
     "output_type": "execute_result"
    }
   ],
   "source": [
    "test_df = test_df.drop(test_df.columns[0], axis=1)\n",
    "test_df.head()"
   ]
  },
  {
   "cell_type": "code",
   "execution_count": 21,
   "metadata": {},
   "outputs": [],
   "source": [
    "#Fill nan values\n",
    "train_df = train_df.fillna(train_df.mean())\n",
    "test_df = test_df.fillna(test_df.mean())"
   ]
  },
  {
   "cell_type": "code",
   "execution_count": 32,
   "metadata": {},
   "outputs": [],
   "source": [
    "#trainable_cols=['candidates_scores', 'health_scores', 'immigration_scores', 'jobs-race_scores', \n",
    "#                'environment_scores', 'guns_scores', 'party_scores', 'economy_scores'] \n",
    "\n",
    "trainable_cols=['candidates_scores', 'health_scores', 'jobs-race_scores', 'guns_scores', 'economy_scores'] \n",
    "\n",
    "\n",
    "train_X=train_df[trainable_cols]\n",
    "train_Y=train_df['winner']\n",
    "\n",
    "test_X=test_df[trainable_cols]\n",
    "test_Y=test_df['winner']"
   ]
  },
  {
   "cell_type": "code",
   "execution_count": 33,
   "metadata": {},
   "outputs": [
    {
     "data": {
      "text/html": [
       "<div>\n",
       "<style scoped>\n",
       "    .dataframe tbody tr th:only-of-type {\n",
       "        vertical-align: middle;\n",
       "    }\n",
       "\n",
       "    .dataframe tbody tr th {\n",
       "        vertical-align: top;\n",
       "    }\n",
       "\n",
       "    .dataframe thead th {\n",
       "        text-align: right;\n",
       "    }\n",
       "</style>\n",
       "<table border=\"1\" class=\"dataframe\">\n",
       "  <thead>\n",
       "    <tr style=\"text-align: right;\">\n",
       "      <th></th>\n",
       "      <th>candidates_scores</th>\n",
       "      <th>health_scores</th>\n",
       "      <th>jobs-race_scores</th>\n",
       "      <th>guns_scores</th>\n",
       "      <th>economy_scores</th>\n",
       "    </tr>\n",
       "  </thead>\n",
       "  <tbody>\n",
       "    <tr>\n",
       "      <th>88</th>\n",
       "      <td>1.918384</td>\n",
       "      <td>2.00000</td>\n",
       "      <td>1.000000</td>\n",
       "      <td>2.000000</td>\n",
       "      <td>1.833333</td>\n",
       "    </tr>\n",
       "    <tr>\n",
       "      <th>89</th>\n",
       "      <td>1.918384</td>\n",
       "      <td>2.00000</td>\n",
       "      <td>1.666667</td>\n",
       "      <td>2.000000</td>\n",
       "      <td>2.000000</td>\n",
       "    </tr>\n",
       "    <tr>\n",
       "      <th>90</th>\n",
       "      <td>1.918384</td>\n",
       "      <td>1.94974</td>\n",
       "      <td>1.961730</td>\n",
       "      <td>2.000000</td>\n",
       "      <td>2.000000</td>\n",
       "    </tr>\n",
       "    <tr>\n",
       "      <th>91</th>\n",
       "      <td>1.918384</td>\n",
       "      <td>1.94974</td>\n",
       "      <td>2.000000</td>\n",
       "      <td>1.800000</td>\n",
       "      <td>2.100000</td>\n",
       "    </tr>\n",
       "    <tr>\n",
       "      <th>92</th>\n",
       "      <td>1.918384</td>\n",
       "      <td>1.94974</td>\n",
       "      <td>1.000000</td>\n",
       "      <td>1.949175</td>\n",
       "      <td>2.000000</td>\n",
       "    </tr>\n",
       "  </tbody>\n",
       "</table>\n",
       "</div>"
      ],
      "text/plain": [
       "    candidates_scores  health_scores  jobs-race_scores  guns_scores  \\\n",
       "88           1.918384        2.00000          1.000000     2.000000   \n",
       "89           1.918384        2.00000          1.666667     2.000000   \n",
       "90           1.918384        1.94974          1.961730     2.000000   \n",
       "91           1.918384        1.94974          2.000000     1.800000   \n",
       "92           1.918384        1.94974          1.000000     1.949175   \n",
       "\n",
       "    economy_scores  \n",
       "88        1.833333  \n",
       "89        2.000000  \n",
       "90        2.000000  \n",
       "91        2.100000  \n",
       "92        2.000000  "
      ]
     },
     "execution_count": 33,
     "metadata": {},
     "output_type": "execute_result"
    }
   ],
   "source": [
    "test_X.tail()"
   ]
  },
  {
   "cell_type": "markdown",
   "metadata": {},
   "source": [
    "#### Check features validity"
   ]
  },
  {
   "cell_type": "code",
   "execution_count": 34,
   "metadata": {},
   "outputs": [
    {
     "name": "stdout",
     "output_type": "stream",
     "text": [
      "Optimization terminated successfully.\n",
      "         Current function value: 0.675850\n",
      "         Iterations 4\n",
      "                         Results: Logit\n",
      "=================================================================\n",
      "Model:                Logit            Pseudo R-squared: 0.025   \n",
      "Dependent Variable:   winner           AIC:              512.8326\n",
      "Date:                 2020-06-14 15:05 BIC:              532.4270\n",
      "No. Observations:     372              Log-Likelihood:   -251.42 \n",
      "Df Model:             4                LL-Null:          -257.85 \n",
      "Df Residuals:         367              LLR p-value:      0.011934\n",
      "Converged:            1.0000           Scale:            1.0000  \n",
      "No. Iterations:       4.0000                                     \n",
      "-----------------------------------------------------------------\n",
      "                   Coef.  Std.Err.    z    P>|z|   [0.025  0.975]\n",
      "-----------------------------------------------------------------\n",
      "candidates_scores -0.8696   0.3623 -2.4004 0.0164 -1.5796 -0.1595\n",
      "health_scores     -0.6385   0.3075 -2.0762 0.0379 -1.2412 -0.0358\n",
      "jobs-race_scores   0.1402   0.3161  0.4434 0.6575 -0.4794  0.7597\n",
      "guns_scores        0.4099   0.4127  0.9933 0.3206 -0.3989  1.2188\n",
      "economy_scores     0.9741   0.5008  1.9452 0.0518 -0.0074  1.9556\n",
      "=================================================================\n",
      "\n"
     ]
    }
   ],
   "source": [
    "logit_model=sm.Logit(train_Y,train_X)\n",
    "result=logit_model.fit()\n",
    "print(result.summary2())"
   ]
  },
  {
   "cell_type": "code",
   "execution_count": 35,
   "metadata": {},
   "outputs": [
    {
     "name": "stderr",
     "output_type": "stream",
     "text": [
      "/home/rmh/anaconda3/lib/python3.7/site-packages/sklearn/linear_model/logistic.py:433: FutureWarning: Default solver will be changed to 'lbfgs' in 0.22. Specify a solver to silence this warning.\n",
      "  FutureWarning)\n"
     ]
    },
    {
     "data": {
      "text/plain": [
       "LogisticRegression(C=1.0, class_weight=None, dual=False, fit_intercept=True,\n",
       "          intercept_scaling=1, max_iter=100, multi_class='warn',\n",
       "          n_jobs=None, penalty='l2', random_state=None, solver='warn',\n",
       "          tol=0.0001, verbose=0, warm_start=False)"
      ]
     },
     "execution_count": 35,
     "metadata": {},
     "output_type": "execute_result"
    }
   ],
   "source": [
    "logreg = LogisticRegression()\n",
    "logreg.fit(train_X, train_Y)"
   ]
  },
  {
   "cell_type": "code",
   "execution_count": 36,
   "metadata": {},
   "outputs": [
    {
     "name": "stdout",
     "output_type": "stream",
     "text": [
      "Accuracy of logistic regression classifier on test set: 0.54\n"
     ]
    }
   ],
   "source": [
    "pred_y = logreg.predict(test_X)\n",
    "print('Accuracy of logistic regression classifier on test set: {:.2f}'.format(logreg.score(test_X, test_Y)))"
   ]
  },
  {
   "cell_type": "code",
   "execution_count": 41,
   "metadata": {},
   "outputs": [
    {
     "name": "stdout",
     "output_type": "stream",
     "text": [
      "[[ 0  0]\n",
      " [43 50]]\n"
     ]
    }
   ],
   "source": [
    "confusion_matrix = confusion_matrix(test_Y, pred_y)\n",
    "print(confusion_matrix)"
   ]
  },
  {
   "cell_type": "code",
   "execution_count": 42,
   "metadata": {},
   "outputs": [
    {
     "name": "stdout",
     "output_type": "stream",
     "text": [
      "              precision    recall  f1-score   support\n",
      "\n",
      "           0       0.00      0.00      0.00         0\n",
      "           1       1.00      0.54      0.70        93\n",
      "\n",
      "   micro avg       0.54      0.54      0.54        93\n",
      "   macro avg       0.50      0.27      0.35        93\n",
      "weighted avg       1.00      0.54      0.70        93\n",
      "\n"
     ]
    },
    {
     "name": "stderr",
     "output_type": "stream",
     "text": [
      "/home/rmh/anaconda3/lib/python3.7/site-packages/sklearn/metrics/classification.py:1145: UndefinedMetricWarning: Recall and F-score are ill-defined and being set to 0.0 in labels with no true samples.\n",
      "  'recall', 'true', average, warn_for)\n",
      "/home/rmh/anaconda3/lib/python3.7/site-packages/sklearn/metrics/classification.py:1145: UndefinedMetricWarning: Recall and F-score are ill-defined and being set to 0.0 in labels with no true samples.\n",
      "  'recall', 'true', average, warn_for)\n",
      "/home/rmh/anaconda3/lib/python3.7/site-packages/sklearn/metrics/classification.py:1145: UndefinedMetricWarning: Recall and F-score are ill-defined and being set to 0.0 in labels with no true samples.\n",
      "  'recall', 'true', average, warn_for)\n"
     ]
    }
   ],
   "source": [
    "from sklearn.metrics import classification_report\n",
    "print(classification_report(test_Y, pred_y))"
   ]
  },
  {
   "cell_type": "code",
   "execution_count": null,
   "metadata": {},
   "outputs": [],
   "source": []
  }
 ],
 "metadata": {
  "kernelspec": {
   "display_name": "Python 3",
   "language": "python",
   "name": "python3"
  },
  "language_info": {
   "codemirror_mode": {
    "name": "ipython",
    "version": 3
   },
   "file_extension": ".py",
   "mimetype": "text/x-python",
   "name": "python",
   "nbconvert_exporter": "python",
   "pygments_lexer": "ipython3",
   "version": "3.7.3"
  }
 },
 "nbformat": 4,
 "nbformat_minor": 2
}
