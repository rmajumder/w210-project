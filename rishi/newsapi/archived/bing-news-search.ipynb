{
 "cells": [
  {
   "cell_type": "code",
   "execution_count": 22,
   "metadata": {},
   "outputs": [],
   "source": [
    "import json\n",
    "import requests\n",
    "from os import makedirs\n",
    "from os.path import join, exists\n",
    "from datetime import date, timedelta"
   ]
  },
  {
   "cell_type": "code",
   "execution_count": 23,
   "metadata": {},
   "outputs": [],
   "source": [
    "subscription_key = open(\"creds_bing_news_api.txt\").read().strip()\n",
    "search_term = \"Presidential Election\"\n",
    "search_url = \"https://api.cognitive.microsoft.com/bing/v7.0/news/search\""
   ]
  },
  {
   "cell_type": "code",
   "execution_count": 24,
   "metadata": {},
   "outputs": [],
   "source": [
    "headers = {\"Ocp-Apim-Subscription-Key\" : subscription_key}\n",
    "params  = {\"q\": search_term, \"textDecorations\": True, \"textFormat\": \"HTML\"}"
   ]
  },
  {
   "cell_type": "code",
   "execution_count": 25,
   "metadata": {},
   "outputs": [],
   "source": [
    "response = requests.get(search_url, headers=headers, params=params)\n",
    "response.raise_for_status()\n",
    "search_results = response.json()"
   ]
  },
  {
   "cell_type": "code",
   "execution_count": 26,
   "metadata": {},
   "outputs": [
    {
     "data": {
      "text/plain": [
       "{'_type': 'News',\n",
       " 'readLink': 'https://api.cognitive.microsoft.com/api/v7/news/search?q=Presidential+Election',\n",
       " 'queryContext': {'originalQuery': 'Presidential Election',\n",
       "  'adultIntent': False},\n",
       " 'totalEstimatedMatches': 84300,\n",
       " 'sort': [{'name': 'Best match',\n",
       "   'id': 'relevance',\n",
       "   'isSelected': True,\n",
       "   'url': 'https://api.cognitive.microsoft.com/api/v7/news/search?q=Presidential+Election'},\n",
       "  {'name': 'Most recent',\n",
       "   'id': 'date',\n",
       "   'isSelected': False,\n",
       "   'url': 'https://api.cognitive.microsoft.com/api/v7/news/search?q=Presidential+Election&sortby=date'}],\n",
       " 'value': [{'name': 'These vote-by-mail lawsuits could help decide the <b>presidential election</b>',\n",
       "   'url': 'https://www.nbcnews.com/politics/2020-election/these-vote-mail-lawsuits-could-help-decide-presidential-election-n1217791',\n",
       "   'image': {'thumbnail': {'contentUrl': 'https://www.bing.com/th?id=ON.7D2EB929D437B0B3E0BFBCC0509A0A7D&pid=News',\n",
       "     'width': 700,\n",
       "     'height': 367}},\n",
       "   'description': 'Nonpartisan groups, such as the Campaign Legal Center, as well as a handful of Democratic organizations, including Priorities USA, are backing lawsuits in more than a dozen states in an effort to eliminate administrative hurdles that could make vote-by-mail difficult or even inaccessible to voters.',\n",
       "   'about': [{'readLink': 'https://api.cognitive.microsoft.com/api/v7/entities/d682cd1a-ae7c-c184-0ad6-43ba9a265873',\n",
       "     'name': 'United States presidential election'},\n",
       "    {'readLink': 'https://api.cognitive.microsoft.com/api/v7/entities/9771249e-d560-b84a-d6e4-13dacd6ba458',\n",
       "     'name': 'Postal voting'}],\n",
       "   'mentions': [{'name': 'United States presidential election'},\n",
       "    {'name': 'Postal voting'},\n",
       "    {'name': 'Politics'}],\n",
       "   'provider': [{'_type': 'Organization',\n",
       "     'name': 'NBC News',\n",
       "     'image': {'thumbnail': {'contentUrl': 'https://www.bing.com/th?id=AR_e4bde9ad3949725c2f4ad268ff549295&pid=news'}}}],\n",
       "   'datePublished': '2020-05-30T13:42:00.0000000Z',\n",
       "   'video': {'name': 'Pandemic spawns battle over voting by mail',\n",
       "    'motionThumbnailUrl': 'https://wus-streaming-video-msn-com.akamaized.net/fd29fd64-c282-4a59-83a5-9384eb4c5a53/72535070-b911-46e9-9847-f1e88c7e_650.mp4',\n",
       "    'thumbnail': {'width': 640, 'height': 360}},\n",
       "   'category': 'Politics'},\n",
       "  {'name': 'Of polls, <b>presidential</b> <b>elections</b> and Democratic jitters',\n",
       "   'url': 'https://thehill.com/opinion/campaign/500326-of-polls-presidential-elections-and-democratic-jitters',\n",
       "   'image': {'thumbnail': {'contentUrl': 'https://www.bing.com/th?id=ON.57F8A0585575A65AE172671EB588E829&pid=News',\n",
       "     'width': 700,\n",
       "     'height': 393}},\n",
       "   'description': 'Like generals, politicians and pundits usually fight the last war.',\n",
       "   'mentions': [{'name': 'United States presidential election'},\n",
       "    {'name': 'Democratic Party'},\n",
       "    {'name': 'Opinion'}],\n",
       "   'provider': [{'_type': 'Organization',\n",
       "     'name': 'The Hill',\n",
       "     'image': {'thumbnail': {'contentUrl': 'https://www.bing.com/th?id=AR_fbfe507a57f598418fd179b0dec78111&pid=news'}}}],\n",
       "   'datePublished': '2020-05-31T16:30:00.0000000Z',\n",
       "   'category': 'Politics'},\n",
       "  {'name': '3 former <b>presidential</b> candidates to address Maine Democrats',\n",
       "   'url': 'https://apnews.com/8580b4032209a9f0f4bea8b039cb2080',\n",
       "   'image': {'thumbnail': {'contentUrl': 'https://www.bing.com/th?id=ON.BE3202C5B00745EE7A16C8456B43A0EE&pid=News',\n",
       "     'width': 700,\n",
       "     'height': 351}},\n",
       "   'description': 'Three former Democratic presidential candidates are delivering remarks to rally Maine Democrats on Sunday against the backdrop of a nation roiled by rage over',\n",
       "   'about': [{'readLink': 'https://api.cognitive.microsoft.com/api/v7/entities/d62dd683-9cf9-4db9-a497-d810d529592b',\n",
       "     'name': 'Maine'}],\n",
       "   'mentions': [{'name': 'Maine'},\n",
       "    {'name': 'Democratic Party'},\n",
       "    {'name': 'United States'}],\n",
       "   'provider': [{'_type': 'Organization',\n",
       "     'name': 'Associated Press',\n",
       "     'image': {'thumbnail': {'contentUrl': 'https://www.bing.com/th?id=AMMS_6c39d1938749f17b7db3d338632af3cb&pid=news'}}}],\n",
       "   'datePublished': '2020-05-31T18:32:00.0000000Z',\n",
       "   'category': 'Politics'},\n",
       "  {'name': '3 theories why 2020 <b>presidential election</b> odds don’t reflect polling',\n",
       "   'url': 'https://www.dailypress.com/gambling/sns-actnet-presidential-election-odds-2020-donald-trump-joe-biden-20200527-t5twrsfujvbpbphceomd6zdwoi-story.html',\n",
       "   'image': {'thumbnail': {'contentUrl': 'https://www.bing.com/th?id=ON.BF52D4F8CB6E56EE7C6938414FFE5660&pid=News',\n",
       "     'width': 700,\n",
       "     'height': 393}},\n",
       "   'description': 'President Donald Trump remains the slight favorite to win November’s election at European book Betfair with -110 odds; Biden is at +120. That’s been the case for a while now.',\n",
       "   'provider': [{'_type': 'Organization',\n",
       "     'name': 'Daily Press',\n",
       "     'image': {'thumbnail': {'contentUrl': 'https://www.bing.com/th?id=AR_d4093592bf84aa83503bd5276a0c9e7a&pid=news'}}}],\n",
       "   'datePublished': '2020-05-28T00:04:00.0000000Z',\n",
       "   'category': 'Politics'},\n",
       "  {'name': 'Liberal Warsaw mayor injects suspense into <b>presidential</b> vote',\n",
       "   'url': 'https://www.washingtonpost.com/politics/liberal-warsaw-mayor-injects-suspense-into-presidential-vote/2020/05/31/6860b734-a311-11ea-be06-af5514ee0385_story.html',\n",
       "   'description': 'Warsaw’s liberal mayor Rafal Trzaskowski has made a late entry in Poland’s presidential election and has quickly become the main challenger to the conservative incumbent, Andrzej Duda',\n",
       "   'provider': [{'_type': 'Organization',\n",
       "     'name': 'Washington Post',\n",
       "     'image': {'thumbnail': {'contentUrl': 'https://www.bing.com/th?id=AR_04bc0c1c424cf64dec14a2982f0360ef&pid=news'}}}],\n",
       "   'datePublished': '2020-05-31T07:56:00.0000000Z',\n",
       "   'category': 'World'},\n",
       "  {'name': '5 Disability Issues Candidates Need To Understand For The 2020 <b>Elections</b>',\n",
       "   'url': 'https://www.forbes.com/sites/andrewpulrang/2020/05/31/5-disability-issues-candidates-need-to-understand-for-the-2020-elections/',\n",
       "   'image': {'thumbnail': {'contentUrl': 'https://www.bing.com/th?id=ON.887AB2A350B25CD732CAF6BD0C6E6B21&pid=News',\n",
       "     'width': 700,\n",
       "     'height': 393}},\n",
       "   'description': 'There’s little excuse for candidates to offer anything less than real, substantive plans that address disabled people’s most persistent everyday problems. The first step for most candidates is to know what those problems are,',\n",
       "   'provider': [{'_type': 'Organization',\n",
       "     'name': 'Forbes',\n",
       "     'image': {'thumbnail': {'contentUrl': 'https://www.bing.com/th?id=AR_f798ef715781699feff0f3ea5f101626&pid=news'}}}],\n",
       "   'datePublished': '2020-05-31T17:05:00.0000000Z',\n",
       "   'category': 'Politics'},\n",
       "  {'name': 'Trump wants troops in Afghanistan home by <b>presidential election</b>',\n",
       "   'url': 'https://news.yahoo.com/trump-wants-troops-afghanistan-home-234840863.html',\n",
       "   'image': {'thumbnail': {'contentUrl': 'https://www.bing.com/th?id=ON.40E9F9C41B310780C8A0009E3D15F1F7&pid=News',\n",
       "     'width': 700,\n",
       "     'height': 393}},\n",
       "   'description': 'Senior military officials are set to brief President Trump soon on options for removing all American troops from Afghanistan, with one possible timeline for withdrawing forces before the November election,',\n",
       "   'provider': [{'_type': 'Organization',\n",
       "     'name': 'YAHOO!',\n",
       "     'image': {'thumbnail': {'contentUrl': 'https://www.bing.com/th?id=AR_e1eef5681737e5676d7a09990b13411a&pid=news'}}}],\n",
       "   'datePublished': '2020-05-28T00:14:00.0000000Z'},\n",
       "  {'name': 'Flood of mail-in ballots in Pennsylvania spurs fight to change deadlines before November <b>presidential election</b>',\n",
       "   'url': 'https://www.mcall.com/news/pennsylvania/mc-nws-pa-mail-in-ballots-20200528-nplxwaxa4bbglo4btdvfipcf7a-story.html',\n",
       "   'image': {'thumbnail': {'contentUrl': 'https://www.bing.com/th?id=ON.B1C82305D65013D24B93CBC8B5FEAE13&pid=News',\n",
       "     'width': 700,\n",
       "     'height': 466}},\n",
       "   'description': 'Some county and state officials are warning that a flood of mail-in ballots in Pennsylvania will create problems in Tuesday&#39;s primary election that must be fixed before November&#39;s presidential electio',\n",
       "   'about': [{'readLink': 'https://api.cognitive.microsoft.com/api/v7/entities/6304580e-c803-4266-818a-971619176547',\n",
       "     'name': 'Pennsylvania'},\n",
       "    {'readLink': 'https://api.cognitive.microsoft.com/api/v7/entities/aa818bc9-1fd0-ed5a-2842-03de6477f4cc',\n",
       "     'name': 'Ballot'}],\n",
       "   'provider': [{'_type': 'Organization',\n",
       "     'name': 'Morning Call PA',\n",
       "     'image': {'thumbnail': {'contentUrl': 'https://www.bing.com/th?id=AR_676a24c978de7f090dde0c94eb45d444&pid=news'}}}],\n",
       "   'datePublished': '2020-05-28T16:08:00.0000000Z',\n",
       "   'category': 'Politics'},\n",
       "  {'name': 'Mailing of ballots to all voters in Las Vegas area puts sharp focus on <b>election</b> safeguards',\n",
       "   'url': 'https://www.washingtonpost.com/politics/mailing-of-ballots-to-all-voters-in-las-vegas-area-puts-sharp-focus-on-election-safeguards/2020/05/28/912c099a-9f63-11ea-b5c9-570a91917d8d_story.html',\n",
       "   'image': {'thumbnail': {'contentUrl': 'https://www.bing.com/th?id=ON.79EA87BC3764019CBCA1265D57337AF6&pid=News',\n",
       "     'width': 700,\n",
       "     'height': 461}},\n",
       "   'description': 'Republicans have seized on accounts of what appeared to be unattended or discarded ballots as proof that mailing ballots to all voters opens the door to massive election fraud.',\n",
       "   'provider': [{'_type': 'Organization',\n",
       "     'name': 'Washington Post',\n",
       "     'image': {'thumbnail': {'contentUrl': 'https://www.bing.com/th?id=AR_04bc0c1c424cf64dec14a2982f0360ef&pid=news'}}}],\n",
       "   'datePublished': '2020-05-29T18:44:00.0000000Z',\n",
       "   'category': 'Politics'},\n",
       "  {'name': 'Trump confronts a culture war of his own making as <b>election</b> looms',\n",
       "   'url': 'https://www.politico.com/news/2020/05/29/trump-black-voters-police-289564',\n",
       "   'image': {'thumbnail': {'contentUrl': 'https://www.bing.com/th?id=ON.02582B352C5F21BE2EAC79ACD561B82B&pid=News',\n",
       "     'width': 700,\n",
       "     'height': 466}},\n",
       "   'description': 'The president and his top allies are trying to fit his election-year interests in black voters into a political career filled with encouragements of police power.',\n",
       "   'about': [{'readLink': 'https://api.cognitive.microsoft.com/api/v7/entities/1a466af2-ed23-25bd-794d-1ca925e4681b',\n",
       "     'name': 'Donald Trump'},\n",
       "    {'readLink': 'https://api.cognitive.microsoft.com/api/v7/entities/07182109-18e6-0f9a-debb-c574ef9bd08e',\n",
       "     'name': 'Politico'}],\n",
       "   'mentions': [{'name': 'Donald Trump'},\n",
       "    {'name': 'Politico'},\n",
       "    {'name': 'Culture war'}],\n",
       "   'provider': [{'_type': 'Organization',\n",
       "     'name': 'Politico',\n",
       "     'image': {'thumbnail': {'contentUrl': 'https://www.bing.com/th?id=AR_40e264668889b16b5e1b346ab63eb667&pid=news'}}}],\n",
       "   'datePublished': '2020-05-29T21:08:00.0000000Z',\n",
       "   'category': 'Politics'}]}"
      ]
     },
     "execution_count": 26,
     "metadata": {},
     "output_type": "execute_result"
    }
   ],
   "source": [
    "search_results"
   ]
  },
  {
   "cell_type": "code",
   "execution_count": 27,
   "metadata": {},
   "outputs": [],
   "source": [
    "descriptions = [article[\"description\"] for article in search_results[\"value\"]]"
   ]
  },
  {
   "cell_type": "code",
   "execution_count": 28,
   "metadata": {},
   "outputs": [
    {
     "data": {
      "text/html": [
       "<table><tr><td>Nonpartisan groups, such as the Campaign Legal Center, as well as a handful of Democratic organizations, including Priorities USA, are backing lawsuits in more than a dozen states in an effort to eliminate administrative hurdles that could make vote-by-mail difficult or even inaccessible to voters.</td></tr>\n",
       "<tr><td>Like generals, politicians and pundits usually fight the last war.</td></tr>\n",
       "<tr><td>Three former Democratic presidential candidates are delivering remarks to rally Maine Democrats on Sunday against the backdrop of a nation roiled by rage over</td></tr>\n",
       "<tr><td>President Donald Trump remains the slight favorite to win November’s election at European book Betfair with -110 odds; Biden is at +120. That’s been the case for a while now.</td></tr>\n",
       "<tr><td>Warsaw’s liberal mayor Rafal Trzaskowski has made a late entry in Poland’s presidential election and has quickly become the main challenger to the conservative incumbent, Andrzej Duda</td></tr>\n",
       "<tr><td>There’s little excuse for candidates to offer anything less than real, substantive plans that address disabled people’s most persistent everyday problems. The first step for most candidates is to know what those problems are,</td></tr>\n",
       "<tr><td>Senior military officials are set to brief President Trump soon on options for removing all American troops from Afghanistan, with one possible timeline for withdrawing forces before the November election,</td></tr>\n",
       "<tr><td>Some county and state officials are warning that a flood of mail-in ballots in Pennsylvania will create problems in Tuesday&#39;s primary election that must be fixed before November&#39;s presidential electio</td></tr>\n",
       "<tr><td>Republicans have seized on accounts of what appeared to be unattended or discarded ballots as proof that mailing ballots to all voters opens the door to massive election fraud.</td></tr>\n",
       "<tr><td>The president and his top allies are trying to fit his election-year interests in black voters into a political career filled with encouragements of police power.</td></tr></table>"
      ],
      "text/plain": [
       "<IPython.core.display.HTML object>"
      ]
     },
     "execution_count": 28,
     "metadata": {},
     "output_type": "execute_result"
    }
   ],
   "source": [
    "from IPython.display import HTML\n",
    "rows = \"\\n\".join([\"<tr><td>{0}</td></tr>\".format(desc)\n",
    "                  for desc in descriptions])\n",
    "HTML(\"<table>\"+rows+\"</table>\")"
   ]
  },
  {
   "cell_type": "code",
   "execution_count": null,
   "metadata": {},
   "outputs": [],
   "source": []
  }
 ],
 "metadata": {
  "kernelspec": {
   "display_name": "Python 3",
   "language": "python",
   "name": "python3"
  },
  "language_info": {
   "codemirror_mode": {
    "name": "ipython",
    "version": 3
   },
   "file_extension": ".py",
   "mimetype": "text/x-python",
   "name": "python",
   "nbconvert_exporter": "python",
   "pygments_lexer": "ipython3",
   "version": "3.7.3"
  }
 },
 "nbformat": 4,
 "nbformat_minor": 2
}
